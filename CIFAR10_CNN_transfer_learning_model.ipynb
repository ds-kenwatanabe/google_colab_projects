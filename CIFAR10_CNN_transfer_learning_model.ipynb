{
  "nbformat": 4,
  "nbformat_minor": 0,
  "metadata": {
    "colab": {
      "provenance": [],
      "gpuType": "T4",
      "machine_shape": "hm",
      "authorship_tag": "ABX9TyMddmgM/19bs/KXugmxUUuU",
      "include_colab_link": true
    },
    "kernelspec": {
      "name": "python3",
      "display_name": "Python 3"
    },
    "language_info": {
      "name": "python"
    },
    "accelerator": "GPU",
    "widgets": {
      "application/vnd.jupyter.widget-state+json": {
        "0a4baf8cb96449f0816f09c6643e7164": {
          "model_module": "@jupyter-widgets/controls",
          "model_name": "HBoxModel",
          "model_module_version": "1.5.0",
          "state": {
            "_dom_classes": [],
            "_model_module": "@jupyter-widgets/controls",
            "_model_module_version": "1.5.0",
            "_model_name": "HBoxModel",
            "_view_count": null,
            "_view_module": "@jupyter-widgets/controls",
            "_view_module_version": "1.5.0",
            "_view_name": "HBoxView",
            "box_style": "",
            "children": [
              "IPY_MODEL_deb5c51adfd44a269fc8f65e4cd310a5",
              "IPY_MODEL_389c5f7344b345c3b7c9d0882b71e9e6",
              "IPY_MODEL_eb6f7d1b72f34a9e802078d96ab7bcde"
            ],
            "layout": "IPY_MODEL_b592e682c5f443c992ac5fbf66bec90a"
          }
        },
        "deb5c51adfd44a269fc8f65e4cd310a5": {
          "model_module": "@jupyter-widgets/controls",
          "model_name": "HTMLModel",
          "model_module_version": "1.5.0",
          "state": {
            "_dom_classes": [],
            "_model_module": "@jupyter-widgets/controls",
            "_model_module_version": "1.5.0",
            "_model_name": "HTMLModel",
            "_view_count": null,
            "_view_module": "@jupyter-widgets/controls",
            "_view_module_version": "1.5.0",
            "_view_name": "HTMLView",
            "description": "",
            "description_tooltip": null,
            "layout": "IPY_MODEL_770427c9c07442aab34683ba677fe9a2",
            "placeholder": "​",
            "style": "IPY_MODEL_74523bf133d34513bc9b6f22ad82b1d2",
            "value": "100%"
          }
        },
        "389c5f7344b345c3b7c9d0882b71e9e6": {
          "model_module": "@jupyter-widgets/controls",
          "model_name": "FloatProgressModel",
          "model_module_version": "1.5.0",
          "state": {
            "_dom_classes": [],
            "_model_module": "@jupyter-widgets/controls",
            "_model_module_version": "1.5.0",
            "_model_name": "FloatProgressModel",
            "_view_count": null,
            "_view_module": "@jupyter-widgets/controls",
            "_view_module_version": "1.5.0",
            "_view_name": "ProgressView",
            "bar_style": "success",
            "description": "",
            "description_tooltip": null,
            "layout": "IPY_MODEL_6802bbd9f80f465e8950548a9a1819ac",
            "max": 10,
            "min": 0,
            "orientation": "horizontal",
            "style": "IPY_MODEL_11a557603dc641db9a93a1bbbe48f888",
            "value": 10
          }
        },
        "eb6f7d1b72f34a9e802078d96ab7bcde": {
          "model_module": "@jupyter-widgets/controls",
          "model_name": "HTMLModel",
          "model_module_version": "1.5.0",
          "state": {
            "_dom_classes": [],
            "_model_module": "@jupyter-widgets/controls",
            "_model_module_version": "1.5.0",
            "_model_name": "HTMLModel",
            "_view_count": null,
            "_view_module": "@jupyter-widgets/controls",
            "_view_module_version": "1.5.0",
            "_view_name": "HTMLView",
            "description": "",
            "description_tooltip": null,
            "layout": "IPY_MODEL_eeb01d342f04452ca382a9fc2f3deb5b",
            "placeholder": "​",
            "style": "IPY_MODEL_7ccc2840dfd145169e0040d9797bf9db",
            "value": " 10/10 [04:21&lt;00:00, 25.30s/it]"
          }
        },
        "b592e682c5f443c992ac5fbf66bec90a": {
          "model_module": "@jupyter-widgets/base",
          "model_name": "LayoutModel",
          "model_module_version": "1.2.0",
          "state": {
            "_model_module": "@jupyter-widgets/base",
            "_model_module_version": "1.2.0",
            "_model_name": "LayoutModel",
            "_view_count": null,
            "_view_module": "@jupyter-widgets/base",
            "_view_module_version": "1.2.0",
            "_view_name": "LayoutView",
            "align_content": null,
            "align_items": null,
            "align_self": null,
            "border": null,
            "bottom": null,
            "display": null,
            "flex": null,
            "flex_flow": null,
            "grid_area": null,
            "grid_auto_columns": null,
            "grid_auto_flow": null,
            "grid_auto_rows": null,
            "grid_column": null,
            "grid_gap": null,
            "grid_row": null,
            "grid_template_areas": null,
            "grid_template_columns": null,
            "grid_template_rows": null,
            "height": null,
            "justify_content": null,
            "justify_items": null,
            "left": null,
            "margin": null,
            "max_height": null,
            "max_width": null,
            "min_height": null,
            "min_width": null,
            "object_fit": null,
            "object_position": null,
            "order": null,
            "overflow": null,
            "overflow_x": null,
            "overflow_y": null,
            "padding": null,
            "right": null,
            "top": null,
            "visibility": null,
            "width": null
          }
        },
        "770427c9c07442aab34683ba677fe9a2": {
          "model_module": "@jupyter-widgets/base",
          "model_name": "LayoutModel",
          "model_module_version": "1.2.0",
          "state": {
            "_model_module": "@jupyter-widgets/base",
            "_model_module_version": "1.2.0",
            "_model_name": "LayoutModel",
            "_view_count": null,
            "_view_module": "@jupyter-widgets/base",
            "_view_module_version": "1.2.0",
            "_view_name": "LayoutView",
            "align_content": null,
            "align_items": null,
            "align_self": null,
            "border": null,
            "bottom": null,
            "display": null,
            "flex": null,
            "flex_flow": null,
            "grid_area": null,
            "grid_auto_columns": null,
            "grid_auto_flow": null,
            "grid_auto_rows": null,
            "grid_column": null,
            "grid_gap": null,
            "grid_row": null,
            "grid_template_areas": null,
            "grid_template_columns": null,
            "grid_template_rows": null,
            "height": null,
            "justify_content": null,
            "justify_items": null,
            "left": null,
            "margin": null,
            "max_height": null,
            "max_width": null,
            "min_height": null,
            "min_width": null,
            "object_fit": null,
            "object_position": null,
            "order": null,
            "overflow": null,
            "overflow_x": null,
            "overflow_y": null,
            "padding": null,
            "right": null,
            "top": null,
            "visibility": null,
            "width": null
          }
        },
        "74523bf133d34513bc9b6f22ad82b1d2": {
          "model_module": "@jupyter-widgets/controls",
          "model_name": "DescriptionStyleModel",
          "model_module_version": "1.5.0",
          "state": {
            "_model_module": "@jupyter-widgets/controls",
            "_model_module_version": "1.5.0",
            "_model_name": "DescriptionStyleModel",
            "_view_count": null,
            "_view_module": "@jupyter-widgets/base",
            "_view_module_version": "1.2.0",
            "_view_name": "StyleView",
            "description_width": ""
          }
        },
        "6802bbd9f80f465e8950548a9a1819ac": {
          "model_module": "@jupyter-widgets/base",
          "model_name": "LayoutModel",
          "model_module_version": "1.2.0",
          "state": {
            "_model_module": "@jupyter-widgets/base",
            "_model_module_version": "1.2.0",
            "_model_name": "LayoutModel",
            "_view_count": null,
            "_view_module": "@jupyter-widgets/base",
            "_view_module_version": "1.2.0",
            "_view_name": "LayoutView",
            "align_content": null,
            "align_items": null,
            "align_self": null,
            "border": null,
            "bottom": null,
            "display": null,
            "flex": null,
            "flex_flow": null,
            "grid_area": null,
            "grid_auto_columns": null,
            "grid_auto_flow": null,
            "grid_auto_rows": null,
            "grid_column": null,
            "grid_gap": null,
            "grid_row": null,
            "grid_template_areas": null,
            "grid_template_columns": null,
            "grid_template_rows": null,
            "height": null,
            "justify_content": null,
            "justify_items": null,
            "left": null,
            "margin": null,
            "max_height": null,
            "max_width": null,
            "min_height": null,
            "min_width": null,
            "object_fit": null,
            "object_position": null,
            "order": null,
            "overflow": null,
            "overflow_x": null,
            "overflow_y": null,
            "padding": null,
            "right": null,
            "top": null,
            "visibility": null,
            "width": null
          }
        },
        "11a557603dc641db9a93a1bbbe48f888": {
          "model_module": "@jupyter-widgets/controls",
          "model_name": "ProgressStyleModel",
          "model_module_version": "1.5.0",
          "state": {
            "_model_module": "@jupyter-widgets/controls",
            "_model_module_version": "1.5.0",
            "_model_name": "ProgressStyleModel",
            "_view_count": null,
            "_view_module": "@jupyter-widgets/base",
            "_view_module_version": "1.2.0",
            "_view_name": "StyleView",
            "bar_color": null,
            "description_width": ""
          }
        },
        "eeb01d342f04452ca382a9fc2f3deb5b": {
          "model_module": "@jupyter-widgets/base",
          "model_name": "LayoutModel",
          "model_module_version": "1.2.0",
          "state": {
            "_model_module": "@jupyter-widgets/base",
            "_model_module_version": "1.2.0",
            "_model_name": "LayoutModel",
            "_view_count": null,
            "_view_module": "@jupyter-widgets/base",
            "_view_module_version": "1.2.0",
            "_view_name": "LayoutView",
            "align_content": null,
            "align_items": null,
            "align_self": null,
            "border": null,
            "bottom": null,
            "display": null,
            "flex": null,
            "flex_flow": null,
            "grid_area": null,
            "grid_auto_columns": null,
            "grid_auto_flow": null,
            "grid_auto_rows": null,
            "grid_column": null,
            "grid_gap": null,
            "grid_row": null,
            "grid_template_areas": null,
            "grid_template_columns": null,
            "grid_template_rows": null,
            "height": null,
            "justify_content": null,
            "justify_items": null,
            "left": null,
            "margin": null,
            "max_height": null,
            "max_width": null,
            "min_height": null,
            "min_width": null,
            "object_fit": null,
            "object_position": null,
            "order": null,
            "overflow": null,
            "overflow_x": null,
            "overflow_y": null,
            "padding": null,
            "right": null,
            "top": null,
            "visibility": null,
            "width": null
          }
        },
        "7ccc2840dfd145169e0040d9797bf9db": {
          "model_module": "@jupyter-widgets/controls",
          "model_name": "DescriptionStyleModel",
          "model_module_version": "1.5.0",
          "state": {
            "_model_module": "@jupyter-widgets/controls",
            "_model_module_version": "1.5.0",
            "_model_name": "DescriptionStyleModel",
            "_view_count": null,
            "_view_module": "@jupyter-widgets/base",
            "_view_module_version": "1.2.0",
            "_view_name": "StyleView",
            "description_width": ""
          }
        },
        "8af37f77562e4893b17e1f16664e4a24": {
          "model_module": "@jupyter-widgets/controls",
          "model_name": "HBoxModel",
          "model_module_version": "1.5.0",
          "state": {
            "_dom_classes": [],
            "_model_module": "@jupyter-widgets/controls",
            "_model_module_version": "1.5.0",
            "_model_name": "HBoxModel",
            "_view_count": null,
            "_view_module": "@jupyter-widgets/controls",
            "_view_module_version": "1.5.0",
            "_view_name": "HBoxView",
            "box_style": "",
            "children": [
              "IPY_MODEL_d918c4dfd27c4834887ec33fdcb2df05",
              "IPY_MODEL_8074b361b5cb41b7b45696376a360e55",
              "IPY_MODEL_79a200ea4011403f8b982fca2de5f2fd"
            ],
            "layout": "IPY_MODEL_074aeb9b8230460db06d0aedba0a8c07"
          }
        },
        "d918c4dfd27c4834887ec33fdcb2df05": {
          "model_module": "@jupyter-widgets/controls",
          "model_name": "HTMLModel",
          "model_module_version": "1.5.0",
          "state": {
            "_dom_classes": [],
            "_model_module": "@jupyter-widgets/controls",
            "_model_module_version": "1.5.0",
            "_model_name": "HTMLModel",
            "_view_count": null,
            "_view_module": "@jupyter-widgets/controls",
            "_view_module_version": "1.5.0",
            "_view_name": "HTMLView",
            "description": "",
            "description_tooltip": null,
            "layout": "IPY_MODEL_5a18e3e499534267b2fcf748b4d15997",
            "placeholder": "​",
            "style": "IPY_MODEL_165132c21c864ab8858f79d3159ce6e6",
            "value": "100%"
          }
        },
        "8074b361b5cb41b7b45696376a360e55": {
          "model_module": "@jupyter-widgets/controls",
          "model_name": "FloatProgressModel",
          "model_module_version": "1.5.0",
          "state": {
            "_dom_classes": [],
            "_model_module": "@jupyter-widgets/controls",
            "_model_module_version": "1.5.0",
            "_model_name": "FloatProgressModel",
            "_view_count": null,
            "_view_module": "@jupyter-widgets/controls",
            "_view_module_version": "1.5.0",
            "_view_name": "ProgressView",
            "bar_style": "success",
            "description": "",
            "description_tooltip": null,
            "layout": "IPY_MODEL_b8e5520e772d410497aa68d8702ad7b2",
            "max": 10,
            "min": 0,
            "orientation": "horizontal",
            "style": "IPY_MODEL_0cbac3587802462aa980163c10ed4517",
            "value": 10
          }
        },
        "79a200ea4011403f8b982fca2de5f2fd": {
          "model_module": "@jupyter-widgets/controls",
          "model_name": "HTMLModel",
          "model_module_version": "1.5.0",
          "state": {
            "_dom_classes": [],
            "_model_module": "@jupyter-widgets/controls",
            "_model_module_version": "1.5.0",
            "_model_name": "HTMLModel",
            "_view_count": null,
            "_view_module": "@jupyter-widgets/controls",
            "_view_module_version": "1.5.0",
            "_view_name": "HTMLView",
            "description": "",
            "description_tooltip": null,
            "layout": "IPY_MODEL_7de379ff25c04160839466690226b415",
            "placeholder": "​",
            "style": "IPY_MODEL_365c5b5fa17d459eb3fcfdee7fc2c68c",
            "value": " 10/10 [04:29&lt;00:00, 26.82s/it]"
          }
        },
        "074aeb9b8230460db06d0aedba0a8c07": {
          "model_module": "@jupyter-widgets/base",
          "model_name": "LayoutModel",
          "model_module_version": "1.2.0",
          "state": {
            "_model_module": "@jupyter-widgets/base",
            "_model_module_version": "1.2.0",
            "_model_name": "LayoutModel",
            "_view_count": null,
            "_view_module": "@jupyter-widgets/base",
            "_view_module_version": "1.2.0",
            "_view_name": "LayoutView",
            "align_content": null,
            "align_items": null,
            "align_self": null,
            "border": null,
            "bottom": null,
            "display": null,
            "flex": null,
            "flex_flow": null,
            "grid_area": null,
            "grid_auto_columns": null,
            "grid_auto_flow": null,
            "grid_auto_rows": null,
            "grid_column": null,
            "grid_gap": null,
            "grid_row": null,
            "grid_template_areas": null,
            "grid_template_columns": null,
            "grid_template_rows": null,
            "height": null,
            "justify_content": null,
            "justify_items": null,
            "left": null,
            "margin": null,
            "max_height": null,
            "max_width": null,
            "min_height": null,
            "min_width": null,
            "object_fit": null,
            "object_position": null,
            "order": null,
            "overflow": null,
            "overflow_x": null,
            "overflow_y": null,
            "padding": null,
            "right": null,
            "top": null,
            "visibility": null,
            "width": null
          }
        },
        "5a18e3e499534267b2fcf748b4d15997": {
          "model_module": "@jupyter-widgets/base",
          "model_name": "LayoutModel",
          "model_module_version": "1.2.0",
          "state": {
            "_model_module": "@jupyter-widgets/base",
            "_model_module_version": "1.2.0",
            "_model_name": "LayoutModel",
            "_view_count": null,
            "_view_module": "@jupyter-widgets/base",
            "_view_module_version": "1.2.0",
            "_view_name": "LayoutView",
            "align_content": null,
            "align_items": null,
            "align_self": null,
            "border": null,
            "bottom": null,
            "display": null,
            "flex": null,
            "flex_flow": null,
            "grid_area": null,
            "grid_auto_columns": null,
            "grid_auto_flow": null,
            "grid_auto_rows": null,
            "grid_column": null,
            "grid_gap": null,
            "grid_row": null,
            "grid_template_areas": null,
            "grid_template_columns": null,
            "grid_template_rows": null,
            "height": null,
            "justify_content": null,
            "justify_items": null,
            "left": null,
            "margin": null,
            "max_height": null,
            "max_width": null,
            "min_height": null,
            "min_width": null,
            "object_fit": null,
            "object_position": null,
            "order": null,
            "overflow": null,
            "overflow_x": null,
            "overflow_y": null,
            "padding": null,
            "right": null,
            "top": null,
            "visibility": null,
            "width": null
          }
        },
        "165132c21c864ab8858f79d3159ce6e6": {
          "model_module": "@jupyter-widgets/controls",
          "model_name": "DescriptionStyleModel",
          "model_module_version": "1.5.0",
          "state": {
            "_model_module": "@jupyter-widgets/controls",
            "_model_module_version": "1.5.0",
            "_model_name": "DescriptionStyleModel",
            "_view_count": null,
            "_view_module": "@jupyter-widgets/base",
            "_view_module_version": "1.2.0",
            "_view_name": "StyleView",
            "description_width": ""
          }
        },
        "b8e5520e772d410497aa68d8702ad7b2": {
          "model_module": "@jupyter-widgets/base",
          "model_name": "LayoutModel",
          "model_module_version": "1.2.0",
          "state": {
            "_model_module": "@jupyter-widgets/base",
            "_model_module_version": "1.2.0",
            "_model_name": "LayoutModel",
            "_view_count": null,
            "_view_module": "@jupyter-widgets/base",
            "_view_module_version": "1.2.0",
            "_view_name": "LayoutView",
            "align_content": null,
            "align_items": null,
            "align_self": null,
            "border": null,
            "bottom": null,
            "display": null,
            "flex": null,
            "flex_flow": null,
            "grid_area": null,
            "grid_auto_columns": null,
            "grid_auto_flow": null,
            "grid_auto_rows": null,
            "grid_column": null,
            "grid_gap": null,
            "grid_row": null,
            "grid_template_areas": null,
            "grid_template_columns": null,
            "grid_template_rows": null,
            "height": null,
            "justify_content": null,
            "justify_items": null,
            "left": null,
            "margin": null,
            "max_height": null,
            "max_width": null,
            "min_height": null,
            "min_width": null,
            "object_fit": null,
            "object_position": null,
            "order": null,
            "overflow": null,
            "overflow_x": null,
            "overflow_y": null,
            "padding": null,
            "right": null,
            "top": null,
            "visibility": null,
            "width": null
          }
        },
        "0cbac3587802462aa980163c10ed4517": {
          "model_module": "@jupyter-widgets/controls",
          "model_name": "ProgressStyleModel",
          "model_module_version": "1.5.0",
          "state": {
            "_model_module": "@jupyter-widgets/controls",
            "_model_module_version": "1.5.0",
            "_model_name": "ProgressStyleModel",
            "_view_count": null,
            "_view_module": "@jupyter-widgets/base",
            "_view_module_version": "1.2.0",
            "_view_name": "StyleView",
            "bar_color": null,
            "description_width": ""
          }
        },
        "7de379ff25c04160839466690226b415": {
          "model_module": "@jupyter-widgets/base",
          "model_name": "LayoutModel",
          "model_module_version": "1.2.0",
          "state": {
            "_model_module": "@jupyter-widgets/base",
            "_model_module_version": "1.2.0",
            "_model_name": "LayoutModel",
            "_view_count": null,
            "_view_module": "@jupyter-widgets/base",
            "_view_module_version": "1.2.0",
            "_view_name": "LayoutView",
            "align_content": null,
            "align_items": null,
            "align_self": null,
            "border": null,
            "bottom": null,
            "display": null,
            "flex": null,
            "flex_flow": null,
            "grid_area": null,
            "grid_auto_columns": null,
            "grid_auto_flow": null,
            "grid_auto_rows": null,
            "grid_column": null,
            "grid_gap": null,
            "grid_row": null,
            "grid_template_areas": null,
            "grid_template_columns": null,
            "grid_template_rows": null,
            "height": null,
            "justify_content": null,
            "justify_items": null,
            "left": null,
            "margin": null,
            "max_height": null,
            "max_width": null,
            "min_height": null,
            "min_width": null,
            "object_fit": null,
            "object_position": null,
            "order": null,
            "overflow": null,
            "overflow_x": null,
            "overflow_y": null,
            "padding": null,
            "right": null,
            "top": null,
            "visibility": null,
            "width": null
          }
        },
        "365c5b5fa17d459eb3fcfdee7fc2c68c": {
          "model_module": "@jupyter-widgets/controls",
          "model_name": "DescriptionStyleModel",
          "model_module_version": "1.5.0",
          "state": {
            "_model_module": "@jupyter-widgets/controls",
            "_model_module_version": "1.5.0",
            "_model_name": "DescriptionStyleModel",
            "_view_count": null,
            "_view_module": "@jupyter-widgets/base",
            "_view_module_version": "1.2.0",
            "_view_name": "StyleView",
            "description_width": ""
          }
        },
        "405835e0d7844b28a6ed46b581f38ffb": {
          "model_module": "@jupyter-widgets/controls",
          "model_name": "HBoxModel",
          "model_module_version": "1.5.0",
          "state": {
            "_dom_classes": [],
            "_model_module": "@jupyter-widgets/controls",
            "_model_module_version": "1.5.0",
            "_model_name": "HBoxModel",
            "_view_count": null,
            "_view_module": "@jupyter-widgets/controls",
            "_view_module_version": "1.5.0",
            "_view_name": "HBoxView",
            "box_style": "",
            "children": [
              "IPY_MODEL_8382c49a3fd840cc937dce54eae6bacd",
              "IPY_MODEL_ddd21d95e6ad4f2aae1afd866baea1fb",
              "IPY_MODEL_74f167867f614db8a6eb01e540e61331"
            ],
            "layout": "IPY_MODEL_bec5cc3337704bf7846a2fbda9617e76"
          }
        },
        "8382c49a3fd840cc937dce54eae6bacd": {
          "model_module": "@jupyter-widgets/controls",
          "model_name": "HTMLModel",
          "model_module_version": "1.5.0",
          "state": {
            "_dom_classes": [],
            "_model_module": "@jupyter-widgets/controls",
            "_model_module_version": "1.5.0",
            "_model_name": "HTMLModel",
            "_view_count": null,
            "_view_module": "@jupyter-widgets/controls",
            "_view_module_version": "1.5.0",
            "_view_name": "HTMLView",
            "description": "",
            "description_tooltip": null,
            "layout": "IPY_MODEL_d6947bb23de74323921e01e3283de17f",
            "placeholder": "​",
            "style": "IPY_MODEL_a02c5cb3f0f446a890d7e679afbaef5a",
            "value": "100%"
          }
        },
        "ddd21d95e6ad4f2aae1afd866baea1fb": {
          "model_module": "@jupyter-widgets/controls",
          "model_name": "FloatProgressModel",
          "model_module_version": "1.5.0",
          "state": {
            "_dom_classes": [],
            "_model_module": "@jupyter-widgets/controls",
            "_model_module_version": "1.5.0",
            "_model_name": "FloatProgressModel",
            "_view_count": null,
            "_view_module": "@jupyter-widgets/controls",
            "_view_module_version": "1.5.0",
            "_view_name": "ProgressView",
            "bar_style": "success",
            "description": "",
            "description_tooltip": null,
            "layout": "IPY_MODEL_ab707bf59e354bffa929eb1860c2c5e8",
            "max": 10,
            "min": 0,
            "orientation": "horizontal",
            "style": "IPY_MODEL_93963b7bfb464c9da5a2731548bf8ed1",
            "value": 10
          }
        },
        "74f167867f614db8a6eb01e540e61331": {
          "model_module": "@jupyter-widgets/controls",
          "model_name": "HTMLModel",
          "model_module_version": "1.5.0",
          "state": {
            "_dom_classes": [],
            "_model_module": "@jupyter-widgets/controls",
            "_model_module_version": "1.5.0",
            "_model_name": "HTMLModel",
            "_view_count": null,
            "_view_module": "@jupyter-widgets/controls",
            "_view_module_version": "1.5.0",
            "_view_name": "HTMLView",
            "description": "",
            "description_tooltip": null,
            "layout": "IPY_MODEL_b9ccabd501764198880d0f8968f475c5",
            "placeholder": "​",
            "style": "IPY_MODEL_b480d6b512004d509f25b7ff239e9ac1",
            "value": " 10/10 [23:46&lt;00:00, 143.73s/it]"
          }
        },
        "bec5cc3337704bf7846a2fbda9617e76": {
          "model_module": "@jupyter-widgets/base",
          "model_name": "LayoutModel",
          "model_module_version": "1.2.0",
          "state": {
            "_model_module": "@jupyter-widgets/base",
            "_model_module_version": "1.2.0",
            "_model_name": "LayoutModel",
            "_view_count": null,
            "_view_module": "@jupyter-widgets/base",
            "_view_module_version": "1.2.0",
            "_view_name": "LayoutView",
            "align_content": null,
            "align_items": null,
            "align_self": null,
            "border": null,
            "bottom": null,
            "display": null,
            "flex": null,
            "flex_flow": null,
            "grid_area": null,
            "grid_auto_columns": null,
            "grid_auto_flow": null,
            "grid_auto_rows": null,
            "grid_column": null,
            "grid_gap": null,
            "grid_row": null,
            "grid_template_areas": null,
            "grid_template_columns": null,
            "grid_template_rows": null,
            "height": null,
            "justify_content": null,
            "justify_items": null,
            "left": null,
            "margin": null,
            "max_height": null,
            "max_width": null,
            "min_height": null,
            "min_width": null,
            "object_fit": null,
            "object_position": null,
            "order": null,
            "overflow": null,
            "overflow_x": null,
            "overflow_y": null,
            "padding": null,
            "right": null,
            "top": null,
            "visibility": null,
            "width": null
          }
        },
        "d6947bb23de74323921e01e3283de17f": {
          "model_module": "@jupyter-widgets/base",
          "model_name": "LayoutModel",
          "model_module_version": "1.2.0",
          "state": {
            "_model_module": "@jupyter-widgets/base",
            "_model_module_version": "1.2.0",
            "_model_name": "LayoutModel",
            "_view_count": null,
            "_view_module": "@jupyter-widgets/base",
            "_view_module_version": "1.2.0",
            "_view_name": "LayoutView",
            "align_content": null,
            "align_items": null,
            "align_self": null,
            "border": null,
            "bottom": null,
            "display": null,
            "flex": null,
            "flex_flow": null,
            "grid_area": null,
            "grid_auto_columns": null,
            "grid_auto_flow": null,
            "grid_auto_rows": null,
            "grid_column": null,
            "grid_gap": null,
            "grid_row": null,
            "grid_template_areas": null,
            "grid_template_columns": null,
            "grid_template_rows": null,
            "height": null,
            "justify_content": null,
            "justify_items": null,
            "left": null,
            "margin": null,
            "max_height": null,
            "max_width": null,
            "min_height": null,
            "min_width": null,
            "object_fit": null,
            "object_position": null,
            "order": null,
            "overflow": null,
            "overflow_x": null,
            "overflow_y": null,
            "padding": null,
            "right": null,
            "top": null,
            "visibility": null,
            "width": null
          }
        },
        "a02c5cb3f0f446a890d7e679afbaef5a": {
          "model_module": "@jupyter-widgets/controls",
          "model_name": "DescriptionStyleModel",
          "model_module_version": "1.5.0",
          "state": {
            "_model_module": "@jupyter-widgets/controls",
            "_model_module_version": "1.5.0",
            "_model_name": "DescriptionStyleModel",
            "_view_count": null,
            "_view_module": "@jupyter-widgets/base",
            "_view_module_version": "1.2.0",
            "_view_name": "StyleView",
            "description_width": ""
          }
        },
        "ab707bf59e354bffa929eb1860c2c5e8": {
          "model_module": "@jupyter-widgets/base",
          "model_name": "LayoutModel",
          "model_module_version": "1.2.0",
          "state": {
            "_model_module": "@jupyter-widgets/base",
            "_model_module_version": "1.2.0",
            "_model_name": "LayoutModel",
            "_view_count": null,
            "_view_module": "@jupyter-widgets/base",
            "_view_module_version": "1.2.0",
            "_view_name": "LayoutView",
            "align_content": null,
            "align_items": null,
            "align_self": null,
            "border": null,
            "bottom": null,
            "display": null,
            "flex": null,
            "flex_flow": null,
            "grid_area": null,
            "grid_auto_columns": null,
            "grid_auto_flow": null,
            "grid_auto_rows": null,
            "grid_column": null,
            "grid_gap": null,
            "grid_row": null,
            "grid_template_areas": null,
            "grid_template_columns": null,
            "grid_template_rows": null,
            "height": null,
            "justify_content": null,
            "justify_items": null,
            "left": null,
            "margin": null,
            "max_height": null,
            "max_width": null,
            "min_height": null,
            "min_width": null,
            "object_fit": null,
            "object_position": null,
            "order": null,
            "overflow": null,
            "overflow_x": null,
            "overflow_y": null,
            "padding": null,
            "right": null,
            "top": null,
            "visibility": null,
            "width": null
          }
        },
        "93963b7bfb464c9da5a2731548bf8ed1": {
          "model_module": "@jupyter-widgets/controls",
          "model_name": "ProgressStyleModel",
          "model_module_version": "1.5.0",
          "state": {
            "_model_module": "@jupyter-widgets/controls",
            "_model_module_version": "1.5.0",
            "_model_name": "ProgressStyleModel",
            "_view_count": null,
            "_view_module": "@jupyter-widgets/base",
            "_view_module_version": "1.2.0",
            "_view_name": "StyleView",
            "bar_color": null,
            "description_width": ""
          }
        },
        "b9ccabd501764198880d0f8968f475c5": {
          "model_module": "@jupyter-widgets/base",
          "model_name": "LayoutModel",
          "model_module_version": "1.2.0",
          "state": {
            "_model_module": "@jupyter-widgets/base",
            "_model_module_version": "1.2.0",
            "_model_name": "LayoutModel",
            "_view_count": null,
            "_view_module": "@jupyter-widgets/base",
            "_view_module_version": "1.2.0",
            "_view_name": "LayoutView",
            "align_content": null,
            "align_items": null,
            "align_self": null,
            "border": null,
            "bottom": null,
            "display": null,
            "flex": null,
            "flex_flow": null,
            "grid_area": null,
            "grid_auto_columns": null,
            "grid_auto_flow": null,
            "grid_auto_rows": null,
            "grid_column": null,
            "grid_gap": null,
            "grid_row": null,
            "grid_template_areas": null,
            "grid_template_columns": null,
            "grid_template_rows": null,
            "height": null,
            "justify_content": null,
            "justify_items": null,
            "left": null,
            "margin": null,
            "max_height": null,
            "max_width": null,
            "min_height": null,
            "min_width": null,
            "object_fit": null,
            "object_position": null,
            "order": null,
            "overflow": null,
            "overflow_x": null,
            "overflow_y": null,
            "padding": null,
            "right": null,
            "top": null,
            "visibility": null,
            "width": null
          }
        },
        "b480d6b512004d509f25b7ff239e9ac1": {
          "model_module": "@jupyter-widgets/controls",
          "model_name": "DescriptionStyleModel",
          "model_module_version": "1.5.0",
          "state": {
            "_model_module": "@jupyter-widgets/controls",
            "_model_module_version": "1.5.0",
            "_model_name": "DescriptionStyleModel",
            "_view_count": null,
            "_view_module": "@jupyter-widgets/base",
            "_view_module_version": "1.2.0",
            "_view_name": "StyleView",
            "description_width": ""
          }
        }
      }
    }
  },
  "cells": [
    {
      "cell_type": "markdown",
      "metadata": {
        "id": "view-in-github",
        "colab_type": "text"
      },
      "source": [
        "<a href=\"https://colab.research.google.com/github/ds-kenwatanabe/google_colab_projects/blob/main/CIFAR10_CNN_transfer_learning_model.ipynb\" target=\"_parent\"><img src=\"https://colab.research.google.com/assets/colab-badge.svg\" alt=\"Open In Colab\"/></a>"
      ]
    },
    {
      "cell_type": "markdown",
      "source": [
        "# Building a CNN PyTorch model using the CIFAR-10 dataset\n",
        "\n",
        "See the dataset info on: https://www.cs.toronto.edu/~kriz/cifar.html"
      ],
      "metadata": {
        "id": "Hx0TzH4RWOB0"
      }
    },
    {
      "cell_type": "code",
      "execution_count": 1,
      "metadata": {
        "id": "qyya4fd3GOAI",
        "colab": {
          "base_uri": "https://localhost:8080/"
        },
        "outputId": "d03fe9f3-7528-4847-c1b2-47c342686abe"
      },
      "outputs": [
        {
          "output_type": "stream",
          "name": "stdout",
          "text": [
            "[INFO] Couldn't find torchinfo... installing it.\n"
          ]
        }
      ],
      "source": [
        "import torch\n",
        "import torchvision\n",
        "from torch import nn\n",
        "import torchvision.transforms as transforms\n",
        "from torch.utils.data import DataLoader\n",
        "from torchvision.datasets import CIFAR10\n",
        "import matplotlib.pyplot as plt\n",
        "# Try to get torchinfo, install it if it doesn't work\n",
        "try:\n",
        "    from torchinfo import summary\n",
        "except:\n",
        "    print(\"[INFO] Couldn't find torchinfo... installing it.\")\n",
        "    !pip install -q torchinfo\n",
        "    from torchinfo import summary\n"
      ]
    },
    {
      "cell_type": "code",
      "source": [
        "# Run device agnostic code\n",
        "device = \"cuda\" if torch.cuda.is_available() else \"cpu\"\n",
        "device"
      ],
      "metadata": {
        "colab": {
          "base_uri": "https://localhost:8080/",
          "height": 35
        },
        "id": "Jqc0VQaBIT_7",
        "outputId": "903a42d6-24da-4464-cdee-630201bdddcc"
      },
      "execution_count": 2,
      "outputs": [
        {
          "output_type": "execute_result",
          "data": {
            "text/plain": [
              "'cuda'"
            ],
            "application/vnd.google.colaboratory.intrinsic+json": {
              "type": "string"
            }
          },
          "metadata": {},
          "execution_count": 2
        }
      ]
    },
    {
      "cell_type": "code",
      "source": [
        "!nvidia-smi"
      ],
      "metadata": {
        "colab": {
          "base_uri": "https://localhost:8080/"
        },
        "id": "8oXEkVuptMWB",
        "outputId": "c49f7ac3-8564-49dc-af31-a75b6cf4130a"
      },
      "execution_count": 3,
      "outputs": [
        {
          "output_type": "stream",
          "name": "stdout",
          "text": [
            "Tue Aug  8 12:00:11 2023       \n",
            "+-----------------------------------------------------------------------------+\n",
            "| NVIDIA-SMI 525.105.17   Driver Version: 525.105.17   CUDA Version: 12.0     |\n",
            "|-------------------------------+----------------------+----------------------+\n",
            "| GPU  Name        Persistence-M| Bus-Id        Disp.A | Volatile Uncorr. ECC |\n",
            "| Fan  Temp  Perf  Pwr:Usage/Cap|         Memory-Usage | GPU-Util  Compute M. |\n",
            "|                               |                      |               MIG M. |\n",
            "|===============================+======================+======================|\n",
            "|   0  Tesla T4            Off  | 00000000:00:04.0 Off |                    0 |\n",
            "| N/A   57C    P8    11W /  70W |      3MiB / 15360MiB |      0%      Default |\n",
            "|                               |                      |                  N/A |\n",
            "+-------------------------------+----------------------+----------------------+\n",
            "                                                                               \n",
            "+-----------------------------------------------------------------------------+\n",
            "| Processes:                                                                  |\n",
            "|  GPU   GI   CI        PID   Type   Process name                  GPU Memory |\n",
            "|        ID   ID                                                   Usage      |\n",
            "|=============================================================================|\n",
            "|  No running processes found                                                 |\n",
            "+-----------------------------------------------------------------------------+\n"
          ]
        }
      ]
    },
    {
      "cell_type": "code",
      "source": [
        "# Set up train and test splits\n",
        "train_data = CIFAR10(root=\"data\",\n",
        "                     download=True,\n",
        "                     train=True,\n",
        "                     transform=transforms.Compose([\n",
        "                          transforms.Resize((32, 32)),\n",
        "                          transforms.RandomPerspective(p=0.2),\n",
        "                          transforms.RandomInvert(p=0.2),\n",
        "                          transforms.RandomRotation(degrees=(0, 70)),\n",
        "                          transforms.ToTensor()]))\n",
        "\n",
        "test_data = CIFAR10(root=\"data\",\n",
        "                    download=True,\n",
        "                    train=False,\n",
        "                    transform=transforms.Compose([\n",
        "                        transforms.Resize((32, 32)),\n",
        "                        transforms.ToTensor()]))\n"
      ],
      "metadata": {
        "id": "_O4BBk3VImvL",
        "colab": {
          "base_uri": "https://localhost:8080/"
        },
        "outputId": "e1d0a76b-a72e-4138-9947-2806aa9bce05"
      },
      "execution_count": 4,
      "outputs": [
        {
          "output_type": "stream",
          "name": "stdout",
          "text": [
            "Downloading https://www.cs.toronto.edu/~kriz/cifar-10-python.tar.gz to data/cifar-10-python.tar.gz\n"
          ]
        },
        {
          "output_type": "stream",
          "name": "stderr",
          "text": [
            "100%|██████████| 170498071/170498071 [00:02<00:00, 72487898.97it/s]\n"
          ]
        },
        {
          "output_type": "stream",
          "name": "stdout",
          "text": [
            "Extracting data/cifar-10-python.tar.gz to data\n",
            "Files already downloaded and verified\n"
          ]
        }
      ]
    },
    {
      "cell_type": "code",
      "source": [
        "len(train_data), len(test_data)"
      ],
      "metadata": {
        "colab": {
          "base_uri": "https://localhost:8080/"
        },
        "id": "5YF4ViLIloJB",
        "outputId": "cda3029a-a1b3-481d-acb9-7370db73780d"
      },
      "execution_count": 5,
      "outputs": [
        {
          "output_type": "execute_result",
          "data": {
            "text/plain": [
              "(50000, 10000)"
            ]
          },
          "metadata": {},
          "execution_count": 5
        }
      ]
    },
    {
      "cell_type": "code",
      "source": [
        "# Checking first image\n",
        "image, label = train_data[0]\n",
        "image, label"
      ],
      "metadata": {
        "colab": {
          "base_uri": "https://localhost:8080/"
        },
        "id": "L1EULmkaKjSy",
        "outputId": "85148661-5193-435a-80d0-d4e9d8187b0d"
      },
      "execution_count": 6,
      "outputs": [
        {
          "output_type": "execute_result",
          "data": {
            "text/plain": [
              "(tensor([[[0., 0., 0.,  ..., 0., 0., 0.],\n",
              "          [0., 0., 0.,  ..., 0., 0., 0.],\n",
              "          [0., 0., 0.,  ..., 0., 0., 0.],\n",
              "          ...,\n",
              "          [0., 0., 0.,  ..., 0., 0., 0.],\n",
              "          [0., 0., 0.,  ..., 0., 0., 0.],\n",
              "          [0., 0., 0.,  ..., 0., 0., 0.]],\n",
              " \n",
              "         [[0., 0., 0.,  ..., 0., 0., 0.],\n",
              "          [0., 0., 0.,  ..., 0., 0., 0.],\n",
              "          [0., 0., 0.,  ..., 0., 0., 0.],\n",
              "          ...,\n",
              "          [0., 0., 0.,  ..., 0., 0., 0.],\n",
              "          [0., 0., 0.,  ..., 0., 0., 0.],\n",
              "          [0., 0., 0.,  ..., 0., 0., 0.]],\n",
              " \n",
              "         [[0., 0., 0.,  ..., 0., 0., 0.],\n",
              "          [0., 0., 0.,  ..., 0., 0., 0.],\n",
              "          [0., 0., 0.,  ..., 0., 0., 0.],\n",
              "          ...,\n",
              "          [0., 0., 0.,  ..., 0., 0., 0.],\n",
              "          [0., 0., 0.,  ..., 0., 0., 0.],\n",
              "          [0., 0., 0.,  ..., 0., 0., 0.]]]),\n",
              " 6)"
            ]
          },
          "metadata": {},
          "execution_count": 6
        }
      ]
    },
    {
      "cell_type": "code",
      "source": [
        "# Image shape\n",
        "image.shape"
      ],
      "metadata": {
        "colab": {
          "base_uri": "https://localhost:8080/"
        },
        "id": "3b59EA9SKvVP",
        "outputId": "66f2bb13-550f-45d2-c83e-61c61c7f5f1a"
      },
      "execution_count": 7,
      "outputs": [
        {
          "output_type": "execute_result",
          "data": {
            "text/plain": [
              "torch.Size([3, 32, 32])"
            ]
          },
          "metadata": {},
          "execution_count": 7
        }
      ]
    },
    {
      "cell_type": "code",
      "source": [
        "# See classes\n",
        "class_names = train_data.classes\n",
        "class_names, len(class_names)"
      ],
      "metadata": {
        "colab": {
          "base_uri": "https://localhost:8080/"
        },
        "id": "iRAWp-VGLdeb",
        "outputId": "035c4cfa-cc2c-48fe-8aef-60f3378d748b"
      },
      "execution_count": 8,
      "outputs": [
        {
          "output_type": "execute_result",
          "data": {
            "text/plain": [
              "(['airplane',\n",
              "  'automobile',\n",
              "  'bird',\n",
              "  'cat',\n",
              "  'deer',\n",
              "  'dog',\n",
              "  'frog',\n",
              "  'horse',\n",
              "  'ship',\n",
              "  'truck'],\n",
              " 10)"
            ]
          },
          "metadata": {},
          "execution_count": 8
        }
      ]
    },
    {
      "cell_type": "code",
      "source": [
        "# Visualize first image\n",
        "# image shape is [3, 64, 64] (colour channels, height, width)\n",
        "\n",
        "fig = plt.figure(figsize=(9, 9))\n",
        "rows, cols = 4, 4\n",
        "for i in range(1, rows * cols + 1):\n",
        "    random_idx = torch.randint(0, len(train_data), size=[1]).item()\n",
        "    img, label = train_data[random_idx]\n",
        "    fig.add_subplot(rows, cols, i)\n",
        "    plt.imshow(img.squeeze().permute(1, 2, 0))\n",
        "    plt.title(class_names[label])\n",
        "    plt.axis(False)\n",
        "    plt.show()"
      ],
      "metadata": {
        "colab": {
          "base_uri": "https://localhost:8080/",
          "height": 1000
        },
        "id": "EsuA-V3pNkkj",
        "outputId": "6c7e82ae-8a85-4922-a076-9d5454c8d00d"
      },
      "execution_count": 9,
      "outputs": [
        {
          "output_type": "display_data",
          "data": {
            "text/plain": [
              "<Figure size 900x900 with 1 Axes>"
            ],
            "image/png": "[encoded data removed]"
          },
          "metadata": {}
        },
        {
          "output_type": "display_data",
          "data": {
            "text/plain": [
              "<Figure size 640x480 with 1 Axes>"
            ],
            "image/png": "[encoded data removed]"
          },
          "metadata": {}
        },
        {
          "output_type": "display_data",
          "data": {
            "text/plain": [
              "<Figure size 640x480 with 1 Axes>"
            ],
            "image/png": "[encoded data removed]"
          },
          "metadata": {}
        },
        {
          "output_type": "display_data",
          "data": {
            "text/plain": [
              "<Figure size 640x480 with 1 Axes>"
            ],
            "image/png": "[encoded data removed]"
          },
          "metadata": {}
        },
        {
          "output_type": "display_data",
          "data": {
            "text/plain": [
              "<Figure size 640x480 with 1 Axes>"
            ],
            "image/png": "[encoded data removed]"
          },
          "metadata": {}
        },
        {
          "output_type": "display_data",
          "data": {
            "text/plain": [
              "<Figure size 640x480 with 1 Axes>"
            ],
            "image/png": "[encoded data removed]"
          },
          "metadata": {}
        },
        {
          "output_type": "display_data",
          "data": {
            "text/plain": [
              "<Figure size 640x480 with 1 Axes>"
            ],
            "image/png": "[encoded data removed]"
          },
          "metadata": {}
        },
        {
          "output_type": "display_data",
          "data": {
            "text/plain": [
              "<Figure size 640x480 with 1 Axes>"
            ],
            "image/png": "[encoded data removed]"
          },
          "metadata": {}
        },
        {
          "output_type": "display_data",
          "data": {
            "text/plain": [
              "<Figure size 640x480 with 1 Axes>"
            ],
            "image/png": "[encoded data removed]"
          },
          "metadata": {}
        },
        {
          "output_type": "display_data",
          "data": {
            "text/plain": [
              "<Figure size 640x480 with 1 Axes>"
            ],
            "image/png": "[encoded data removed]"
          },
          "metadata": {}
        },
        {
          "output_type": "display_data",
          "data": {
            "text/plain": [
              "<Figure size 640x480 with 1 Axes>"
            ],
            "image/png": "[encoded data removed]"
          },
          "metadata": {}
        },
        {
          "output_type": "display_data",
          "data": {
            "text/plain": [
              "<Figure size 640x480 with 1 Axes>"
            ],
            "image/png": "[encoded data removed]"
          },
          "metadata": {}
        },
        {
          "output_type": "display_data",
          "data": {
            "text/plain": [
              "<Figure size 640x480 with 1 Axes>"
            ],
            "image/png": "[encoded data removed]"
          },
          "metadata": {}
        },
        {
          "output_type": "display_data",
          "data": {
            "text/plain": [
              "<Figure size 640x480 with 1 Axes>"
            ],
            "image/png": "[encoded data removed]"
          },
          "metadata": {}
        },
        {
          "output_type": "display_data",
          "data": {
            "text/plain": [
              "<Figure size 640x480 with 1 Axes>"
            ],
            "image/png": "[encoded data removed]"
          },
          "metadata": {}
        },
        {
          "output_type": "display_data",
          "data": {
            "text/plain": [
              "<Figure size 640x480 with 1 Axes>"
            ],
            "image/png": "[encoded data removed]"
          },
          "metadata": {}
        }
      ]
    },
    {
      "cell_type": "code",
      "source": [
        "# Set up batch size\n",
        "BATCH_SIZE = 32\n",
        "\n",
        "# Turn datasets into batches\n",
        "train_dataloader = DataLoader(train_data,\n",
        "                              batch_size=BATCH_SIZE,\n",
        "                              shuffle=True)\n",
        "\n",
        "test_dataloader = DataLoader(test_data,\n",
        "                             batch_size=BATCH_SIZE,\n",
        "                             shuffle=False)\n",
        "\n",
        "print(f\"Dataloaders: {train_dataloader, test_dataloader}\")\n",
        "print(f\"Length of train dataloader: {len(train_dataloader)} batches of {BATCH_SIZE}\")\n",
        "print(f\"Length of test dataloader: {len(test_dataloader)} batches of {BATCH_SIZE}\")"
      ],
      "metadata": {
        "colab": {
          "base_uri": "https://localhost:8080/"
        },
        "id": "Csz1ETl2UiAq",
        "outputId": "2f1f62d6-57e3-41cc-be5f-f145976c0f48"
      },
      "execution_count": 10,
      "outputs": [
        {
          "output_type": "stream",
          "name": "stdout",
          "text": [
            "Dataloaders: (<torch.utils.data.dataloader.DataLoader object at 0x7ade2e8e8d90>, <torch.utils.data.dataloader.DataLoader object at 0x7ade2e8e8e50>)\n",
            "Length of train dataloader: 1563 batches of 32\n",
            "Length of test dataloader: 313 batches of 32\n"
          ]
        }
      ]
    },
    {
      "cell_type": "code",
      "source": [
        "# Check out what is inside the training dataloader\n",
        "train_features_batch, train_labels_batch = next(iter(train_dataloader))\n",
        "train_features_batch.shape, train_labels_batch.shape"
      ],
      "metadata": {
        "colab": {
          "base_uri": "https://localhost:8080/"
        },
        "id": "DOVuRxgcbW8e",
        "outputId": "2148aa81-023f-43bb-cac8-10a68aa26ff4"
      },
      "execution_count": 11,
      "outputs": [
        {
          "output_type": "execute_result",
          "data": {
            "text/plain": [
              "(torch.Size([32, 3, 32, 32]), torch.Size([32]))"
            ]
          },
          "metadata": {},
          "execution_count": 11
        }
      ]
    },
    {
      "cell_type": "code",
      "source": [
        "# Show a sample\n",
        "random_idx = torch.randint(0, len(train_features_batch), size=[1]).item()\n",
        "img, label = train_features_batch[random_idx], train_labels_batch[random_idx]\n",
        "plt.imshow(img.squeeze().permute(1, 2, 0))\n",
        "plt.title(class_names[label])\n",
        "plt.axis(\"Off\");\n",
        "print(f\"Image size: {img.shape}\")\n",
        "print(f\"Label: {label}, label size: {label.shape}\")\n",
        "plt.show()"
      ],
      "metadata": {
        "colab": {
          "base_uri": "https://localhost:8080/",
          "height": 463
        },
        "id": "oY480KRwl0Q0",
        "outputId": "5d4ca185-3294-4918-a66a-cd5b9e26c0d6"
      },
      "execution_count": 12,
      "outputs": [
        {
          "output_type": "stream",
          "name": "stdout",
          "text": [
            "Image size: torch.Size([3, 32, 32])\n",
            "Label: 9, label size: torch.Size([])\n"
          ]
        },
        {
          "output_type": "display_data",
          "data": {
            "text/plain": [
              "<Figure size 640x480 with 1 Axes>"
            ],
            "image/png": "[encoded data removed]"
          },
          "metadata": {}
        }
      ]
    },
    {
      "cell_type": "markdown",
      "source": [
        "## Creating a base CNN model for testing - Model 0"
      ],
      "metadata": {
        "id": "DmRZJq190xkJ"
      }
    },
    {
      "cell_type": "code",
      "source": [
        "# Build Model 0\n",
        "\n",
        "\n",
        "class CIFAR10ModelV0(nn.Module):\n",
        "    def __init__(self,\n",
        "                 input_shape: int,\n",
        "                 hidden_units: int,\n",
        "                 output_shape: int):\n",
        "        super().__init__()\n",
        "        self.conv_block_1 = nn.Sequential(\n",
        "            nn.Conv2d(in_channels=input_shape,\n",
        "                      out_channels=hidden_units,\n",
        "                      kernel_size=2,\n",
        "                      stride=1,\n",
        "                      padding=0),\n",
        "            nn.ReLU(),\n",
        "            nn.Conv2d(in_channels=hidden_units,\n",
        "                      out_channels=hidden_units,\n",
        "                      kernel_size=2,\n",
        "                      stride=1,\n",
        "                      padding=0),\n",
        "            nn.ReLU(),\n",
        "            nn.MaxPool2d(kernel_size=2, stride=2)\n",
        "        )\n",
        "        self.conv_block_2 = nn.Sequential(\n",
        "            nn.Conv2d(hidden_units, hidden_units, 2, 1, 0),\n",
        "            nn.ReLU(),\n",
        "            nn.Conv2d(hidden_units, hidden_units, 2, 1, 0),\n",
        "            nn.ReLU(),\n",
        "            nn.MaxPool2d(kernel_size=2, stride=2)\n",
        "            )\n",
        "        self.classifier = nn.Sequential(\n",
        "            nn.Flatten(),\n",
        "            nn.Linear(in_features=hidden_units * 36,\n",
        "                      out_features=output_shape)\n",
        "        )\n",
        "\n",
        "    def forward(self, x: torch.Tensor):\n",
        "        return self.classifier(self.conv_block_2(self.conv_block_1(x)))"
      ],
      "metadata": {
        "id": "2pX6Xa23Vkts"
      },
      "execution_count": 13,
      "outputs": []
    },
    {
      "cell_type": "code",
      "source": [
        "# Set up model with input parameters\n",
        "model_0 = CIFAR10ModelV0(input_shape=3, # RBG\n",
        "    hidden_units=10, # how many units in the hiden layer\n",
        "    output_shape=len(class_names) # one for every class\n",
        ").to(device)\n",
        "\n",
        "model_0"
      ],
      "metadata": {
        "colab": {
          "base_uri": "https://localhost:8080/"
        },
        "id": "bW3uJQR0aYfv",
        "outputId": "15266a9d-dd16-4062-fe52-6b0570aade9a"
      },
      "execution_count": 14,
      "outputs": [
        {
          "output_type": "execute_result",
          "data": {
            "text/plain": [
              "CIFAR10ModelV0(\n",
              "  (conv_block_1): Sequential(\n",
              "    (0): Conv2d(3, 10, kernel_size=(2, 2), stride=(1, 1))\n",
              "    (1): ReLU()\n",
              "    (2): Conv2d(10, 10, kernel_size=(2, 2), stride=(1, 1))\n",
              "    (3): ReLU()\n",
              "    (4): MaxPool2d(kernel_size=2, stride=2, padding=0, dilation=1, ceil_mode=False)\n",
              "  )\n",
              "  (conv_block_2): Sequential(\n",
              "    (0): Conv2d(10, 10, kernel_size=(2, 2), stride=(1, 1))\n",
              "    (1): ReLU()\n",
              "    (2): Conv2d(10, 10, kernel_size=(2, 2), stride=(1, 1))\n",
              "    (3): ReLU()\n",
              "    (4): MaxPool2d(kernel_size=2, stride=2, padding=0, dilation=1, ceil_mode=False)\n",
              "  )\n",
              "  (classifier): Sequential(\n",
              "    (0): Flatten(start_dim=1, end_dim=-1)\n",
              "    (1): Linear(in_features=360, out_features=10, bias=True)\n",
              "  )\n",
              ")"
            ]
          },
          "metadata": {},
          "execution_count": 14
        }
      ]
    },
    {
      "cell_type": "code",
      "source": [
        "# Set up loss function and optimizer\n",
        "loss_fn = nn.CrossEntropyLoss()\n",
        "optimizer = torch.optim.SGD(params=model_0.parameters(), lr=0.01)"
      ],
      "metadata": {
        "id": "xNo1fB5Cm1qG"
      },
      "execution_count": 15,
      "outputs": []
    },
    {
      "cell_type": "markdown",
      "source": [
        "Functions are adapted from: https://github.com/mrdbourke/pytorch-deep-learning.git"
      ],
      "metadata": {
        "id": "gCDIcVzdQWTM"
      }
    },
    {
      "cell_type": "code",
      "source": [
        "# Making a accuracy function\n",
        "\n",
        "\n",
        "def accuracy_fn(y_true, y_pred):\n",
        "    \"\"\"\n",
        "    Calculates accuracy between truth labels and predictions.\n",
        "\n",
        "    Args:\n",
        "        y_true (torch.Tensor): Truth labels for predictions.\n",
        "        y_pred (torch.Tensor): Predictions to be compared to predictions.\n",
        "\n",
        "    Returns:\n",
        "        [torch.float]: Accuracy value between y_true and y_pred, e.g. 78.45\n",
        "    \"\"\"\n",
        "    correct = torch.eq(y_true, y_pred).sum().item()\n",
        "    acc = (correct / len(y_pred)) * 100\n",
        "    return acc\n"
      ],
      "metadata": {
        "id": "H7oRSEfDt-qO"
      },
      "execution_count": 16,
      "outputs": []
    },
    {
      "cell_type": "code",
      "source": [
        "from timeit import default_timer as timer\n",
        "def print_train_time(start: float, end: float, device: torch.device = None):\n",
        "    \"\"\"\n",
        "    Returns difference between the start and end time.\n",
        "\n",
        "    Args:\n",
        "        start (float): Start time of computation (preferred in timeit format).\n",
        "        end (float): End time of computation.\n",
        "        device ([type], optional): Device that compute is running on.\n",
        "        Defaults to None.\n",
        "\n",
        "    Returns:\n",
        "        float: time between start and end in seconds (higher is longer).\n",
        "    \"\"\"\n",
        "    total_time = end - start\n",
        "    print(f\"Train time on {device}: {total_time:.3f} seconds\")\n",
        "    return total_time"
      ],
      "metadata": {
        "id": "-3yVhkz3ozGo"
      },
      "execution_count": 17,
      "outputs": []
    },
    {
      "cell_type": "code",
      "source": [
        "# Define train and test steps\n",
        "\n",
        "\n",
        "def train_step(model: torch.nn.Module,\n",
        "               data_loader: torch.utils.data.DataLoader,\n",
        "               loss_fn: torch.nn.Module,\n",
        "               optimizer: torch.optim.Optimizer,\n",
        "               accuracy_fn,\n",
        "               device: torch.device = device):\n",
        "    train_loss, train_acc = 0, 0\n",
        "    model.to(device)\n",
        "    for batch, (X, y) in enumerate(data_loader):\n",
        "        # Send data to GPU\n",
        "        X, y = X.to(device), y.to(device)\n",
        "\n",
        "        # 1. Forward pass\n",
        "        y_pred = model(X)\n",
        "\n",
        "        # 2. Calculate loss\n",
        "        loss = loss_fn(y_pred, y)\n",
        "        train_loss += loss\n",
        "        train_acc += accuracy_fn(y_true=y,\n",
        "                                 y_pred=y_pred.argmax(dim=1)) # Go from logits -> pred labels\n",
        "\n",
        "        # 3. Optimizer zero grad\n",
        "        optimizer.zero_grad()\n",
        "\n",
        "        # 4. Loss backward\n",
        "        loss.backward()\n",
        "\n",
        "        # 5. Optimizer step\n",
        "        optimizer.step()\n",
        "\n",
        "    # Calculate loss and accuracy per epoch and print out what's happening\n",
        "    train_loss /= len(data_loader)\n",
        "    train_acc /= len(data_loader)\n",
        "    print(f\"Train loss: {train_loss:.5f} | Train accuracy: {train_acc:.2f}%\")\n",
        "\n",
        "\n",
        "def test_step(data_loader: torch.utils.data.DataLoader,\n",
        "              model: torch.nn.Module,\n",
        "              loss_fn: torch.nn.Module,\n",
        "              accuracy_fn,\n",
        "              device: torch.device = device):\n",
        "    test_loss, test_acc = 0, 0\n",
        "    model.to(device)\n",
        "    model.eval() # put model in eval mode\n",
        "    # Turn on inference context manager\n",
        "    with torch.inference_mode():\n",
        "        for X, y in data_loader:\n",
        "            # Send data to GPU\n",
        "            X, y = X.to(device), y.to(device)\n",
        "\n",
        "            # 1. Forward pass\n",
        "            test_pred = model(X)\n",
        "\n",
        "            # 2. Calculate loss and accuracy\n",
        "            test_loss += loss_fn(test_pred, y)\n",
        "            test_acc += accuracy_fn(y_true=y,\n",
        "                y_pred=test_pred.argmax(dim=1) # Go from logits -> pred labels\n",
        "            )\n",
        "\n",
        "        # Adjust metrics and print out\n",
        "        test_loss /= len(data_loader)\n",
        "        test_acc /= len(data_loader)\n",
        "        print(f\"Test loss: {test_loss:.5f} | Test accuracy: {test_acc:.2f}%\\n\")"
      ],
      "metadata": {
        "id": "FLoyYMorqRtc"
      },
      "execution_count": 64,
      "outputs": []
    },
    {
      "cell_type": "code",
      "source": [
        "# Measure time\n",
        "from tqdm.auto import tqdm\n",
        "from timeit import default_timer as timer\n",
        "train_time_start_on_gpu = timer()\n",
        "\n",
        "epochs = 10\n",
        "for epoch in tqdm(range(epochs)):\n",
        "    print(f\"Epoch: {epoch}\\n{50 * '-'}\")\n",
        "    train_step(data_loader=train_dataloader,\n",
        "        model=model_0,\n",
        "        loss_fn=loss_fn,\n",
        "        optimizer=optimizer,\n",
        "        accuracy_fn=accuracy_fn\n",
        "    )\n",
        "    test_step(data_loader=test_dataloader,\n",
        "        model=model_0,\n",
        "        loss_fn=loss_fn,\n",
        "        accuracy_fn=accuracy_fn\n",
        "    )\n",
        "\n",
        "train_time_end_on_gpu = timer()\n",
        "total_train_time_model_0 = print_train_time(start=train_time_start_on_gpu,\n",
        "                                            end=train_time_end_on_gpu,\n",
        "                                            device=device)"
      ],
      "metadata": {
        "colab": {
          "base_uri": "https://localhost:8080/",
          "height": 934,
          "referenced_widgets": [
            "0a4baf8cb96449f0816f09c6643e7164",
            "deb5c51adfd44a269fc8f65e4cd310a5",
            "389c5f7344b345c3b7c9d0882b71e9e6",
            "eb6f7d1b72f34a9e802078d96ab7bcde",
            "b592e682c5f443c992ac5fbf66bec90a",
            "770427c9c07442aab34683ba677fe9a2",
            "74523bf133d34513bc9b6f22ad82b1d2",
            "6802bbd9f80f465e8950548a9a1819ac",
            "11a557603dc641db9a93a1bbbe48f888",
            "eeb01d342f04452ca382a9fc2f3deb5b",
            "7ccc2840dfd145169e0040d9797bf9db"
          ]
        },
        "id": "3QFkLuLpvEaM",
        "outputId": "dc1d4565-3142-44f4-d2df-1573172c0362"
      },
      "execution_count": 19,
      "outputs": [
        {
          "output_type": "display_data",
          "data": {
            "text/plain": [
              "  0%|          | 0/10 [00:00<?, ?it/s]"
            ],
            "application/vnd.jupyter.widget-view+json": {
              "version_major": 2,
              "version_minor": 0,
              "model_id": "0a4baf8cb96449f0816f09c6643e7164"
            }
          },
          "metadata": {}
        },
        {
          "output_type": "stream",
          "name": "stdout",
          "text": [
            "Epoch: 0\n",
            "--------------------------------------------------\n",
            "Train loss: 2.30230 | Train accuracy: 10.64%\n",
            "Test loss: 2.30008 | Test accuracy: 12.06%\n",
            "\n",
            "Epoch: 1\n",
            "--------------------------------------------------\n",
            "Train loss: 2.29628 | Train accuracy: 13.63%\n",
            "Test loss: 2.27051 | Test accuracy: 18.59%\n",
            "\n",
            "Epoch: 2\n",
            "--------------------------------------------------\n",
            "Train loss: 2.24592 | Train accuracy: 18.86%\n",
            "Test loss: 2.10494 | Test accuracy: 25.70%\n",
            "\n",
            "Epoch: 3\n",
            "--------------------------------------------------\n",
            "Train loss: 2.19171 | Train accuracy: 22.54%\n",
            "Test loss: 2.01554 | Test accuracy: 30.09%\n",
            "\n",
            "Epoch: 4\n",
            "--------------------------------------------------\n",
            "Train loss: 2.08486 | Train accuracy: 26.42%\n",
            "Test loss: 1.99911 | Test accuracy: 27.05%\n",
            "\n",
            "Epoch: 5\n",
            "--------------------------------------------------\n",
            "Train loss: 2.01210 | Train accuracy: 28.76%\n",
            "Test loss: 1.93513 | Test accuracy: 31.06%\n",
            "\n",
            "Epoch: 6\n",
            "--------------------------------------------------\n",
            "Train loss: 1.96485 | Train accuracy: 30.45%\n",
            "Test loss: 1.92608 | Test accuracy: 31.09%\n",
            "\n",
            "Epoch: 7\n",
            "--------------------------------------------------\n",
            "Train loss: 1.93205 | Train accuracy: 31.79%\n",
            "Test loss: 1.90415 | Test accuracy: 32.11%\n",
            "\n",
            "Epoch: 8\n",
            "--------------------------------------------------\n",
            "Train loss: 1.90321 | Train accuracy: 32.89%\n",
            "Test loss: 1.80311 | Test accuracy: 36.34%\n",
            "\n",
            "Epoch: 9\n",
            "--------------------------------------------------\n",
            "Train loss: 1.87739 | Train accuracy: 33.92%\n",
            "Test loss: 1.80534 | Test accuracy: 35.97%\n",
            "\n",
            "Train time on cuda: 261.760 seconds\n"
          ]
        }
      ]
    },
    {
      "cell_type": "markdown",
      "source": [
        "### CNN Model 0 performed poorly, trying a different approach.\n",
        "Implementing Model 1 by changing optimizer to `torch.optim.Adam()` and learning rate to 0.1."
      ],
      "metadata": {
        "id": "yJ8c1I3O8FOS"
      }
    },
    {
      "cell_type": "code",
      "source": [
        "# Model 1\n",
        "\n",
        "\n",
        "class CIFAR10ModelV1(nn.Module):\n",
        "    def __init__(self,\n",
        "                 input_shape: int,\n",
        "                 hidden_units: int,\n",
        "                 output_shape: int):\n",
        "        super().__init__()\n",
        "        self.conv_block_1 = nn.Sequential(\n",
        "            nn.Conv2d(in_channels=input_shape,\n",
        "                      out_channels=hidden_units,\n",
        "                      kernel_size=2,\n",
        "                      stride=1,\n",
        "                      padding=0),\n",
        "            nn.ReLU(),\n",
        "            nn.Conv2d(in_channels=hidden_units,\n",
        "                      out_channels=hidden_units,\n",
        "                      kernel_size=2,\n",
        "                      stride=1,\n",
        "                      padding=0),\n",
        "            nn.ReLU(),\n",
        "            nn.MaxPool2d(kernel_size=2, stride=2)\n",
        "        )\n",
        "        self.conv_block_2 = nn.Sequential(\n",
        "            nn.Conv2d(hidden_units, hidden_units, 2, 1, 0),\n",
        "            nn.ReLU(),\n",
        "            nn.Conv2d(hidden_units, hidden_units, 2, 1, 0),\n",
        "            nn.ReLU(),\n",
        "            nn.MaxPool2d(kernel_size=2, stride=2)\n",
        "            )\n",
        "        self.classifier = nn.Sequential(\n",
        "            nn.Flatten(),\n",
        "            nn.Linear(in_features=hidden_units * 36,\n",
        "                      out_features=output_shape)\n",
        "        )\n",
        "\n",
        "    def forward(self, x: torch.Tensor):\n",
        "        return self.classifier((self.conv_block_2(self.conv_block_1(x))))"
      ],
      "metadata": {
        "id": "iXZIsUma8LJy"
      },
      "execution_count": 20,
      "outputs": []
    },
    {
      "cell_type": "code",
      "source": [
        "# Set up model with input parameters\n",
        "model_1 = CIFAR10ModelV1(input_shape=3, # RGB\n",
        "    hidden_units=10, # how many units in the hiden layer\n",
        "    output_shape=len(class_names) # one for every class\n",
        ").to(device)\n",
        "\n",
        "model_1"
      ],
      "metadata": {
        "colab": {
          "base_uri": "https://localhost:8080/"
        },
        "id": "t3o8tR3j8lrJ",
        "outputId": "52850085-513d-4e44-d9cc-35de93095436"
      },
      "execution_count": 21,
      "outputs": [
        {
          "output_type": "execute_result",
          "data": {
            "text/plain": [
              "CIFAR10ModelV1(\n",
              "  (conv_block_1): Sequential(\n",
              "    (0): Conv2d(3, 10, kernel_size=(2, 2), stride=(1, 1))\n",
              "    (1): ReLU()\n",
              "    (2): Conv2d(10, 10, kernel_size=(2, 2), stride=(1, 1))\n",
              "    (3): ReLU()\n",
              "    (4): MaxPool2d(kernel_size=2, stride=2, padding=0, dilation=1, ceil_mode=False)\n",
              "  )\n",
              "  (conv_block_2): Sequential(\n",
              "    (0): Conv2d(10, 10, kernel_size=(2, 2), stride=(1, 1))\n",
              "    (1): ReLU()\n",
              "    (2): Conv2d(10, 10, kernel_size=(2, 2), stride=(1, 1))\n",
              "    (3): ReLU()\n",
              "    (4): MaxPool2d(kernel_size=2, stride=2, padding=0, dilation=1, ceil_mode=False)\n",
              "  )\n",
              "  (classifier): Sequential(\n",
              "    (0): Flatten(start_dim=1, end_dim=-1)\n",
              "    (1): Linear(in_features=360, out_features=10, bias=True)\n",
              "  )\n",
              ")"
            ]
          },
          "metadata": {},
          "execution_count": 21
        }
      ]
    },
    {
      "cell_type": "code",
      "source": [
        "# See model 1 summary\n",
        "summary(model=model_1,\n",
        "        input_size=(32, 3, 32, 32),\n",
        "        col_names=[\"input_size\", \"output_size\", \"num_params\", \"trainable\"],\n",
        "        col_width=20,\n",
        "        row_settings=[\"var_names\"])"
      ],
      "metadata": {
        "colab": {
          "base_uri": "https://localhost:8080/"
        },
        "id": "ZnQxT8GqYHly",
        "outputId": "9f61e89f-2178-42db-da22-1f517a73c7d7"
      },
      "execution_count": 22,
      "outputs": [
        {
          "output_type": "execute_result",
          "data": {
            "text/plain": [
              "========================================================================================================================\n",
              "Layer (type (var_name))                  Input Shape          Output Shape         Param #              Trainable\n",
              "========================================================================================================================\n",
              "CIFAR10ModelV1 (CIFAR10ModelV1)          [32, 3, 32, 32]      [32, 10]             --                   True\n",
              "├─Sequential (conv_block_1)              [32, 3, 32, 32]      [32, 10, 15, 15]     --                   True\n",
              "│    └─Conv2d (0)                        [32, 3, 32, 32]      [32, 10, 31, 31]     130                  True\n",
              "│    └─ReLU (1)                          [32, 10, 31, 31]     [32, 10, 31, 31]     --                   --\n",
              "│    └─Conv2d (2)                        [32, 10, 31, 31]     [32, 10, 30, 30]     410                  True\n",
              "│    └─ReLU (3)                          [32, 10, 30, 30]     [32, 10, 30, 30]     --                   --\n",
              "│    └─MaxPool2d (4)                     [32, 10, 30, 30]     [32, 10, 15, 15]     --                   --\n",
              "├─Sequential (conv_block_2)              [32, 10, 15, 15]     [32, 10, 6, 6]       --                   True\n",
              "│    └─Conv2d (0)                        [32, 10, 15, 15]     [32, 10, 14, 14]     410                  True\n",
              "│    └─ReLU (1)                          [32, 10, 14, 14]     [32, 10, 14, 14]     --                   --\n",
              "│    └─Conv2d (2)                        [32, 10, 14, 14]     [32, 10, 13, 13]     410                  True\n",
              "│    └─ReLU (3)                          [32, 10, 13, 13]     [32, 10, 13, 13]     --                   --\n",
              "│    └─MaxPool2d (4)                     [32, 10, 13, 13]     [32, 10, 6, 6]       --                   --\n",
              "├─Sequential (classifier)                [32, 10, 6, 6]       [32, 10]             --                   True\n",
              "│    └─Flatten (0)                       [32, 10, 6, 6]       [32, 360]            --                   --\n",
              "│    └─Linear (1)                        [32, 360]            [32, 10]             3,610                True\n",
              "========================================================================================================================\n",
              "Total params: 4,970\n",
              "Trainable params: 4,970\n",
              "Non-trainable params: 0\n",
              "Total mult-adds (M): 20.71\n",
              "========================================================================================================================\n",
              "Input size (MB): 0.39\n",
              "Forward/backward pass size (MB): 5.70\n",
              "Params size (MB): 0.02\n",
              "Estimated Total Size (MB): 6.11\n",
              "========================================================================================================================"
            ]
          },
          "metadata": {},
          "execution_count": 22
        }
      ]
    },
    {
      "cell_type": "code",
      "source": [
        "loss_fn_m1 = nn.CrossEntropyLoss()\n",
        "optimizer_m1 = torch.optim.Adam(params=model_1.parameters(), lr=0.1)"
      ],
      "metadata": {
        "id": "j9SnRE77Tyw-"
      },
      "execution_count": 23,
      "outputs": []
    },
    {
      "cell_type": "code",
      "source": [
        "# Measure time\n",
        "from tqdm.auto import tqdm\n",
        "from timeit import default_timer as timer\n",
        "train_time_start_on_gpu = timer()\n",
        "\n",
        "epochs = 10\n",
        "for epoch in tqdm(range(epochs)):\n",
        "    print(f\"Epoch: {epoch}\\n{30 * '-'}\")\n",
        "    train_step(data_loader=train_dataloader,\n",
        "        model=model_1,\n",
        "        loss_fn=loss_fn_m1,\n",
        "        optimizer=optimizer_m1,\n",
        "        accuracy_fn=accuracy_fn\n",
        "    )\n",
        "    test_step(data_loader=test_dataloader,\n",
        "        model=model_1,\n",
        "        loss_fn=loss_fn_m1,\n",
        "        accuracy_fn=accuracy_fn\n",
        "    )\n",
        "\n",
        "train_time_end_on_gpu = timer()\n",
        "total_train_time_model_1 = print_train_time(start=train_time_start_on_gpu,\n",
        "                                            end=train_time_end_on_gpu,\n",
        "                                            device=device)"
      ],
      "metadata": {
        "colab": {
          "base_uri": "https://localhost:8080/",
          "height": 934,
          "referenced_widgets": [
            "8af37f77562e4893b17e1f16664e4a24",
            "d918c4dfd27c4834887ec33fdcb2df05",
            "8074b361b5cb41b7b45696376a360e55",
            "79a200ea4011403f8b982fca2de5f2fd",
            "074aeb9b8230460db06d0aedba0a8c07",
            "5a18e3e499534267b2fcf748b4d15997",
            "165132c21c864ab8858f79d3159ce6e6",
            "b8e5520e772d410497aa68d8702ad7b2",
            "0cbac3587802462aa980163c10ed4517",
            "7de379ff25c04160839466690226b415",
            "365c5b5fa17d459eb3fcfdee7fc2c68c"
          ]
        },
        "id": "8qSFxvWz9VN5",
        "outputId": "5c69fb58-b512-48e0-a0dc-279d4e6d4a23"
      },
      "execution_count": 24,
      "outputs": [
        {
          "output_type": "display_data",
          "data": {
            "text/plain": [
              "  0%|          | 0/10 [00:00<?, ?it/s]"
            ],
            "application/vnd.jupyter.widget-view+json": {
              "version_major": 2,
              "version_minor": 0,
              "model_id": "8af37f77562e4893b17e1f16664e4a24"
            }
          },
          "metadata": {}
        },
        {
          "output_type": "stream",
          "name": "stdout",
          "text": [
            "Epoch: 0\n",
            "------------------------------\n",
            "Train loss: 2.37365 | Train accuracy: 10.26%\n",
            "Test loss: 2.32833 | Test accuracy: 10.01%\n",
            "\n",
            "Epoch: 1\n",
            "------------------------------\n",
            "Train loss: 2.31614 | Train accuracy: 9.69%\n",
            "Test loss: 2.30846 | Test accuracy: 10.01%\n",
            "\n",
            "Epoch: 2\n",
            "------------------------------\n",
            "Train loss: 2.31452 | Train accuracy: 9.76%\n",
            "Test loss: 2.32045 | Test accuracy: 9.99%\n",
            "\n",
            "Epoch: 3\n",
            "------------------------------\n",
            "Train loss: 2.31538 | Train accuracy: 10.09%\n",
            "Test loss: 2.31274 | Test accuracy: 10.01%\n",
            "\n",
            "Epoch: 4\n",
            "------------------------------\n",
            "Train loss: 2.31559 | Train accuracy: 10.12%\n",
            "Test loss: 2.32731 | Test accuracy: 9.99%\n",
            "\n",
            "Epoch: 5\n",
            "------------------------------\n",
            "Train loss: 2.31593 | Train accuracy: 9.68%\n",
            "Test loss: 2.31385 | Test accuracy: 9.99%\n",
            "\n",
            "Epoch: 6\n",
            "------------------------------\n",
            "Train loss: 2.31497 | Train accuracy: 10.06%\n",
            "Test loss: 2.31593 | Test accuracy: 10.00%\n",
            "\n",
            "Epoch: 7\n",
            "------------------------------\n",
            "Train loss: 2.31550 | Train accuracy: 10.07%\n",
            "Test loss: 2.31811 | Test accuracy: 9.98%\n",
            "\n",
            "Epoch: 8\n",
            "------------------------------\n",
            "Train loss: 2.31571 | Train accuracy: 9.99%\n",
            "Test loss: 2.32025 | Test accuracy: 9.99%\n",
            "\n",
            "Epoch: 9\n",
            "------------------------------\n",
            "Train loss: 2.31506 | Train accuracy: 10.04%\n",
            "Test loss: 2.31463 | Test accuracy: 10.01%\n",
            "\n",
            "Train time on cuda: 269.190 seconds\n"
          ]
        }
      ]
    },
    {
      "cell_type": "markdown",
      "source": [
        "## Trying transfer learning\n",
        "Using MobileNet_V3_Large architecture from [Searching for MobileNetV3](https://arxiv.org/abs/1905.02244).\n",
        "See documentation: https://pytorch.org/vision/main/models/generated/torchvision.models.mobilenet_v3_large.html#torchvision.models.MobileNet_V3_Large_Weights"
      ],
      "metadata": {
        "id": "cK-z_dbH9lV3"
      }
    },
    {
      "cell_type": "code",
      "source": [
        "# Construct weights\n",
        "weights = torchvision.models.MobileNet_V3_Large_Weights.DEFAULT\n",
        "weights"
      ],
      "metadata": {
        "colab": {
          "base_uri": "https://localhost:8080/"
        },
        "id": "LvalXVSB9ofz",
        "outputId": "274aebcb-5562-41c9-80fd-bb3e3de7e5ca"
      },
      "execution_count": 25,
      "outputs": [
        {
          "output_type": "execute_result",
          "data": {
            "text/plain": [
              "MobileNet_V3_Large_Weights.IMAGENET1K_V2"
            ]
          },
          "metadata": {},
          "execution_count": 25
        }
      ]
    },
    {
      "cell_type": "code",
      "source": [
        "# get automatic transforms\n",
        "mobile_transforms = weights.transforms()\n",
        "mobile_transforms"
      ],
      "metadata": {
        "colab": {
          "base_uri": "https://localhost:8080/"
        },
        "id": "7lMNMYkZGFIP",
        "outputId": "8de1db8e-b60e-4029-ee55-db3880cf4496"
      },
      "execution_count": 26,
      "outputs": [
        {
          "output_type": "execute_result",
          "data": {
            "text/plain": [
              "ImageClassification(\n",
              "    crop_size=[224]\n",
              "    resize_size=[232]\n",
              "    mean=[0.485, 0.456, 0.406]\n",
              "    std=[0.229, 0.224, 0.225]\n",
              "    interpolation=InterpolationMode.BILINEAR\n",
              ")"
            ]
          },
          "metadata": {},
          "execution_count": 26
        }
      ]
    },
    {
      "cell_type": "code",
      "source": [
        "# Set up batch size - increased from 32 to 64\n",
        "BATCH_SIZE = 32\n",
        "\n",
        "# set up data - wuth new transforms\n",
        "train_data = CIFAR10(root=\"data\",\n",
        "                     download=True,\n",
        "                     train=True,\n",
        "                     transform=transforms.Compose([\n",
        "                          transforms.ToTensor(),\n",
        "                          mobile_transforms]))\n",
        "\n",
        "test_data = CIFAR10(root=\"data\",\n",
        "                    download=True,\n",
        "                    train=False,\n",
        "                    transform=transforms.Compose([\n",
        "                        transforms.ToTensor(),\n",
        "                        mobile_transforms]))\n",
        "\n",
        "\n",
        "# Set up DataLoaders\n",
        "train_dataloader = DataLoader(train_data,\n",
        "                              batch_size=BATCH_SIZE,\n",
        "                              shuffle=True)\n",
        "\n",
        "test_dataloader = DataLoader(test_data,\n",
        "                             batch_size=BATCH_SIZE,\n",
        "                             shuffle=False)"
      ],
      "metadata": {
        "colab": {
          "base_uri": "https://localhost:8080/"
        },
        "id": "kRqGvX4WDg00",
        "outputId": "d1926b3b-e683-4a21-ba02-27da8917a22d"
      },
      "execution_count": 66,
      "outputs": [
        {
          "output_type": "stream",
          "name": "stdout",
          "text": [
            "Files already downloaded and verified\n",
            "Files already downloaded and verified\n"
          ]
        }
      ]
    },
    {
      "cell_type": "code",
      "source": [
        "model_2 = torchvision.models.mobilenet_v3_large(weights=weights).to(device)\n",
        "\n",
        "summary(model=model_2,\n",
        "        input_size=(32, 3, 224, 224),\n",
        "        col_names=[\"input_size\", \"output_size\", \"num_params\", \"trainable\"],\n",
        "        col_width=20,\n",
        "        row_settings=[\"var_names\"]\n",
        ")"
      ],
      "metadata": {
        "colab": {
          "base_uri": "https://localhost:8080/"
        },
        "id": "lx-gENSpAfLK",
        "outputId": "0ea8b321-881f-40f2-ebe6-81cad81b31b4"
      },
      "execution_count": 67,
      "outputs": [
        {
          "output_type": "execute_result",
          "data": {
            "text/plain": [
              "============================================================================================================================================\n",
              "Layer (type (var_name))                                      Input Shape          Output Shape         Param #              Trainable\n",
              "============================================================================================================================================\n",
              "MobileNetV3 (MobileNetV3)                                    [32, 3, 224, 224]    [32, 1000]           --                   True\n",
              "├─Sequential (features)                                      [32, 3, 224, 224]    [32, 960, 7, 7]      --                   True\n",
              "│    └─Conv2dNormActivation (0)                              [32, 3, 224, 224]    [32, 16, 112, 112]   --                   True\n",
              "│    │    └─Conv2d (0)                                       [32, 3, 224, 224]    [32, 16, 112, 112]   432                  True\n",
              "│    │    └─BatchNorm2d (1)                                  [32, 16, 112, 112]   [32, 16, 112, 112]   32                   True\n",
              "│    │    └─Hardswish (2)                                    [32, 16, 112, 112]   [32, 16, 112, 112]   --                   --\n",
              "│    └─InvertedResidual (1)                                  [32, 16, 112, 112]   [32, 16, 112, 112]   --                   True\n",
              "│    │    └─Sequential (block)                               [32, 16, 112, 112]   [32, 16, 112, 112]   464                  True\n",
              "│    └─InvertedResidual (2)                                  [32, 16, 112, 112]   [32, 24, 56, 56]     --                   True\n",
              "│    │    └─Sequential (block)                               [32, 16, 112, 112]   [32, 24, 56, 56]     3,440                True\n",
              "│    └─InvertedResidual (3)                                  [32, 24, 56, 56]     [32, 24, 56, 56]     --                   True\n",
              "│    │    └─Sequential (block)                               [32, 24, 56, 56]     [32, 24, 56, 56]     4,440                True\n",
              "│    └─InvertedResidual (4)                                  [32, 24, 56, 56]     [32, 40, 28, 28]     --                   True\n",
              "│    │    └─Sequential (block)                               [32, 24, 56, 56]     [32, 40, 28, 28]     10,328               True\n",
              "│    └─InvertedResidual (5)                                  [32, 40, 28, 28]     [32, 40, 28, 28]     --                   True\n",
              "│    │    └─Sequential (block)                               [32, 40, 28, 28]     [32, 40, 28, 28]     20,992               True\n",
              "│    └─InvertedResidual (6)                                  [32, 40, 28, 28]     [32, 40, 28, 28]     --                   True\n",
              "│    │    └─Sequential (block)                               [32, 40, 28, 28]     [32, 40, 28, 28]     20,992               True\n",
              "│    └─InvertedResidual (7)                                  [32, 40, 28, 28]     [32, 80, 14, 14]     --                   True\n",
              "│    │    └─Sequential (block)                               [32, 40, 28, 28]     [32, 80, 14, 14]     32,080               True\n",
              "│    └─InvertedResidual (8)                                  [32, 80, 14, 14]     [32, 80, 14, 14]     --                   True\n",
              "│    │    └─Sequential (block)                               [32, 80, 14, 14]     [32, 80, 14, 14]     34,760               True\n",
              "│    └─InvertedResidual (9)                                  [32, 80, 14, 14]     [32, 80, 14, 14]     --                   True\n",
              "│    │    └─Sequential (block)                               [32, 80, 14, 14]     [32, 80, 14, 14]     31,992               True\n",
              "│    └─InvertedResidual (10)                                 [32, 80, 14, 14]     [32, 80, 14, 14]     --                   True\n",
              "│    │    └─Sequential (block)                               [32, 80, 14, 14]     [32, 80, 14, 14]     31,992               True\n",
              "│    └─InvertedResidual (11)                                 [32, 80, 14, 14]     [32, 112, 14, 14]    --                   True\n",
              "│    │    └─Sequential (block)                               [32, 80, 14, 14]     [32, 112, 14, 14]    214,424              True\n",
              "│    └─InvertedResidual (12)                                 [32, 112, 14, 14]    [32, 112, 14, 14]    --                   True\n",
              "│    │    └─Sequential (block)                               [32, 112, 14, 14]    [32, 112, 14, 14]    386,120              True\n",
              "│    └─InvertedResidual (13)                                 [32, 112, 14, 14]    [32, 160, 7, 7]      --                   True\n",
              "│    │    └─Sequential (block)                               [32, 112, 14, 14]    [32, 160, 7, 7]      429,224              True\n",
              "│    └─InvertedResidual (14)                                 [32, 160, 7, 7]      [32, 160, 7, 7]      --                   True\n",
              "│    │    └─Sequential (block)                               [32, 160, 7, 7]      [32, 160, 7, 7]      797,360              True\n",
              "│    └─InvertedResidual (15)                                 [32, 160, 7, 7]      [32, 160, 7, 7]      --                   True\n",
              "│    │    └─Sequential (block)                               [32, 160, 7, 7]      [32, 160, 7, 7]      797,360              True\n",
              "│    └─Conv2dNormActivation (16)                             [32, 160, 7, 7]      [32, 960, 7, 7]      --                   True\n",
              "│    │    └─Conv2d (0)                                       [32, 160, 7, 7]      [32, 960, 7, 7]      153,600              True\n",
              "│    │    └─BatchNorm2d (1)                                  [32, 960, 7, 7]      [32, 960, 7, 7]      1,920                True\n",
              "│    │    └─Hardswish (2)                                    [32, 960, 7, 7]      [32, 960, 7, 7]      --                   --\n",
              "├─AdaptiveAvgPool2d (avgpool)                                [32, 960, 7, 7]      [32, 960, 1, 1]      --                   --\n",
              "├─Sequential (classifier)                                    [32, 960]            [32, 1000]           --                   True\n",
              "│    └─Linear (0)                                            [32, 960]            [32, 1280]           1,230,080            True\n",
              "│    └─Hardswish (1)                                         [32, 1280]           [32, 1280]           --                   --\n",
              "│    └─Dropout (2)                                           [32, 1280]           [32, 1280]           --                   --\n",
              "│    └─Linear (3)                                            [32, 1280]           [32, 1000]           1,281,000            True\n",
              "============================================================================================================================================\n",
              "Total params: 5,483,032\n",
              "Trainable params: 5,483,032\n",
              "Non-trainable params: 0\n",
              "Total mult-adds (G): 6.93\n",
              "============================================================================================================================================\n",
              "Input size (MB): 19.27\n",
              "Forward/backward pass size (MB): 2254.59\n",
              "Params size (MB): 21.93\n",
              "Estimated Total Size (MB): 2295.79\n",
              "============================================================================================================================================"
            ]
          },
          "metadata": {},
          "execution_count": 67
        }
      ]
    },
    {
      "cell_type": "code",
      "source": [
        "# Freeze all base layers\n",
        "for param in model_2.parameters():\n",
        "    param.requires_grad = False"
      ],
      "metadata": {
        "id": "soOU12n0M_FO"
      },
      "execution_count": 68,
      "outputs": []
    },
    {
      "cell_type": "code",
      "source": [
        "# Recreate the classifier layer and seed it to the target device\n",
        "model_2.classifier = torch.nn.Sequential(\n",
        "    torch.nn.Linear(in_features=960,\n",
        "                    out_features=len(class_names),\n",
        "                    bias=True)).to(device)"
      ],
      "metadata": {
        "id": "w1aB435SMLPf"
      },
      "execution_count": 69,
      "outputs": []
    },
    {
      "cell_type": "code",
      "source": [
        "summary(model=model_2,\n",
        "        input_size=(32, 3, 224, 224),\n",
        "        col_names=[\"input_size\", \"output_size\", \"num_params\", \"trainable\"],\n",
        "        col_width=20,\n",
        "        row_settings=[\"var_names\"]\n",
        ")"
      ],
      "metadata": {
        "colab": {
          "base_uri": "https://localhost:8080/"
        },
        "id": "rt48myO9Ms7m",
        "outputId": "31d8f262-e20f-44e2-a77b-3e5ec9bb7480"
      },
      "execution_count": 70,
      "outputs": [
        {
          "output_type": "execute_result",
          "data": {
            "text/plain": [
              "============================================================================================================================================\n",
              "Layer (type (var_name))                                      Input Shape          Output Shape         Param #              Trainable\n",
              "============================================================================================================================================\n",
              "MobileNetV3 (MobileNetV3)                                    [32, 3, 224, 224]    [32, 10]             --                   Partial\n",
              "├─Sequential (features)                                      [32, 3, 224, 224]    [32, 960, 7, 7]      --                   False\n",
              "│    └─Conv2dNormActivation (0)                              [32, 3, 224, 224]    [32, 16, 112, 112]   --                   False\n",
              "│    │    └─Conv2d (0)                                       [32, 3, 224, 224]    [32, 16, 112, 112]   (432)                False\n",
              "│    │    └─BatchNorm2d (1)                                  [32, 16, 112, 112]   [32, 16, 112, 112]   (32)                 False\n",
              "│    │    └─Hardswish (2)                                    [32, 16, 112, 112]   [32, 16, 112, 112]   --                   --\n",
              "│    └─InvertedResidual (1)                                  [32, 16, 112, 112]   [32, 16, 112, 112]   --                   False\n",
              "│    │    └─Sequential (block)                               [32, 16, 112, 112]   [32, 16, 112, 112]   (464)                False\n",
              "│    └─InvertedResidual (2)                                  [32, 16, 112, 112]   [32, 24, 56, 56]     --                   False\n",
              "│    │    └─Sequential (block)                               [32, 16, 112, 112]   [32, 24, 56, 56]     (3,440)              False\n",
              "│    └─InvertedResidual (3)                                  [32, 24, 56, 56]     [32, 24, 56, 56]     --                   False\n",
              "│    │    └─Sequential (block)                               [32, 24, 56, 56]     [32, 24, 56, 56]     (4,440)              False\n",
              "│    └─InvertedResidual (4)                                  [32, 24, 56, 56]     [32, 40, 28, 28]     --                   False\n",
              "│    │    └─Sequential (block)                               [32, 24, 56, 56]     [32, 40, 28, 28]     (10,328)             False\n",
              "│    └─InvertedResidual (5)                                  [32, 40, 28, 28]     [32, 40, 28, 28]     --                   False\n",
              "│    │    └─Sequential (block)                               [32, 40, 28, 28]     [32, 40, 28, 28]     (20,992)             False\n",
              "│    └─InvertedResidual (6)                                  [32, 40, 28, 28]     [32, 40, 28, 28]     --                   False\n",
              "│    │    └─Sequential (block)                               [32, 40, 28, 28]     [32, 40, 28, 28]     (20,992)             False\n",
              "│    └─InvertedResidual (7)                                  [32, 40, 28, 28]     [32, 80, 14, 14]     --                   False\n",
              "│    │    └─Sequential (block)                               [32, 40, 28, 28]     [32, 80, 14, 14]     (32,080)             False\n",
              "│    └─InvertedResidual (8)                                  [32, 80, 14, 14]     [32, 80, 14, 14]     --                   False\n",
              "│    │    └─Sequential (block)                               [32, 80, 14, 14]     [32, 80, 14, 14]     (34,760)             False\n",
              "│    └─InvertedResidual (9)                                  [32, 80, 14, 14]     [32, 80, 14, 14]     --                   False\n",
              "│    │    └─Sequential (block)                               [32, 80, 14, 14]     [32, 80, 14, 14]     (31,992)             False\n",
              "│    └─InvertedResidual (10)                                 [32, 80, 14, 14]     [32, 80, 14, 14]     --                   False\n",
              "│    │    └─Sequential (block)                               [32, 80, 14, 14]     [32, 80, 14, 14]     (31,992)             False\n",
              "│    └─InvertedResidual (11)                                 [32, 80, 14, 14]     [32, 112, 14, 14]    --                   False\n",
              "│    │    └─Sequential (block)                               [32, 80, 14, 14]     [32, 112, 14, 14]    (214,424)            False\n",
              "│    └─InvertedResidual (12)                                 [32, 112, 14, 14]    [32, 112, 14, 14]    --                   False\n",
              "│    │    └─Sequential (block)                               [32, 112, 14, 14]    [32, 112, 14, 14]    (386,120)            False\n",
              "│    └─InvertedResidual (13)                                 [32, 112, 14, 14]    [32, 160, 7, 7]      --                   False\n",
              "│    │    └─Sequential (block)                               [32, 112, 14, 14]    [32, 160, 7, 7]      (429,224)            False\n",
              "│    └─InvertedResidual (14)                                 [32, 160, 7, 7]      [32, 160, 7, 7]      --                   False\n",
              "│    │    └─Sequential (block)                               [32, 160, 7, 7]      [32, 160, 7, 7]      (797,360)            False\n",
              "│    └─InvertedResidual (15)                                 [32, 160, 7, 7]      [32, 160, 7, 7]      --                   False\n",
              "│    │    └─Sequential (block)                               [32, 160, 7, 7]      [32, 160, 7, 7]      (797,360)            False\n",
              "│    └─Conv2dNormActivation (16)                             [32, 160, 7, 7]      [32, 960, 7, 7]      --                   False\n",
              "│    │    └─Conv2d (0)                                       [32, 160, 7, 7]      [32, 960, 7, 7]      (153,600)            False\n",
              "│    │    └─BatchNorm2d (1)                                  [32, 960, 7, 7]      [32, 960, 7, 7]      (1,920)              False\n",
              "│    │    └─Hardswish (2)                                    [32, 960, 7, 7]      [32, 960, 7, 7]      --                   --\n",
              "├─AdaptiveAvgPool2d (avgpool)                                [32, 960, 7, 7]      [32, 960, 1, 1]      --                   --\n",
              "├─Sequential (classifier)                                    [32, 960]            [32, 10]             --                   True\n",
              "│    └─Linear (0)                                            [32, 960]            [32, 10]             9,610                True\n",
              "============================================================================================================================================\n",
              "Total params: 2,981,562\n",
              "Trainable params: 9,610\n",
              "Non-trainable params: 2,971,952\n",
              "Total mult-adds (G): 6.85\n",
              "============================================================================================================================================\n",
              "Input size (MB): 19.27\n",
              "Forward/backward pass size (MB): 2254.00\n",
              "Params size (MB): 11.93\n",
              "Estimated Total Size (MB): 2285.20\n",
              "============================================================================================================================================"
            ]
          },
          "metadata": {},
          "execution_count": 70
        }
      ]
    },
    {
      "cell_type": "code",
      "source": [
        "# Define loss function and optimizer (back to SGD)\n",
        "loss_fn_m2 = torch.nn.CrossEntropyLoss()\n",
        "optimizer_m2 = torch.optim.SGD(model_2.parameters(), lr=0.1)"
      ],
      "metadata": {
        "id": "z27zGPLfCEP-"
      },
      "execution_count": 71,
      "outputs": []
    },
    {
      "cell_type": "code",
      "source": [
        "# Measure time\n",
        "from tqdm.auto import tqdm\n",
        "from timeit import default_timer as timer\n",
        "train_time_start_on_gpu = timer()\n",
        "\n",
        "epochs = 10\n",
        "for epoch in tqdm(range(epochs)):\n",
        "    print(f\"Epoch: {epoch}\\n{30 * '-'}\")\n",
        "    train_step(data_loader=train_dataloader,\n",
        "        model=model_2,\n",
        "        loss_fn=loss_fn_m2,\n",
        "        optimizer=optimizer_m2,\n",
        "        accuracy_fn=accuracy_fn\n",
        "    )\n",
        "    test_step(data_loader=test_dataloader,\n",
        "        model=model_2,\n",
        "        loss_fn=loss_fn_m2,\n",
        "        accuracy_fn=accuracy_fn\n",
        "    )\n",
        "\n",
        "train_time_end_on_gpu = timer()\n",
        "total_train_time_model_2 = print_train_time(start=train_time_start_on_gpu,\n",
        "                                            end=train_time_end_on_gpu,\n",
        "                                            device=device)"
      ],
      "metadata": {
        "colab": {
          "base_uri": "https://localhost:8080/",
          "height": 934,
          "referenced_widgets": [
            "405835e0d7844b28a6ed46b581f38ffb",
            "8382c49a3fd840cc937dce54eae6bacd",
            "ddd21d95e6ad4f2aae1afd866baea1fb",
            "74f167867f614db8a6eb01e540e61331",
            "bec5cc3337704bf7846a2fbda9617e76",
            "d6947bb23de74323921e01e3283de17f",
            "a02c5cb3f0f446a890d7e679afbaef5a",
            "ab707bf59e354bffa929eb1860c2c5e8",
            "93963b7bfb464c9da5a2731548bf8ed1",
            "b9ccabd501764198880d0f8968f475c5",
            "b480d6b512004d509f25b7ff239e9ac1"
          ]
        },
        "id": "AcMN_svaCdWO",
        "outputId": "1b25c818-6c8d-426c-b61f-66e0381a744c"
      },
      "execution_count": 72,
      "outputs": [
        {
          "output_type": "display_data",
          "data": {
            "text/plain": [
              "  0%|          | 0/10 [00:00<?, ?it/s]"
            ],
            "application/vnd.jupyter.widget-view+json": {
              "version_major": 2,
              "version_minor": 0,
              "model_id": "405835e0d7844b28a6ed46b581f38ffb"
            }
          },
          "metadata": {}
        },
        {
          "output_type": "stream",
          "name": "stdout",
          "text": [
            "Epoch: 0\n",
            "------------------------------\n",
            "Train loss: 0.82803 | Train accuracy: 71.72%\n",
            "Test loss: 0.66358 | Test accuracy: 76.92%\n",
            "\n",
            "Epoch: 1\n",
            "------------------------------\n",
            "Train loss: 0.62730 | Train accuracy: 78.18%\n",
            "Test loss: 0.64047 | Test accuracy: 77.78%\n",
            "\n",
            "Epoch: 2\n",
            "------------------------------\n",
            "Train loss: 0.59198 | Train accuracy: 79.47%\n",
            "Test loss: 0.62528 | Test accuracy: 78.15%\n",
            "\n",
            "Epoch: 3\n",
            "------------------------------\n",
            "Train loss: 0.56948 | Train accuracy: 80.17%\n",
            "Test loss: 0.62758 | Test accuracy: 78.23%\n",
            "\n",
            "Epoch: 4\n",
            "------------------------------\n",
            "Train loss: 0.55593 | Train accuracy: 80.66%\n",
            "Test loss: 0.61970 | Test accuracy: 78.27%\n",
            "\n",
            "Epoch: 5\n",
            "------------------------------\n",
            "Train loss: 0.54733 | Train accuracy: 81.03%\n",
            "Test loss: 0.62866 | Test accuracy: 78.08%\n",
            "\n",
            "Epoch: 6\n",
            "------------------------------\n",
            "Train loss: 0.53832 | Train accuracy: 81.17%\n",
            "Test loss: 0.62317 | Test accuracy: 78.12%\n",
            "\n",
            "Epoch: 7\n",
            "------------------------------\n",
            "Train loss: 0.53253 | Train accuracy: 81.32%\n",
            "Test loss: 0.64976 | Test accuracy: 77.45%\n",
            "\n",
            "Epoch: 8\n",
            "------------------------------\n",
            "Train loss: 0.52759 | Train accuracy: 81.56%\n",
            "Test loss: 0.65041 | Test accuracy: 77.70%\n",
            "\n",
            "Epoch: 9\n",
            "------------------------------\n",
            "Train loss: 0.52394 | Train accuracy: 81.68%\n",
            "Test loss: 0.63175 | Test accuracy: 78.25%\n",
            "\n",
            "Train time on cuda: 1426.919 seconds\n"
          ]
        }
      ]
    },
    {
      "cell_type": "markdown",
      "source": [
        "## Saving Transfer Learning model"
      ],
      "metadata": {
        "id": "C-5X3rOLjk__"
      }
    },
    {
      "cell_type": "code",
      "source": [
        "# Saving model\n",
        "from pathlib import Path\n",
        "\n",
        "# Create models directory\n",
        "MODEL_PATH = Path(\"models\")\n",
        "MODEL_PATH.mkdir(parents=True, # create parent directories if needed\n",
        "                 exist_ok=True # if models directory already exists, don't error\n",
        ")\n",
        "\n",
        "# Create model save path\n",
        "MODEL_NAME = \"cifar10_ccn_transfer_learning_model.pth\"\n",
        "MODEL_SAVE_PATH = MODEL_PATH / MODEL_NAME\n",
        "\n",
        "# Save the model state dict\n",
        "print(f\"Saving model to: {MODEL_SAVE_PATH}\")\n",
        "torch.save(obj=model_2.state_dict(), # only saving the state_dict() only saves the learned parameters\n",
        "           f=MODEL_SAVE_PATH)"
      ],
      "metadata": {
        "colab": {
          "base_uri": "https://localhost:8080/"
        },
        "id": "KYNomNG-i_8X",
        "outputId": "43fd5a45-c4e2-4035-9606-3eb1439a9c51"
      },
      "execution_count": 78,
      "outputs": [
        {
          "output_type": "stream",
          "name": "stdout",
          "text": [
            "Saving model to: models/cifar10_ccn_transfer_learning_model.pth\n"
          ]
        }
      ]
    }
  ]
}