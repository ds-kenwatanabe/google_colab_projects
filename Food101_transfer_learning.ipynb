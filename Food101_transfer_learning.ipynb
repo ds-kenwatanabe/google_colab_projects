{
  "nbformat": 4,
  "nbformat_minor": 0,
  "metadata": {
    "colab": {
      "provenance": [],
      "machine_shape": "hm",
      "gpuType": "T4",
      "authorship_tag": "ABX9TyN1MdoQzR4Jllq3xL3TJFd4",
      "include_colab_link": true
    },
    "kernelspec": {
      "name": "python3",
      "display_name": "Python 3"
    },
    "language_info": {
      "name": "python"
    },
    "accelerator": "GPU",
    "widgets": {
      "application/vnd.jupyter.widget-state+json": {
        "2fde174d797a475695072952c5b9671c": {
          "model_module": "@jupyter-widgets/controls",
          "model_name": "HBoxModel",
          "model_module_version": "1.5.0",
          "state": {
            "_dom_classes": [],
            "_model_module": "@jupyter-widgets/controls",
            "_model_module_version": "1.5.0",
            "_model_name": "HBoxModel",
            "_view_count": null,
            "_view_module": "@jupyter-widgets/controls",
            "_view_module_version": "1.5.0",
            "_view_name": "HBoxView",
            "box_style": "",
            "children": [
              "IPY_MODEL_7006834c284f413fa00941f10eade405",
              "IPY_MODEL_8dfda13669be44638532d612785f4756",
              "IPY_MODEL_a07bd33f6e134d25877dd863250eeb04"
            ],
            "layout": "IPY_MODEL_2655f960fbd84be4b7f104b0b2a4fe77"
          }
        },
        "7006834c284f413fa00941f10eade405": {
          "model_module": "@jupyter-widgets/controls",
          "model_name": "HTMLModel",
          "model_module_version": "1.5.0",
          "state": {
            "_dom_classes": [],
            "_model_module": "@jupyter-widgets/controls",
            "_model_module_version": "1.5.0",
            "_model_name": "HTMLModel",
            "_view_count": null,
            "_view_module": "@jupyter-widgets/controls",
            "_view_module_version": "1.5.0",
            "_view_name": "HTMLView",
            "description": "",
            "description_tooltip": null,
            "layout": "IPY_MODEL_68794b192d92410cb4b5dedbda16bc3b",
            "placeholder": "​",
            "style": "IPY_MODEL_23deea42023e4aeca0cbbcbb22495c6c",
            "value": "100%"
          }
        },
        "8dfda13669be44638532d612785f4756": {
          "model_module": "@jupyter-widgets/controls",
          "model_name": "FloatProgressModel",
          "model_module_version": "1.5.0",
          "state": {
            "_dom_classes": [],
            "_model_module": "@jupyter-widgets/controls",
            "_model_module_version": "1.5.0",
            "_model_name": "FloatProgressModel",
            "_view_count": null,
            "_view_module": "@jupyter-widgets/controls",
            "_view_module_version": "1.5.0",
            "_view_name": "ProgressView",
            "bar_style": "success",
            "description": "",
            "description_tooltip": null,
            "layout": "IPY_MODEL_b2af94dde21141c592c1e30170e14a6a",
            "max": 5,
            "min": 0,
            "orientation": "horizontal",
            "style": "IPY_MODEL_88b6c58d447745a99d6739ba7a66c192",
            "value": 5
          }
        },
        "a07bd33f6e134d25877dd863250eeb04": {
          "model_module": "@jupyter-widgets/controls",
          "model_name": "HTMLModel",
          "model_module_version": "1.5.0",
          "state": {
            "_dom_classes": [],
            "_model_module": "@jupyter-widgets/controls",
            "_model_module_version": "1.5.0",
            "_model_name": "HTMLModel",
            "_view_count": null,
            "_view_module": "@jupyter-widgets/controls",
            "_view_module_version": "1.5.0",
            "_view_name": "HTMLView",
            "description": "",
            "description_tooltip": null,
            "layout": "IPY_MODEL_0d9c0b41746348bca62053a00a6d30d4",
            "placeholder": "​",
            "style": "IPY_MODEL_f826c6896adc41c091fa1487c7d971bb",
            "value": " 5/5 [46:21&lt;00:00, 554.49s/it]"
          }
        },
        "2655f960fbd84be4b7f104b0b2a4fe77": {
          "model_module": "@jupyter-widgets/base",
          "model_name": "LayoutModel",
          "model_module_version": "1.2.0",
          "state": {
            "_model_module": "@jupyter-widgets/base",
            "_model_module_version": "1.2.0",
            "_model_name": "LayoutModel",
            "_view_count": null,
            "_view_module": "@jupyter-widgets/base",
            "_view_module_version": "1.2.0",
            "_view_name": "LayoutView",
            "align_content": null,
            "align_items": null,
            "align_self": null,
            "border": null,
            "bottom": null,
            "display": null,
            "flex": null,
            "flex_flow": null,
            "grid_area": null,
            "grid_auto_columns": null,
            "grid_auto_flow": null,
            "grid_auto_rows": null,
            "grid_column": null,
            "grid_gap": null,
            "grid_row": null,
            "grid_template_areas": null,
            "grid_template_columns": null,
            "grid_template_rows": null,
            "height": null,
            "justify_content": null,
            "justify_items": null,
            "left": null,
            "margin": null,
            "max_height": null,
            "max_width": null,
            "min_height": null,
            "min_width": null,
            "object_fit": null,
            "object_position": null,
            "order": null,
            "overflow": null,
            "overflow_x": null,
            "overflow_y": null,
            "padding": null,
            "right": null,
            "top": null,
            "visibility": null,
            "width": null
          }
        },
        "68794b192d92410cb4b5dedbda16bc3b": {
          "model_module": "@jupyter-widgets/base",
          "model_name": "LayoutModel",
          "model_module_version": "1.2.0",
          "state": {
            "_model_module": "@jupyter-widgets/base",
            "_model_module_version": "1.2.0",
            "_model_name": "LayoutModel",
            "_view_count": null,
            "_view_module": "@jupyter-widgets/base",
            "_view_module_version": "1.2.0",
            "_view_name": "LayoutView",
            "align_content": null,
            "align_items": null,
            "align_self": null,
            "border": null,
            "bottom": null,
            "display": null,
            "flex": null,
            "flex_flow": null,
            "grid_area": null,
            "grid_auto_columns": null,
            "grid_auto_flow": null,
            "grid_auto_rows": null,
            "grid_column": null,
            "grid_gap": null,
            "grid_row": null,
            "grid_template_areas": null,
            "grid_template_columns": null,
            "grid_template_rows": null,
            "height": null,
            "justify_content": null,
            "justify_items": null,
            "left": null,
            "margin": null,
            "max_height": null,
            "max_width": null,
            "min_height": null,
            "min_width": null,
            "object_fit": null,
            "object_position": null,
            "order": null,
            "overflow": null,
            "overflow_x": null,
            "overflow_y": null,
            "padding": null,
            "right": null,
            "top": null,
            "visibility": null,
            "width": null
          }
        },
        "23deea42023e4aeca0cbbcbb22495c6c": {
          "model_module": "@jupyter-widgets/controls",
          "model_name": "DescriptionStyleModel",
          "model_module_version": "1.5.0",
          "state": {
            "_model_module": "@jupyter-widgets/controls",
            "_model_module_version": "1.5.0",
            "_model_name": "DescriptionStyleModel",
            "_view_count": null,
            "_view_module": "@jupyter-widgets/base",
            "_view_module_version": "1.2.0",
            "_view_name": "StyleView",
            "description_width": ""
          }
        },
        "b2af94dde21141c592c1e30170e14a6a": {
          "model_module": "@jupyter-widgets/base",
          "model_name": "LayoutModel",
          "model_module_version": "1.2.0",
          "state": {
            "_model_module": "@jupyter-widgets/base",
            "_model_module_version": "1.2.0",
            "_model_name": "LayoutModel",
            "_view_count": null,
            "_view_module": "@jupyter-widgets/base",
            "_view_module_version": "1.2.0",
            "_view_name": "LayoutView",
            "align_content": null,
            "align_items": null,
            "align_self": null,
            "border": null,
            "bottom": null,
            "display": null,
            "flex": null,
            "flex_flow": null,
            "grid_area": null,
            "grid_auto_columns": null,
            "grid_auto_flow": null,
            "grid_auto_rows": null,
            "grid_column": null,
            "grid_gap": null,
            "grid_row": null,
            "grid_template_areas": null,
            "grid_template_columns": null,
            "grid_template_rows": null,
            "height": null,
            "justify_content": null,
            "justify_items": null,
            "left": null,
            "margin": null,
            "max_height": null,
            "max_width": null,
            "min_height": null,
            "min_width": null,
            "object_fit": null,
            "object_position": null,
            "order": null,
            "overflow": null,
            "overflow_x": null,
            "overflow_y": null,
            "padding": null,
            "right": null,
            "top": null,
            "visibility": null,
            "width": null
          }
        },
        "88b6c58d447745a99d6739ba7a66c192": {
          "model_module": "@jupyter-widgets/controls",
          "model_name": "ProgressStyleModel",
          "model_module_version": "1.5.0",
          "state": {
            "_model_module": "@jupyter-widgets/controls",
            "_model_module_version": "1.5.0",
            "_model_name": "ProgressStyleModel",
            "_view_count": null,
            "_view_module": "@jupyter-widgets/base",
            "_view_module_version": "1.2.0",
            "_view_name": "StyleView",
            "bar_color": null,
            "description_width": ""
          }
        },
        "0d9c0b41746348bca62053a00a6d30d4": {
          "model_module": "@jupyter-widgets/base",
          "model_name": "LayoutModel",
          "model_module_version": "1.2.0",
          "state": {
            "_model_module": "@jupyter-widgets/base",
            "_model_module_version": "1.2.0",
            "_model_name": "LayoutModel",
            "_view_count": null,
            "_view_module": "@jupyter-widgets/base",
            "_view_module_version": "1.2.0",
            "_view_name": "LayoutView",
            "align_content": null,
            "align_items": null,
            "align_self": null,
            "border": null,
            "bottom": null,
            "display": null,
            "flex": null,
            "flex_flow": null,
            "grid_area": null,
            "grid_auto_columns": null,
            "grid_auto_flow": null,
            "grid_auto_rows": null,
            "grid_column": null,
            "grid_gap": null,
            "grid_row": null,
            "grid_template_areas": null,
            "grid_template_columns": null,
            "grid_template_rows": null,
            "height": null,
            "justify_content": null,
            "justify_items": null,
            "left": null,
            "margin": null,
            "max_height": null,
            "max_width": null,
            "min_height": null,
            "min_width": null,
            "object_fit": null,
            "object_position": null,
            "order": null,
            "overflow": null,
            "overflow_x": null,
            "overflow_y": null,
            "padding": null,
            "right": null,
            "top": null,
            "visibility": null,
            "width": null
          }
        },
        "f826c6896adc41c091fa1487c7d971bb": {
          "model_module": "@jupyter-widgets/controls",
          "model_name": "DescriptionStyleModel",
          "model_module_version": "1.5.0",
          "state": {
            "_model_module": "@jupyter-widgets/controls",
            "_model_module_version": "1.5.0",
            "_model_name": "DescriptionStyleModel",
            "_view_count": null,
            "_view_module": "@jupyter-widgets/base",
            "_view_module_version": "1.2.0",
            "_view_name": "StyleView",
            "description_width": ""
          }
        },
        "671d6115ea2b4b409f333e9c89af5fb5": {
          "model_module": "@jupyter-widgets/controls",
          "model_name": "HBoxModel",
          "model_module_version": "1.5.0",
          "state": {
            "_dom_classes": [],
            "_model_module": "@jupyter-widgets/controls",
            "_model_module_version": "1.5.0",
            "_model_name": "HBoxModel",
            "_view_count": null,
            "_view_module": "@jupyter-widgets/controls",
            "_view_module_version": "1.5.0",
            "_view_name": "HBoxView",
            "box_style": "",
            "children": [
              "IPY_MODEL_37c2f6b5c3b3400da38e4d9e7abe1281",
              "IPY_MODEL_599753ee10334a8cbefa7ed7ffc77016",
              "IPY_MODEL_6210b6c8b6b04fc3b7a60bc8e93f72c2"
            ],
            "layout": "IPY_MODEL_3a848efee6ad45b1934ff7a782f8b3cc"
          }
        },
        "37c2f6b5c3b3400da38e4d9e7abe1281": {
          "model_module": "@jupyter-widgets/controls",
          "model_name": "HTMLModel",
          "model_module_version": "1.5.0",
          "state": {
            "_dom_classes": [],
            "_model_module": "@jupyter-widgets/controls",
            "_model_module_version": "1.5.0",
            "_model_name": "HTMLModel",
            "_view_count": null,
            "_view_module": "@jupyter-widgets/controls",
            "_view_module_version": "1.5.0",
            "_view_name": "HTMLView",
            "description": "",
            "description_tooltip": null,
            "layout": "IPY_MODEL_74081731440f4f739d991b16b866f2b0",
            "placeholder": "​",
            "style": "IPY_MODEL_98e6b9e8ef6f4a89853b43bd082a8bc2",
            "value": " 40%"
          }
        },
        "599753ee10334a8cbefa7ed7ffc77016": {
          "model_module": "@jupyter-widgets/controls",
          "model_name": "FloatProgressModel",
          "model_module_version": "1.5.0",
          "state": {
            "_dom_classes": [],
            "_model_module": "@jupyter-widgets/controls",
            "_model_module_version": "1.5.0",
            "_model_name": "FloatProgressModel",
            "_view_count": null,
            "_view_module": "@jupyter-widgets/controls",
            "_view_module_version": "1.5.0",
            "_view_name": "ProgressView",
            "bar_style": "danger",
            "description": "",
            "description_tooltip": null,
            "layout": "IPY_MODEL_da4e2c1ab2cb406a985020d7c9f38d27",
            "max": 5,
            "min": 0,
            "orientation": "horizontal",
            "style": "IPY_MODEL_6b3ac388c4c34035a8cc3e0c99019856",
            "value": 2
          }
        },
        "6210b6c8b6b04fc3b7a60bc8e93f72c2": {
          "model_module": "@jupyter-widgets/controls",
          "model_name": "HTMLModel",
          "model_module_version": "1.5.0",
          "state": {
            "_dom_classes": [],
            "_model_module": "@jupyter-widgets/controls",
            "_model_module_version": "1.5.0",
            "_model_name": "HTMLModel",
            "_view_count": null,
            "_view_module": "@jupyter-widgets/controls",
            "_view_module_version": "1.5.0",
            "_view_name": "HTMLView",
            "description": "",
            "description_tooltip": null,
            "layout": "IPY_MODEL_f313856214bf4f419225c11e1b0e72e5",
            "placeholder": "​",
            "style": "IPY_MODEL_a58b550f58b94a9aa08a491f2faeeaa1",
            "value": " 2/5 [28:12&lt;30:48, 616.20s/it]"
          }
        },
        "3a848efee6ad45b1934ff7a782f8b3cc": {
          "model_module": "@jupyter-widgets/base",
          "model_name": "LayoutModel",
          "model_module_version": "1.2.0",
          "state": {
            "_model_module": "@jupyter-widgets/base",
            "_model_module_version": "1.2.0",
            "_model_name": "LayoutModel",
            "_view_count": null,
            "_view_module": "@jupyter-widgets/base",
            "_view_module_version": "1.2.0",
            "_view_name": "LayoutView",
            "align_content": null,
            "align_items": null,
            "align_self": null,
            "border": null,
            "bottom": null,
            "display": null,
            "flex": null,
            "flex_flow": null,
            "grid_area": null,
            "grid_auto_columns": null,
            "grid_auto_flow": null,
            "grid_auto_rows": null,
            "grid_column": null,
            "grid_gap": null,
            "grid_row": null,
            "grid_template_areas": null,
            "grid_template_columns": null,
            "grid_template_rows": null,
            "height": null,
            "justify_content": null,
            "justify_items": null,
            "left": null,
            "margin": null,
            "max_height": null,
            "max_width": null,
            "min_height": null,
            "min_width": null,
            "object_fit": null,
            "object_position": null,
            "order": null,
            "overflow": null,
            "overflow_x": null,
            "overflow_y": null,
            "padding": null,
            "right": null,
            "top": null,
            "visibility": null,
            "width": null
          }
        },
        "74081731440f4f739d991b16b866f2b0": {
          "model_module": "@jupyter-widgets/base",
          "model_name": "LayoutModel",
          "model_module_version": "1.2.0",
          "state": {
            "_model_module": "@jupyter-widgets/base",
            "_model_module_version": "1.2.0",
            "_model_name": "LayoutModel",
            "_view_count": null,
            "_view_module": "@jupyter-widgets/base",
            "_view_module_version": "1.2.0",
            "_view_name": "LayoutView",
            "align_content": null,
            "align_items": null,
            "align_self": null,
            "border": null,
            "bottom": null,
            "display": null,
            "flex": null,
            "flex_flow": null,
            "grid_area": null,
            "grid_auto_columns": null,
            "grid_auto_flow": null,
            "grid_auto_rows": null,
            "grid_column": null,
            "grid_gap": null,
            "grid_row": null,
            "grid_template_areas": null,
            "grid_template_columns": null,
            "grid_template_rows": null,
            "height": null,
            "justify_content": null,
            "justify_items": null,
            "left": null,
            "margin": null,
            "max_height": null,
            "max_width": null,
            "min_height": null,
            "min_width": null,
            "object_fit": null,
            "object_position": null,
            "order": null,
            "overflow": null,
            "overflow_x": null,
            "overflow_y": null,
            "padding": null,
            "right": null,
            "top": null,
            "visibility": null,
            "width": null
          }
        },
        "98e6b9e8ef6f4a89853b43bd082a8bc2": {
          "model_module": "@jupyter-widgets/controls",
          "model_name": "DescriptionStyleModel",
          "model_module_version": "1.5.0",
          "state": {
            "_model_module": "@jupyter-widgets/controls",
            "_model_module_version": "1.5.0",
            "_model_name": "DescriptionStyleModel",
            "_view_count": null,
            "_view_module": "@jupyter-widgets/base",
            "_view_module_version": "1.2.0",
            "_view_name": "StyleView",
            "description_width": ""
          }
        },
        "da4e2c1ab2cb406a985020d7c9f38d27": {
          "model_module": "@jupyter-widgets/base",
          "model_name": "LayoutModel",
          "model_module_version": "1.2.0",
          "state": {
            "_model_module": "@jupyter-widgets/base",
            "_model_module_version": "1.2.0",
            "_model_name": "LayoutModel",
            "_view_count": null,
            "_view_module": "@jupyter-widgets/base",
            "_view_module_version": "1.2.0",
            "_view_name": "LayoutView",
            "align_content": null,
            "align_items": null,
            "align_self": null,
            "border": null,
            "bottom": null,
            "display": null,
            "flex": null,
            "flex_flow": null,
            "grid_area": null,
            "grid_auto_columns": null,
            "grid_auto_flow": null,
            "grid_auto_rows": null,
            "grid_column": null,
            "grid_gap": null,
            "grid_row": null,
            "grid_template_areas": null,
            "grid_template_columns": null,
            "grid_template_rows": null,
            "height": null,
            "justify_content": null,
            "justify_items": null,
            "left": null,
            "margin": null,
            "max_height": null,
            "max_width": null,
            "min_height": null,
            "min_width": null,
            "object_fit": null,
            "object_position": null,
            "order": null,
            "overflow": null,
            "overflow_x": null,
            "overflow_y": null,
            "padding": null,
            "right": null,
            "top": null,
            "visibility": null,
            "width": null
          }
        },
        "6b3ac388c4c34035a8cc3e0c99019856": {
          "model_module": "@jupyter-widgets/controls",
          "model_name": "ProgressStyleModel",
          "model_module_version": "1.5.0",
          "state": {
            "_model_module": "@jupyter-widgets/controls",
            "_model_module_version": "1.5.0",
            "_model_name": "ProgressStyleModel",
            "_view_count": null,
            "_view_module": "@jupyter-widgets/base",
            "_view_module_version": "1.2.0",
            "_view_name": "StyleView",
            "bar_color": null,
            "description_width": ""
          }
        },
        "f313856214bf4f419225c11e1b0e72e5": {
          "model_module": "@jupyter-widgets/base",
          "model_name": "LayoutModel",
          "model_module_version": "1.2.0",
          "state": {
            "_model_module": "@jupyter-widgets/base",
            "_model_module_version": "1.2.0",
            "_model_name": "LayoutModel",
            "_view_count": null,
            "_view_module": "@jupyter-widgets/base",
            "_view_module_version": "1.2.0",
            "_view_name": "LayoutView",
            "align_content": null,
            "align_items": null,
            "align_self": null,
            "border": null,
            "bottom": null,
            "display": null,
            "flex": null,
            "flex_flow": null,
            "grid_area": null,
            "grid_auto_columns": null,
            "grid_auto_flow": null,
            "grid_auto_rows": null,
            "grid_column": null,
            "grid_gap": null,
            "grid_row": null,
            "grid_template_areas": null,
            "grid_template_columns": null,
            "grid_template_rows": null,
            "height": null,
            "justify_content": null,
            "justify_items": null,
            "left": null,
            "margin": null,
            "max_height": null,
            "max_width": null,
            "min_height": null,
            "min_width": null,
            "object_fit": null,
            "object_position": null,
            "order": null,
            "overflow": null,
            "overflow_x": null,
            "overflow_y": null,
            "padding": null,
            "right": null,
            "top": null,
            "visibility": null,
            "width": null
          }
        },
        "a58b550f58b94a9aa08a491f2faeeaa1": {
          "model_module": "@jupyter-widgets/controls",
          "model_name": "DescriptionStyleModel",
          "model_module_version": "1.5.0",
          "state": {
            "_model_module": "@jupyter-widgets/controls",
            "_model_module_version": "1.5.0",
            "_model_name": "DescriptionStyleModel",
            "_view_count": null,
            "_view_module": "@jupyter-widgets/base",
            "_view_module_version": "1.2.0",
            "_view_name": "StyleView",
            "description_width": ""
          }
        }
      }
    }
  },
  "cells": [
    {
      "cell_type": "markdown",
      "metadata": {
        "id": "view-in-github",
        "colab_type": "text"
      },
      "source": [
        "<a href=\"https://colab.research.google.com/github/ds-kenwatanabe/google_colab_projects/blob/main/Food101_transfer_learning.ipynb\" target=\"_parent\"><img src=\"https://colab.research.google.com/assets/colab-badge.svg\" alt=\"Open In Colab\"/></a>"
      ]
    },
    {
      "cell_type": "markdown",
      "source": [
        "# Transfer learing from pre-trained PyTorch models and comparing models tested.\n",
        "\n",
        "This Google Colaboratory uses the Food101 DataSet, for more info: https://data.vision.ee.ethz.ch/cvl/datasets_extra/food-101/\n",
        "\n",
        "see also the PyTorch documentation: https://pytorch.org/vision/stable/generated/torchvision.datasets.Food101.html#torchvision.datasets.Food101\n",
        "\n",
        "The aim is to find the best performing and lowest size model.\n",
        "    \n",
        "* Use the best performing model to edge device (i.e., not cloud).\n",
        "\n",
        "**Note**\n",
        "\n",
        "Edge device differente from IoT: https://aws.amazon.com/pt/blogs/machine-learning/demystifying-machine-learning-at-the-edge-through-real-use-cases/"
      ],
      "metadata": {
        "id": "h4245TNVLd9P"
      }
    },
    {
      "cell_type": "code",
      "execution_count": null,
      "metadata": {
        "id": "KWIDomBSKilJ"
      },
      "outputs": [],
      "source": [
        "import torch\n",
        "import torchvision\n",
        "import matplotlib.pyplot as plt\n",
        "import torch\n",
        "import torchvision\n",
        "from torch import nn\n",
        "from torchvision import transforms\n",
        "from torchvision.datasets import Food101\n",
        "try:\n",
        "    from torchinfo import summary\n",
        "except:\n",
        "    print(\"[INFO] torchinfo not found. Installing it.\")\n",
        "    !pip install -q torchinfo\n",
        "    from torchinfo import summary"
      ]
    },
    {
      "cell_type": "code",
      "source": [
        "# Run device-agnostic code\n",
        "device = \"cuda\" if torch.cuda.is_available() else \"cpu\"\n",
        "device"
      ],
      "metadata": {
        "colab": {
          "base_uri": "https://localhost:8080/",
          "height": 35
        },
        "id": "z7MatEHHMqP2",
        "outputId": "c113a470-7db8-43ef-9d45-dac88c49ecb8"
      },
      "execution_count": null,
      "outputs": [
        {
          "output_type": "execute_result",
          "data": {
            "text/plain": [
              "'cuda'"
            ],
            "application/vnd.google.colaboratory.intrinsic+json": {
              "type": "string"
            }
          },
          "metadata": {},
          "execution_count": 7
        }
      ]
    },
    {
      "cell_type": "markdown",
      "source": [
        "## Download Food101 data and create DataLoaders"
      ],
      "metadata": {
        "id": "rdh0Rp_KVPpp"
      }
    },
    {
      "cell_type": "code",
      "source": [
        "from torchvision.transforms.transforms import ToTensor\n",
        "# Train and test DataLoaders\n",
        "train_data = Food101(root=\"data\",\n",
        "                     download=True,\n",
        "                     split=\"train\",\n",
        "                     transform=transforms.Compose([\n",
        "                          transforms.Resize((224, 224)),\n",
        "                          transforms.ToTensor()]))\n",
        "\n",
        "test_data = Food101(root=\"data\",\n",
        "                    download=True,\n",
        "                    split=\"test\",\n",
        "                    transform=transforms.Compose([\n",
        "                        transforms.Resize((224, 224)),\n",
        "                        transforms.ToTensor()]))"
      ],
      "metadata": {
        "id": "bQ0px3gWVWVw"
      },
      "execution_count": null,
      "outputs": []
    },
    {
      "cell_type": "code",
      "source": [
        "# See classes\n",
        "class_names = train_data.classes\n",
        "class_names, len(class_names)"
      ],
      "metadata": {
        "colab": {
          "base_uri": "https://localhost:8080/"
        },
        "id": "dKgx7S5D1i_l",
        "outputId": "4822faf6-56fd-41e0-ff85-47322cc2a02b"
      },
      "execution_count": null,
      "outputs": [
        {
          "output_type": "execute_result",
          "data": {
            "text/plain": [
              "(['apple_pie',\n",
              "  'baby_back_ribs',\n",
              "  'baklava',\n",
              "  'beef_carpaccio',\n",
              "  'beef_tartare',\n",
              "  'beet_salad',\n",
              "  'beignets',\n",
              "  'bibimbap',\n",
              "  'bread_pudding',\n",
              "  'breakfast_burrito',\n",
              "  'bruschetta',\n",
              "  'caesar_salad',\n",
              "  'cannoli',\n",
              "  'caprese_salad',\n",
              "  'carrot_cake',\n",
              "  'ceviche',\n",
              "  'cheese_plate',\n",
              "  'cheesecake',\n",
              "  'chicken_curry',\n",
              "  'chicken_quesadilla',\n",
              "  'chicken_wings',\n",
              "  'chocolate_cake',\n",
              "  'chocolate_mousse',\n",
              "  'churros',\n",
              "  'clam_chowder',\n",
              "  'club_sandwich',\n",
              "  'crab_cakes',\n",
              "  'creme_brulee',\n",
              "  'croque_madame',\n",
              "  'cup_cakes',\n",
              "  'deviled_eggs',\n",
              "  'donuts',\n",
              "  'dumplings',\n",
              "  'edamame',\n",
              "  'eggs_benedict',\n",
              "  'escargots',\n",
              "  'falafel',\n",
              "  'filet_mignon',\n",
              "  'fish_and_chips',\n",
              "  'foie_gras',\n",
              "  'french_fries',\n",
              "  'french_onion_soup',\n",
              "  'french_toast',\n",
              "  'fried_calamari',\n",
              "  'fried_rice',\n",
              "  'frozen_yogurt',\n",
              "  'garlic_bread',\n",
              "  'gnocchi',\n",
              "  'greek_salad',\n",
              "  'grilled_cheese_sandwich',\n",
              "  'grilled_salmon',\n",
              "  'guacamole',\n",
              "  'gyoza',\n",
              "  'hamburger',\n",
              "  'hot_and_sour_soup',\n",
              "  'hot_dog',\n",
              "  'huevos_rancheros',\n",
              "  'hummus',\n",
              "  'ice_cream',\n",
              "  'lasagna',\n",
              "  'lobster_bisque',\n",
              "  'lobster_roll_sandwich',\n",
              "  'macaroni_and_cheese',\n",
              "  'macarons',\n",
              "  'miso_soup',\n",
              "  'mussels',\n",
              "  'nachos',\n",
              "  'omelette',\n",
              "  'onion_rings',\n",
              "  'oysters',\n",
              "  'pad_thai',\n",
              "  'paella',\n",
              "  'pancakes',\n",
              "  'panna_cotta',\n",
              "  'peking_duck',\n",
              "  'pho',\n",
              "  'pizza',\n",
              "  'pork_chop',\n",
              "  'poutine',\n",
              "  'prime_rib',\n",
              "  'pulled_pork_sandwich',\n",
              "  'ramen',\n",
              "  'ravioli',\n",
              "  'red_velvet_cake',\n",
              "  'risotto',\n",
              "  'samosa',\n",
              "  'sashimi',\n",
              "  'scallops',\n",
              "  'seaweed_salad',\n",
              "  'shrimp_and_grits',\n",
              "  'spaghetti_bolognese',\n",
              "  'spaghetti_carbonara',\n",
              "  'spring_rolls',\n",
              "  'steak',\n",
              "  'strawberry_shortcake',\n",
              "  'sushi',\n",
              "  'tacos',\n",
              "  'takoyaki',\n",
              "  'tiramisu',\n",
              "  'tuna_tartare',\n",
              "  'waffles'],\n",
              " 101)"
            ]
          },
          "metadata": {},
          "execution_count": 8
        }
      ]
    },
    {
      "cell_type": "markdown",
      "source": [
        "## Creating functions\n",
        "\n",
        "The functions next will be used to help test, train, and evaluate the model(s)"
      ],
      "metadata": {
        "id": "uvbbHysLOJdG"
      }
    },
    {
      "cell_type": "code",
      "source": [
        "import os\n",
        "\n",
        "from torchvision import datasets, transforms\n",
        "from torch.utils.data import DataLoader\n",
        "\n",
        "NUM_WORKERS = os.cpu_count()\n",
        "\n",
        "\n",
        "def create_dataloaders(\n",
        "    train_dir: str,\n",
        "    test_dir: str,\n",
        "    transform: transforms.Compose,\n",
        "    batch_size: int,\n",
        "    num_workers: int=NUM_WORKERS\n",
        "):\n",
        "  \"\"\"Creates training and testing DataLoaders.\n",
        "\n",
        "  Takes in a training directory and testing directory path and turns\n",
        "  them into PyTorch Datasets and then into PyTorch DataLoaders.\n",
        "\n",
        "  Args:\n",
        "    train_dir: Path to training directory.\n",
        "    test_dir: Path to testing directory.\n",
        "    transform: torchvision transforms to perform on training and testing data.\n",
        "    batch_size: Number of samples per batch in each of the DataLoaders.\n",
        "    num_workers: An integer for number of workers per DataLoader.\n",
        "\n",
        "  Returns:\n",
        "    A tuple of (train_dataloader, test_dataloader, class_names).\n",
        "    Where class_names is a list of the target classes.\n",
        "    Example usage:\n",
        "      train_dataloader, test_dataloader, class_names = \\\n",
        "        = create_dataloaders(train_dir=path/to/train_dir,\n",
        "                             test_dir=path/to/test_dir,\n",
        "                             transform=some_transform,\n",
        "                             batch_size=32,\n",
        "                             num_workers=4)\n",
        "  \"\"\"\n",
        "  # Use ImageFolder to create dataset(s)\n",
        "  train_data = datasets.ImageFolder(train_dir, transform=transform)\n",
        "  test_data = datasets.ImageFolder(test_dir, transform=transform)\n",
        "\n",
        "  # Get class names\n",
        "  class_names = train_data.classes\n",
        "\n",
        "  # Turn images into data loaders\n",
        "  train_dataloader = DataLoader(\n",
        "      train_data,\n",
        "      batch_size=batch_size,\n",
        "      shuffle=True,\n",
        "      num_workers=num_workers,\n",
        "      pin_memory=True,\n",
        "  )\n",
        "  test_dataloader = DataLoader(\n",
        "      test_data,\n",
        "      batch_size=batch_size,\n",
        "      shuffle=False,\n",
        "      num_workers=num_workers,\n",
        "      pin_memory=True,\n",
        "  )\n",
        "\n",
        "  return train_dataloader, test_dataloader, class_names"
      ],
      "metadata": {
        "id": "DduLsP46OHqM"
      },
      "execution_count": null,
      "outputs": []
    },
    {
      "cell_type": "code",
      "source": [
        "import torch\n",
        "\n",
        "from tqdm.auto import tqdm\n",
        "from typing import Dict, List, Tuple\n",
        "\n",
        "\n",
        "def train_step(model: torch.nn.Module,\n",
        "               dataloader: torch.utils.data.DataLoader,\n",
        "               loss_fn: torch.nn.Module,\n",
        "               optimizer: torch.optim.Optimizer,\n",
        "               device: torch.device) -> Tuple[float, float]:\n",
        "    \"\"\"Trains a PyTorch model for a single epoch.\n",
        "\n",
        "    Turns a target PyTorch model to training mode and then\n",
        "    runs through all of the required training steps (forward\n",
        "    pass, loss calculation, optimizer step).\n",
        "\n",
        "    Args:\n",
        "    model: A PyTorch model to be trained.\n",
        "    dataloader: A DataLoader instance for the model to be trained on.\n",
        "    loss_fn: A PyTorch loss function to minimize.\n",
        "    optimizer: A PyTorch optimizer to help minimize the loss function.\n",
        "    device: A target device to compute on (e.g. \"cuda\" or \"cpu\").\n",
        "\n",
        "    Returns:\n",
        "    A tuple of training loss and training accuracy metrics.\n",
        "    In the form (train_loss, train_accuracy). For example:\n",
        "\n",
        "    (0.1112, 0.8743)\n",
        "    \"\"\"\n",
        "    # Put model in train mode\n",
        "    model.train()\n",
        "\n",
        "    # Setup train loss and train accuracy values\n",
        "    train_loss, train_acc = 0, 0\n",
        "\n",
        "    # Loop through data loader data batches\n",
        "    for batch, (X, y) in enumerate(dataloader):\n",
        "        # Send data to target device\n",
        "        X, y = X.to(device), y.to(device)\n",
        "\n",
        "        # 1. Forward pass\n",
        "        y_pred = model(X)\n",
        "\n",
        "        # 2. Calculate  and accumulate loss\n",
        "        loss = loss_fn(y_pred, y)\n",
        "        train_loss += loss.item()\n",
        "\n",
        "        # 3. Optimizer zero grad\n",
        "        optimizer.zero_grad()\n",
        "\n",
        "        # 4. Loss backward\n",
        "        loss.backward()\n",
        "\n",
        "        # 5. Optimizer step\n",
        "        optimizer.step()\n",
        "\n",
        "        # Calculate and accumulate accuracy metric across all batches\n",
        "        y_pred_class = torch.argmax(torch.softmax(y_pred, dim=1), dim=1)\n",
        "        train_acc += (y_pred_class == y).sum().item() / len(y_pred)\n",
        "\n",
        "    # Adjust metrics to get average loss and accuracy per batch\n",
        "    train_loss = train_loss / len(dataloader)\n",
        "    train_acc = train_acc / len(dataloader)\n",
        "    return train_loss, train_acc\n",
        "\n",
        "\n",
        "def test_step(model: torch.nn.Module,\n",
        "              dataloader: torch.utils.data.DataLoader,\n",
        "              loss_fn: torch.nn.Module,\n",
        "              device: torch.device) -> Tuple[float, float]:\n",
        "    \"\"\"Tests a PyTorch model for a single epoch.\n",
        "\n",
        "    Turns a target PyTorch model to \"eval\" mode and then performs\n",
        "    a forward pass on a testing dataset.\n",
        "\n",
        "    Args:\n",
        "    model: A PyTorch model to be tested.\n",
        "    dataloader: A DataLoader instance for the model to be tested on.\n",
        "    loss_fn: A PyTorch loss function to calculate loss on the test data.\n",
        "    device: A target device to compute on (e.g. \"cuda\" or \"cpu\").\n",
        "\n",
        "    Returns:\n",
        "    A tuple of testing loss and testing accuracy metrics.\n",
        "    In the form (test_loss, test_accuracy). For example:\n",
        "\n",
        "    (0.0223, 0.8985)\n",
        "    \"\"\"\n",
        "    # Put model in eval mode\n",
        "    model.eval()\n",
        "\n",
        "    # Setup test loss and test accuracy values\n",
        "    test_loss, test_acc = 0, 0\n",
        "\n",
        "    # Turn on inference context manager\n",
        "    with torch.inference_mode():\n",
        "        # Loop through DataLoader batches\n",
        "        for batch, (X, y) in enumerate(dataloader):\n",
        "            # Send data to target device\n",
        "            X, y = X.to(device), y.to(device)\n",
        "\n",
        "            # 1. Forward pass\n",
        "            test_pred_logits = model(X)\n",
        "\n",
        "            # 2. Calculate and accumulate loss\n",
        "            loss = loss_fn(test_pred_logits, y)\n",
        "            test_loss += loss.item()\n",
        "\n",
        "            # Calculate and accumulate accuracy\n",
        "            test_pred_labels = test_pred_logits.argmax(dim=1)\n",
        "            test_acc += ((test_pred_labels == y).sum().item() / len(test_pred_labels))\n",
        "\n",
        "    # Adjust metrics to get average loss and accuracy per batch\n",
        "    test_loss = test_loss / len(dataloader)\n",
        "    test_acc = test_acc / len(dataloader)\n",
        "    return test_loss, test_acc\n",
        "\n",
        "\n",
        "def train(model: torch.nn.Module,\n",
        "          train_dataloader: torch.utils.data.DataLoader,\n",
        "          test_dataloader: torch.utils.data.DataLoader,\n",
        "          optimizer: torch.optim.Optimizer,\n",
        "          loss_fn: torch.nn.Module,\n",
        "          epochs: int,\n",
        "          device: torch.device) -> Dict[str, List]:\n",
        "    \"\"\"Trains and tests a PyTorch model.\n",
        "\n",
        "    Passes a target PyTorch models through train_step() and test_step()\n",
        "    functions for a number of epochs, training and testing the model\n",
        "    in the same epoch loop.\n",
        "\n",
        "    Calculates, prints and stores evaluation metrics throughout.\n",
        "\n",
        "    Args:\n",
        "    model: A PyTorch model to be trained and tested.\n",
        "    train_dataloader: A DataLoader instance for the model to be trained on.\n",
        "    test_dataloader: A DataLoader instance for the model to be tested on.\n",
        "    optimizer: A PyTorch optimizer to help minimize the loss function.\n",
        "    loss_fn: A PyTorch loss function to calculate loss on both datasets.\n",
        "    epochs: An integer indicating how many epochs to train for.\n",
        "    device: A target device to compute on (e.g. \"cuda\" or \"cpu\").\n",
        "\n",
        "    Returns:\n",
        "    A dictionary of training and testing loss as well as training and\n",
        "    testing accuracy metrics. Each metric has a value in a list for\n",
        "    each epoch.\n",
        "    In the form: {train_loss: [...],\n",
        "              train_acc: [...],\n",
        "              test_loss: [...],\n",
        "              test_acc: [...]}\n",
        "    For example if training for epochs=2:\n",
        "             {train_loss: [2.0616, 1.0537],\n",
        "              train_acc: [0.3945, 0.3945],\n",
        "              test_loss: [1.2641, 1.5706],\n",
        "              test_acc: [0.3400, 0.2973]}\n",
        "    \"\"\"\n",
        "    # Create empty results dictionary\n",
        "    results = {\"train_loss\": [],\n",
        "               \"train_acc\": [],\n",
        "               \"test_loss\": [],\n",
        "               \"test_acc\": []\n",
        "    }\n",
        "\n",
        "    # Make sure model on target device\n",
        "    model.to(device)\n",
        "\n",
        "    # Loop through training and testing steps for a number of epochs\n",
        "    for epoch in tqdm(range(epochs)):\n",
        "        train_loss, train_acc = train_step(model=model,\n",
        "                                          dataloader=train_dataloader,\n",
        "                                          loss_fn=loss_fn,\n",
        "                                          optimizer=optimizer,\n",
        "                                          device=device)\n",
        "        test_loss, test_acc = test_step(model=model,\n",
        "          dataloader=test_dataloader,\n",
        "          loss_fn=loss_fn,\n",
        "          device=device)\n",
        "\n",
        "        # Print out what's happening\n",
        "        print(\n",
        "          f\"Epoch: {epoch+1} | \"\n",
        "          f\"train_loss: {train_loss:.4f} | \"\n",
        "          f\"train_acc: {train_acc:.4f} | \"\n",
        "          f\"test_loss: {test_loss:.4f} | \"\n",
        "          f\"test_acc: {test_acc:.4f}\"\n",
        "        )\n",
        "\n",
        "        # Update results dictionary\n",
        "        results[\"train_loss\"].append(train_loss)\n",
        "        results[\"train_acc\"].append(train_acc)\n",
        "        results[\"test_loss\"].append(test_loss)\n",
        "        results[\"test_acc\"].append(test_acc)\n",
        "\n",
        "    # Return the filled results at the end of the epochs\n",
        "    return results"
      ],
      "metadata": {
        "id": "2CHJHjMbO1rt"
      },
      "execution_count": null,
      "outputs": []
    },
    {
      "cell_type": "markdown",
      "source": [
        "## Transfer Learning model 1 - using MNASNet1_3\n",
        "\n",
        "See documentation: https://pytorch.org/vision/stable/models/generated/torchvision.models.mnasnet1_3.html#torchvision.models.MNASNet1_3_Weights\n",
        "\n",
        "See paper: https://arxiv.org/abs/1807.11626"
      ],
      "metadata": {
        "id": "Q5N_6NSdO1Yl"
      }
    },
    {
      "cell_type": "code",
      "source": [
        "from torchvision.models.mnasnet import mnasnet1_3\n",
        "# Set up pretrained MNASNet1_3 weights\n",
        "mnasnet1_3_weights = torchvision.models.MNASNet1_3_Weights.DEFAULT\n",
        "\n",
        "# Get transforms\n",
        "mnasnet1_3_transforms = mnasnet1_3_weights.transforms\n",
        "\n",
        "# Set up pretrained model instance\n",
        "mnasnet1_3 = torchvision.models.mnasnet1_3(weights=mnasnet1_3_weights)\n",
        "\n",
        "# Freeze the base layers in the model (stop layers from training)\n",
        "for param in mnasnet1_3.parameters():\n",
        "    param.requires_grad = False"
      ],
      "metadata": {
        "id": "vfYOX0MzRd48"
      },
      "execution_count": null,
      "outputs": []
    },
    {
      "cell_type": "code",
      "source": [
        "summary(mnasnet1_3,\n",
        "        input_size=(1, 3, 224, 224),\n",
        "        col_names=[\"input_size\", \"output_size\", \"num_params\", \"trainable\"],\n",
        "        col_width=20,\n",
        "        row_settings=[\"var_names\"])"
      ],
      "metadata": {
        "colab": {
          "base_uri": "https://localhost:8080/"
        },
        "id": "mPswpJF1TPb9",
        "outputId": "4b4626d3-7ca5-44cd-9c0a-559e9acd1637"
      },
      "execution_count": null,
      "outputs": [
        {
          "output_type": "execute_result",
          "data": {
            "text/plain": [
              "=============================================================================================================================\n",
              "Layer (type (var_name))                       Input Shape          Output Shape         Param #              Trainable\n",
              "=============================================================================================================================\n",
              "MNASNet (MNASNet)                             [1, 3, 224, 224]     [1, 1000]            --                   False\n",
              "├─Sequential (layers)                         [1, 3, 224, 224]     [1, 1280, 7, 7]      --                   False\n",
              "│    └─Conv2d (0)                             [1, 3, 224, 224]     [1, 40, 112, 112]    (1,080)              False\n",
              "│    └─BatchNorm2d (1)                        [1, 40, 112, 112]    [1, 40, 112, 112]    (80)                 False\n",
              "│    └─ReLU (2)                               [1, 40, 112, 112]    [1, 40, 112, 112]    --                   --\n",
              "│    └─Conv2d (3)                             [1, 40, 112, 112]    [1, 40, 112, 112]    (360)                False\n",
              "│    └─BatchNorm2d (4)                        [1, 40, 112, 112]    [1, 40, 112, 112]    (80)                 False\n",
              "│    └─ReLU (5)                               [1, 40, 112, 112]    [1, 40, 112, 112]    --                   --\n",
              "│    └─Conv2d (6)                             [1, 40, 112, 112]    [1, 24, 112, 112]    (960)                False\n",
              "│    └─BatchNorm2d (7)                        [1, 24, 112, 112]    [1, 24, 112, 112]    (48)                 False\n",
              "│    └─Sequential (8)                         [1, 24, 112, 112]    [1, 32, 56, 56]      --                   False\n",
              "│    │    └─_InvertedResidual (0)             [1, 24, 112, 112]    [1, 32, 56, 56]      (5,032)              False\n",
              "│    │    └─_InvertedResidual (1)             [1, 32, 56, 56]      [1, 32, 56, 56]      (7,456)              False\n",
              "│    │    └─_InvertedResidual (2)             [1, 32, 56, 56]      [1, 32, 56, 56]      (7,456)              False\n",
              "│    └─Sequential (9)                         [1, 32, 56, 56]      [1, 56, 28, 28]      --                   False\n",
              "│    │    └─_InvertedResidual (0)             [1, 32, 56, 56]      [1, 56, 28, 28]      (11,344)             False\n",
              "│    │    └─_InvertedResidual (1)             [1, 56, 28, 28]      [1, 56, 28, 28]      (23,800)             False\n",
              "│    │    └─_InvertedResidual (2)             [1, 56, 28, 28]      [1, 56, 28, 28]      (23,800)             False\n",
              "│    └─Sequential (10)                        [1, 56, 28, 28]      [1, 104, 14, 14]     --                   False\n",
              "│    │    └─_InvertedResidual (0)             [1, 56, 28, 28]      [1, 104, 14, 14]     (63,712)             False\n",
              "│    │    └─_InvertedResidual (1)             [1, 104, 14, 14]     [1, 104, 14, 14]     (148,096)            False\n",
              "│    │    └─_InvertedResidual (2)             [1, 104, 14, 14]     [1, 104, 14, 14]     (148,096)            False\n",
              "│    └─Sequential (11)                        [1, 104, 14, 14]     [1, 128, 14, 14]     --                   False\n",
              "│    │    └─_InvertedResidual (0)             [1, 104, 14, 14]     [1, 128, 14, 14]     (153,136)            False\n",
              "│    │    └─_InvertedResidual (1)             [1, 128, 14, 14]     [1, 128, 14, 14]     (206,848)            False\n",
              "│    └─Sequential (12)                        [1, 128, 14, 14]     [1, 248, 7, 7]       --                   False\n",
              "│    │    └─_InvertedResidual (0)             [1, 128, 14, 14]     [1, 248, 7, 7]       (311,536)            False\n",
              "│    │    └─_InvertedResidual (1)             [1, 248, 7, 7]       [1, 248, 7, 7]       (781,696)            False\n",
              "│    │    └─_InvertedResidual (2)             [1, 248, 7, 7]       [1, 248, 7, 7]       (781,696)            False\n",
              "│    │    └─_InvertedResidual (3)             [1, 248, 7, 7]       [1, 248, 7, 7]       (781,696)            False\n",
              "│    └─Sequential (13)                        [1, 248, 7, 7]       [1, 416, 7, 7]       --                   False\n",
              "│    │    └─_InvertedResidual (0)             [1, 248, 7, 7]       [1, 416, 7, 7]       (1,008,208)          False\n",
              "│    └─Conv2d (14)                            [1, 416, 7, 7]       [1, 1280, 7, 7]      (532,480)            False\n",
              "│    └─BatchNorm2d (15)                       [1, 1280, 7, 7]      [1, 1280, 7, 7]      (2,560)              False\n",
              "│    └─ReLU (16)                              [1, 1280, 7, 7]      [1, 1280, 7, 7]      --                   --\n",
              "├─Sequential (classifier)                     [1, 1280]            [1, 1000]            --                   False\n",
              "│    └─Dropout (0)                            [1, 1280]            [1, 1280]            --                   --\n",
              "│    └─Linear (1)                             [1, 1280]            [1, 1000]            (1,281,000)          False\n",
              "=============================================================================================================================\n",
              "Total params: 6,282,256\n",
              "Trainable params: 0\n",
              "Non-trainable params: 6,282,256\n",
              "Total mult-adds (M): 526.41\n",
              "=============================================================================================================================\n",
              "Input size (MB): 0.60\n",
              "Forward/backward pass size (MB): 117.65\n",
              "Params size (MB): 25.13\n",
              "Estimated Total Size (MB): 143.38\n",
              "============================================================================================================================="
            ]
          },
          "metadata": {},
          "execution_count": 21
        }
      ]
    },
    {
      "cell_type": "code",
      "source": [
        "# See the classifier\n",
        "mnasnet1_3.classifier"
      ],
      "metadata": {
        "colab": {
          "base_uri": "https://localhost:8080/"
        },
        "id": "gf5wVCuLTeom",
        "outputId": "be46e849-6329-4e95-801b-5d614a1d3c0b"
      },
      "execution_count": null,
      "outputs": [
        {
          "output_type": "execute_result",
          "data": {
            "text/plain": [
              "Sequential(\n",
              "  (0): Dropout(p=0.2, inplace=True)\n",
              "  (1): Linear(in_features=1280, out_features=1000, bias=True)\n",
              ")"
            ]
          },
          "metadata": {},
          "execution_count": 22
        }
      ]
    },
    {
      "cell_type": "code",
      "source": [
        "# Change the classifier to the number of classes needed (101 classes)\n",
        "mnasnet1_3.classifier = nn.Sequential(\n",
        "    nn.Dropout(p=0.2, inplace=True),\n",
        "    nn.Linear(in_features=1280, out_features=101, bias=True)\n",
        ")"
      ],
      "metadata": {
        "id": "T72w-bLtTlxQ"
      },
      "execution_count": null,
      "outputs": []
    },
    {
      "cell_type": "code",
      "source": [
        "# See summary after classifier change\n",
        "summary(mnasnet1_3,\n",
        "        input_size=(1, 3, 224, 224),\n",
        "        col_names=[\"input_size\", \"output_size\", \"num_params\", \"trainable\"],\n",
        "        col_width=20,\n",
        "        row_settings=[\"var_names\"])"
      ],
      "metadata": {
        "colab": {
          "base_uri": "https://localhost:8080/"
        },
        "id": "GN6ulmhj1pVY",
        "outputId": "a369bde5-7d04-4ffe-806a-be9e6a346b46"
      },
      "execution_count": null,
      "outputs": [
        {
          "output_type": "execute_result",
          "data": {
            "text/plain": [
              "=============================================================================================================================\n",
              "Layer (type (var_name))                       Input Shape          Output Shape         Param #              Trainable\n",
              "=============================================================================================================================\n",
              "MNASNet (MNASNet)                             [1, 3, 224, 224]     [1, 101]             --                   Partial\n",
              "├─Sequential (layers)                         [1, 3, 224, 224]     [1, 1280, 7, 7]      --                   False\n",
              "│    └─Conv2d (0)                             [1, 3, 224, 224]     [1, 40, 112, 112]    (1,080)              False\n",
              "│    └─BatchNorm2d (1)                        [1, 40, 112, 112]    [1, 40, 112, 112]    (80)                 False\n",
              "│    └─ReLU (2)                               [1, 40, 112, 112]    [1, 40, 112, 112]    --                   --\n",
              "│    └─Conv2d (3)                             [1, 40, 112, 112]    [1, 40, 112, 112]    (360)                False\n",
              "│    └─BatchNorm2d (4)                        [1, 40, 112, 112]    [1, 40, 112, 112]    (80)                 False\n",
              "│    └─ReLU (5)                               [1, 40, 112, 112]    [1, 40, 112, 112]    --                   --\n",
              "│    └─Conv2d (6)                             [1, 40, 112, 112]    [1, 24, 112, 112]    (960)                False\n",
              "│    └─BatchNorm2d (7)                        [1, 24, 112, 112]    [1, 24, 112, 112]    (48)                 False\n",
              "│    └─Sequential (8)                         [1, 24, 112, 112]    [1, 32, 56, 56]      --                   False\n",
              "│    │    └─_InvertedResidual (0)             [1, 24, 112, 112]    [1, 32, 56, 56]      (5,032)              False\n",
              "│    │    └─_InvertedResidual (1)             [1, 32, 56, 56]      [1, 32, 56, 56]      (7,456)              False\n",
              "│    │    └─_InvertedResidual (2)             [1, 32, 56, 56]      [1, 32, 56, 56]      (7,456)              False\n",
              "│    └─Sequential (9)                         [1, 32, 56, 56]      [1, 56, 28, 28]      --                   False\n",
              "│    │    └─_InvertedResidual (0)             [1, 32, 56, 56]      [1, 56, 28, 28]      (11,344)             False\n",
              "│    │    └─_InvertedResidual (1)             [1, 56, 28, 28]      [1, 56, 28, 28]      (23,800)             False\n",
              "│    │    └─_InvertedResidual (2)             [1, 56, 28, 28]      [1, 56, 28, 28]      (23,800)             False\n",
              "│    └─Sequential (10)                        [1, 56, 28, 28]      [1, 104, 14, 14]     --                   False\n",
              "│    │    └─_InvertedResidual (0)             [1, 56, 28, 28]      [1, 104, 14, 14]     (63,712)             False\n",
              "│    │    └─_InvertedResidual (1)             [1, 104, 14, 14]     [1, 104, 14, 14]     (148,096)            False\n",
              "│    │    └─_InvertedResidual (2)             [1, 104, 14, 14]     [1, 104, 14, 14]     (148,096)            False\n",
              "│    └─Sequential (11)                        [1, 104, 14, 14]     [1, 128, 14, 14]     --                   False\n",
              "│    │    └─_InvertedResidual (0)             [1, 104, 14, 14]     [1, 128, 14, 14]     (153,136)            False\n",
              "│    │    └─_InvertedResidual (1)             [1, 128, 14, 14]     [1, 128, 14, 14]     (206,848)            False\n",
              "│    └─Sequential (12)                        [1, 128, 14, 14]     [1, 248, 7, 7]       --                   False\n",
              "│    │    └─_InvertedResidual (0)             [1, 128, 14, 14]     [1, 248, 7, 7]       (311,536)            False\n",
              "│    │    └─_InvertedResidual (1)             [1, 248, 7, 7]       [1, 248, 7, 7]       (781,696)            False\n",
              "│    │    └─_InvertedResidual (2)             [1, 248, 7, 7]       [1, 248, 7, 7]       (781,696)            False\n",
              "│    │    └─_InvertedResidual (3)             [1, 248, 7, 7]       [1, 248, 7, 7]       (781,696)            False\n",
              "│    └─Sequential (13)                        [1, 248, 7, 7]       [1, 416, 7, 7]       --                   False\n",
              "│    │    └─_InvertedResidual (0)             [1, 248, 7, 7]       [1, 416, 7, 7]       (1,008,208)          False\n",
              "│    └─Conv2d (14)                            [1, 416, 7, 7]       [1, 1280, 7, 7]      (532,480)            False\n",
              "│    └─BatchNorm2d (15)                       [1, 1280, 7, 7]      [1, 1280, 7, 7]      (2,560)              False\n",
              "│    └─ReLU (16)                              [1, 1280, 7, 7]      [1, 1280, 7, 7]      --                   --\n",
              "├─Sequential (classifier)                     [1, 1280]            [1, 101]             --                   True\n",
              "│    └─Dropout (0)                            [1, 1280]            [1, 1280]            --                   --\n",
              "│    └─Linear (1)                             [1, 1280]            [1, 101]             129,381              True\n",
              "=============================================================================================================================\n",
              "Total params: 5,130,637\n",
              "Trainable params: 129,381\n",
              "Non-trainable params: 5,001,256\n",
              "Total mult-adds (M): 525.26\n",
              "=============================================================================================================================\n",
              "Input size (MB): 0.60\n",
              "Forward/backward pass size (MB): 117.64\n",
              "Params size (MB): 20.52\n",
              "Estimated Total Size (MB): 138.76\n",
              "============================================================================================================================="
            ]
          },
          "metadata": {},
          "execution_count": 24
        }
      ]
    },
    {
      "cell_type": "markdown",
      "source": [
        "## Creating MNASNet1_3 DataLoaders"
      ],
      "metadata": {
        "id": "7vK4w5O62isE"
      }
    },
    {
      "cell_type": "code",
      "source": [
        "BATCH_SIZE = 64\n",
        "\n",
        "train_dataloader_mnasnet1_3 = DataLoader(train_data,\n",
        "                                         batch_size=BATCH_SIZE,\n",
        "                                         shuffle=True)\n",
        "\n",
        "test_dataloader_mnasnet1_3 = DataLoader(test_data,\n",
        "                                        batch_size=BATCH_SIZE,\n",
        "                                        shuffle=False)"
      ],
      "metadata": {
        "id": "7aFUUXu740yd"
      },
      "execution_count": null,
      "outputs": []
    },
    {
      "cell_type": "code",
      "source": [
        "len(train_dataloader_mnasnet1_3), len(test_dataloader_mnasnet1_3), len(class_names)"
      ],
      "metadata": {
        "colab": {
          "base_uri": "https://localhost:8080/"
        },
        "id": "bC4vXQSo5b94",
        "outputId": "37de2fbc-398f-4bef-a9a8-6e0f61ca4137"
      },
      "execution_count": null,
      "outputs": [
        {
          "output_type": "execute_result",
          "data": {
            "text/plain": [
              "(1184, 395, 101)"
            ]
          },
          "metadata": {},
          "execution_count": 17
        }
      ]
    },
    {
      "cell_type": "code",
      "source": [
        "# Set up loss function and optimizer\n",
        "loss_fn = nn.CrossEntropyLoss()\n",
        "optimizer = torch.optim.Adam(params=mnasnet1_3.parameters(), lr=1e-3)\n",
        "\n",
        "# Training function\n",
        "mnasnet1_3_results = train(model=mnasnet1_3,\n",
        "                           train_dataloader=train_dataloader_mnasnet1_3,\n",
        "                           test_dataloader=test_dataloader_mnasnet1_3,\n",
        "                           optimizer=optimizer,\n",
        "                           loss_fn=loss_fn,\n",
        "                           epochs=5,\n",
        "                           device=device)"
      ],
      "metadata": {
        "colab": {
          "base_uri": "https://localhost:8080/",
          "height": 136,
          "referenced_widgets": [
            "2fde174d797a475695072952c5b9671c",
            "7006834c284f413fa00941f10eade405",
            "8dfda13669be44638532d612785f4756",
            "a07bd33f6e134d25877dd863250eeb04",
            "2655f960fbd84be4b7f104b0b2a4fe77",
            "68794b192d92410cb4b5dedbda16bc3b",
            "23deea42023e4aeca0cbbcbb22495c6c",
            "b2af94dde21141c592c1e30170e14a6a",
            "88b6c58d447745a99d6739ba7a66c192",
            "0d9c0b41746348bca62053a00a6d30d4",
            "f826c6896adc41c091fa1487c7d971bb"
          ]
        },
        "id": "lpVHkcw_6HQb",
        "outputId": "252bae4b-18cd-4c8a-accb-786e03fc288f"
      },
      "execution_count": null,
      "outputs": [
        {
          "output_type": "display_data",
          "data": {
            "text/plain": [
              "  0%|          | 0/5 [00:00<?, ?it/s]"
            ],
            "application/vnd.jupyter.widget-view+json": {
              "version_major": 2,
              "version_minor": 0,
              "model_id": "2fde174d797a475695072952c5b9671c"
            }
          },
          "metadata": {}
        },
        {
          "output_type": "stream",
          "name": "stdout",
          "text": [
            "Epoch: 1 | train_loss: 2.6833 | train_acc: 0.4048 | test_loss: 2.2891 | test_acc: 0.4210\n",
            "Epoch: 2 | train_loss: 1.9616 | train_acc: 0.5207 | test_loss: 1.9121 | test_acc: 0.5059\n",
            "Epoch: 3 | train_loss: 1.8202 | train_acc: 0.5439 | test_loss: 1.7775 | test_acc: 0.5420\n",
            "Epoch: 4 | train_loss: 1.7443 | train_acc: 0.5591 | test_loss: 1.6979 | test_acc: 0.5607\n",
            "Epoch: 5 | train_loss: 1.6974 | train_acc: 0.5680 | test_loss: 1.6774 | test_acc: 0.5645\n"
          ]
        }
      ]
    },
    {
      "cell_type": "markdown",
      "source": [
        "## Plot the loss curves"
      ],
      "metadata": {
        "id": "dfGZ8PK_7MM8"
      }
    },
    {
      "cell_type": "code",
      "source": [
        "def plot_loss_curves(results):\n",
        "    \"\"\"Plots training curves of a results dictionary.\n",
        "\n",
        "    Args:\n",
        "        results (dict): dictionary containing list of values, e.g.\n",
        "            {\"train_loss\": [...],\n",
        "             \"train_acc\": [...],\n",
        "             \"test_loss\": [...],\n",
        "             \"test_acc\": [...]}\n",
        "    \"\"\"\n",
        "    loss = results[\"train_loss\"]\n",
        "    test_loss = results[\"test_loss\"]\n",
        "\n",
        "    accuracy = results[\"train_acc\"]\n",
        "    test_accuracy = results[\"test_acc\"]\n",
        "\n",
        "    epochs = range(len(results[\"train_loss\"]))\n",
        "\n",
        "    plt.figure(figsize=(15, 7))\n",
        "\n",
        "    # Plot loss\n",
        "    plt.subplot(1, 2, 1)\n",
        "    plt.plot(epochs, loss, label=\"train_loss\")\n",
        "    plt.plot(epochs, test_loss, label=\"test_loss\")\n",
        "    plt.title(\"Loss\")\n",
        "    plt.xlabel(\"Epochs\")\n",
        "    plt.legend()\n",
        "\n",
        "    # Plot accuracy\n",
        "    plt.subplot(1, 2, 2)\n",
        "    plt.plot(epochs, accuracy, label=\"train_accuracy\")\n",
        "    plt.plot(epochs, test_accuracy, label=\"test_accuracy\")\n",
        "    plt.title(\"Accuracy\")\n",
        "    plt.xlabel(\"Epochs\")\n",
        "    plt.legend()\n",
        "\n",
        "    return plt.show()"
      ],
      "metadata": {
        "id": "Adb4-ATY7LxU"
      },
      "execution_count": null,
      "outputs": []
    },
    {
      "cell_type": "code",
      "source": [
        "plot_loss_curves(mnasnet1_3_results)"
      ],
      "metadata": {
        "colab": {
          "base_uri": "https://localhost:8080/",
          "height": 641
        },
        "id": "tYxYTS_P-aXL",
        "outputId": "4d470756-7ea6-4ca7-9370-3fdd1668f203"
      },
      "execution_count": null,
      "outputs": [
        {
          "output_type": "display_data",
          "data": {
            "text/plain": [
              "<Figure size 1500x700 with 2 Axes>"
            ],
            "image/png": "[encoded data removed]"
          },
          "metadata": {}
        }
      ]
    },
    {
      "cell_type": "code",
      "source": [
        "# Save model function\n",
        "def save_model(model: torch.nn.Module,\n",
        "               target_dir: str,\n",
        "               model_name: str):\n",
        "    \"\"\"Saves a PyTorch model to a target directory.\n",
        "\n",
        "    Args:\n",
        "    model: A target PyTorch model to save.\n",
        "    target_dir: A directory for saving the model to.\n",
        "    model_name: A filename for the saved model. Should include\n",
        "      either \".pth\" or \".pt\" as the file extension.\n",
        "\n",
        "    Example usage:\n",
        "    save_model(model=model_0,\n",
        "               target_dir=\"models\",\n",
        "               model_name=\"05_going_modular_tingvgg_model.pth\")\n",
        "    \"\"\"\n",
        "    import torch\n",
        "    from pathlib import Path\n",
        "    # Create target directory\n",
        "    target_dir_path = Path(target_dir)\n",
        "    target_dir_path.mkdir(parents=True,\n",
        "                        exist_ok=True)\n",
        "\n",
        "    # Create model save path\n",
        "    assert model_name.endswith(\".pth\") or model_name.endswith(\".pt\"), \"model_name should end with '.pt' or '.pth'\"\n",
        "    model_save_path = target_dir_path / model_name\n",
        "\n",
        "    # Save the model state_dict()\n",
        "    print(f\"[INFO] Saving model to: {model_save_path}\")\n",
        "    torch.save(obj=model.state_dict(),\n",
        "             f=model_save_path)"
      ],
      "metadata": {
        "id": "Oa8teB9KBomM"
      },
      "execution_count": null,
      "outputs": []
    },
    {
      "cell_type": "code",
      "source": [
        "save_model(model=mnasnet1_3,\n",
        "           target_dir=\"models\",\n",
        "           model_name=\"mnasnet1_3_food101.pth\")"
      ],
      "metadata": {
        "colab": {
          "base_uri": "https://localhost:8080/"
        },
        "id": "LGq52OXsB0lk",
        "outputId": "5fd125ef-bd0f-4fe7-8199-98ab819c88b8"
      },
      "execution_count": null,
      "outputs": [
        {
          "output_type": "stream",
          "name": "stdout",
          "text": [
            "[INFO] Saving model to: models/mnasnet1_3_food101.pth\n"
          ]
        }
      ]
    },
    {
      "cell_type": "markdown",
      "source": [
        "## Transfer Learning using RegNet_Y_1_6GF\n",
        "\n",
        "See the documentation: https://pytorch.org/vision/stable/models/generated/torchvision.models.regnet_y_1_6gf.html#torchvision.models.RegNet_Y_1_6GF_Weights\n",
        "See the paper: https://arxiv.org/abs/2003.13678"
      ],
      "metadata": {
        "id": "4RsNvrD6BC17"
      }
    },
    {
      "cell_type": "code",
      "source": [
        "from torchvision.models.regnet import regnet_y_1_6gf\n",
        "# Set up pretrained MNASNet1_3 weights\n",
        "regnet_y_1_6gf_weights = torchvision.models.RegNet_Y_1_6GF_Weights\n",
        "\n",
        "# Get transforms\n",
        "regnet_y_1_6gf_transforms = regnet_y_1_6gf_weights.transforms\n",
        "\n",
        "# Set up pretrained model instance\n",
        "regnet_y_1_6gf = torchvision.models.regnet_y_1_6gf(weights=regnet_y_1_6gf_weights)\n",
        "\n",
        "# Freeze the base layers in the model (stop layers from training)\n",
        "for param in regnet_y_1_6gf.parameters():\n",
        "    param.requires_grad = False"
      ],
      "metadata": {
        "colab": {
          "base_uri": "https://localhost:8080/"
        },
        "id": "Ij7WrxQPBKie",
        "outputId": "495bf1e8-c4d9-4fab-f4ba-0985e2207b49"
      },
      "execution_count": null,
      "outputs": [
        {
          "output_type": "stream",
          "name": "stderr",
          "text": [
            "/usr/local/lib/python3.10/dist-packages/torchvision/models/_utils.py:223: UserWarning: Arguments other than a weight enum or `None` for 'weights' are deprecated since 0.13 and may be removed in the future. The current behavior is equivalent to passing `weights=RegNet_Y_1_6GF_Weights.IMAGENET1K_V1`. You can also use `weights=RegNet_Y_1_6GF_Weights.DEFAULT` to get the most up-to-date weights.\n",
            "  warnings.warn(msg)\n",
            "Downloading: \"https://download.pytorch.org/models/regnet_y_1_6gf-b11a554e.pth\" to /root/.cache/torch/hub/checkpoints/regnet_y_1_6gf-b11a554e.pth\n",
            "100%|██████████| 43.2M/43.2M [00:00<00:00, 115MB/s]\n"
          ]
        }
      ]
    },
    {
      "cell_type": "code",
      "source": [
        "summary(regnet_y_1_6gf,\n",
        "        input_size=(1, 3, 224, 224),\n",
        "        col_names=[\"input_size\", \"output_size\", \"num_params\", \"trainable\"],\n",
        "        col_width=20,\n",
        "        row_settings=[\"var_names\"])"
      ],
      "metadata": {
        "colab": {
          "base_uri": "https://localhost:8080/"
        },
        "id": "xUADO_cPCtC6",
        "outputId": "f9110a2b-5332-4b04-d4e7-f1c6d3b61cc1"
      },
      "execution_count": null,
      "outputs": [
        {
          "output_type": "execute_result",
          "data": {
            "text/plain": [
              "============================================================================================================================================\n",
              "Layer (type (var_name))                                      Input Shape          Output Shape         Param #              Trainable\n",
              "============================================================================================================================================\n",
              "RegNet (RegNet)                                              [1, 3, 224, 224]     [1, 1000]            --                   False\n",
              "├─SimpleStemIN (stem)                                        [1, 3, 224, 224]     [1, 32, 112, 112]    --                   False\n",
              "│    └─Conv2d (0)                                            [1, 3, 224, 224]     [1, 32, 112, 112]    (864)                False\n",
              "│    └─BatchNorm2d (1)                                       [1, 32, 112, 112]    [1, 32, 112, 112]    (64)                 False\n",
              "│    └─ReLU (2)                                              [1, 32, 112, 112]    [1, 32, 112, 112]    --                   --\n",
              "├─Sequential (trunk_output)                                  [1, 32, 112, 112]    [1, 888, 7, 7]       --                   False\n",
              "│    └─AnyStage (block1)                                     [1, 32, 112, 112]    [1, 48, 56, 56]      --                   False\n",
              "│    │    └─ResBottleneckBlock (block1-0)                    [1, 32, 112, 112]    [1, 48, 56, 56]      (16,952)             False\n",
              "│    │    └─ResBottleneckBlock (block1-1)                    [1, 48, 56, 56]      [1, 48, 56, 56]      (16,476)             False\n",
              "│    └─AnyStage (block2)                                     [1, 48, 56, 56]      [1, 120, 28, 28]     --                   False\n",
              "│    │    └─ResBottleneckBlock (block2-0)                    [1, 48, 56, 56]      [1, 120, 28, 28]     (55,812)             False\n",
              "│    │    └─ResBottleneckBlock (block2-1)                    [1, 120, 28, 28]     [1, 120, 28, 28]     (62,790)             False\n",
              "│    │    └─ResBottleneckBlock (block2-2)                    [1, 120, 28, 28]     [1, 120, 28, 28]     (62,790)             False\n",
              "│    │    └─ResBottleneckBlock (block2-3)                    [1, 120, 28, 28]     [1, 120, 28, 28]     (62,790)             False\n",
              "│    │    └─ResBottleneckBlock (block2-4)                    [1, 120, 28, 28]     [1, 120, 28, 28]     (62,790)             False\n",
              "│    │    └─ResBottleneckBlock (block2-5)                    [1, 120, 28, 28]     [1, 120, 28, 28]     (62,790)             False\n",
              "│    └─AnyStage (block3)                                     [1, 120, 28, 28]     [1, 336, 14, 14]     --                   False\n",
              "│    │    └─ResBottleneckBlock (block3-0)                    [1, 120, 28, 28]     [1, 336, 14, 14]     (289,326)            False\n",
              "│    │    └─ResBottleneckBlock (block3-1)                    [1, 336, 14, 14]     [1, 336, 14, 14]     (357,252)            False\n",
              "│    │    └─ResBottleneckBlock (block3-2)                    [1, 336, 14, 14]     [1, 336, 14, 14]     (357,252)            False\n",
              "│    │    └─ResBottleneckBlock (block3-3)                    [1, 336, 14, 14]     [1, 336, 14, 14]     (357,252)            False\n",
              "│    │    └─ResBottleneckBlock (block3-4)                    [1, 336, 14, 14]     [1, 336, 14, 14]     (357,252)            False\n",
              "│    │    └─ResBottleneckBlock (block3-5)                    [1, 336, 14, 14]     [1, 336, 14, 14]     (357,252)            False\n",
              "│    │    └─ResBottleneckBlock (block3-6)                    [1, 336, 14, 14]     [1, 336, 14, 14]     (357,252)            False\n",
              "│    │    └─ResBottleneckBlock (block3-7)                    [1, 336, 14, 14]     [1, 336, 14, 14]     (357,252)            False\n",
              "│    │    └─ResBottleneckBlock (block3-8)                    [1, 336, 14, 14]     [1, 336, 14, 14]     (357,252)            False\n",
              "│    │    └─ResBottleneckBlock (block3-9)                    [1, 336, 14, 14]     [1, 336, 14, 14]     (357,252)            False\n",
              "│    │    └─ResBottleneckBlock (block3-10)                   [1, 336, 14, 14]     [1, 336, 14, 14]     (357,252)            False\n",
              "│    │    └─ResBottleneckBlock (block3-11)                   [1, 336, 14, 14]     [1, 336, 14, 14]     (357,252)            False\n",
              "│    │    └─ResBottleneckBlock (block3-12)                   [1, 336, 14, 14]     [1, 336, 14, 14]     (357,252)            False\n",
              "│    │    └─ResBottleneckBlock (block3-13)                   [1, 336, 14, 14]     [1, 336, 14, 14]     (357,252)            False\n",
              "│    │    └─ResBottleneckBlock (block3-14)                   [1, 336, 14, 14]     [1, 336, 14, 14]     (357,252)            False\n",
              "│    │    └─ResBottleneckBlock (block3-15)                   [1, 336, 14, 14]     [1, 336, 14, 14]     (357,252)            False\n",
              "│    │    └─ResBottleneckBlock (block3-16)                   [1, 336, 14, 14]     [1, 336, 14, 14]     (357,252)            False\n",
              "│    └─AnyStage (block4)                                     [1, 336, 14, 14]     [1, 888, 7, 7]       --                   False\n",
              "│    │    └─ResBottleneckBlock (block4-0)                    [1, 336, 14, 14]     [1, 888, 7, 7]       (1,734,348)          False\n",
              "│    │    └─ResBottleneckBlock (block4-1)                    [1, 888, 7, 7]       [1, 888, 7, 7]       (2,169,606)          False\n",
              "├─AdaptiveAvgPool2d (avgpool)                                [1, 888, 7, 7]       [1, 888, 1, 1]       --                   --\n",
              "├─Linear (fc)                                                [1, 888]             [1, 1000]            (889,000)            False\n",
              "============================================================================================================================================\n",
              "Total params: 11,202,430\n",
              "Trainable params: 0\n",
              "Non-trainable params: 11,202,430\n",
              "Total mult-adds (G): 1.61\n",
              "============================================================================================================================================\n",
              "Input size (MB): 0.60\n",
              "Forward/backward pass size (MB): 128.63\n",
              "Params size (MB): 44.81\n",
              "Estimated Total Size (MB): 174.04\n",
              "============================================================================================================================================"
            ]
          },
          "metadata": {},
          "execution_count": 33
        }
      ]
    },
    {
      "cell_type": "code",
      "source": [
        "# See the linear layer\n",
        "regnet_y_1_6gf.fc"
      ],
      "metadata": {
        "colab": {
          "base_uri": "https://localhost:8080/"
        },
        "id": "6T98iBZXDlUE",
        "outputId": "f2699910-a553-4aba-d9fe-8199987147c8"
      },
      "execution_count": null,
      "outputs": [
        {
          "output_type": "execute_result",
          "data": {
            "text/plain": [
              "Linear(in_features=888, out_features=1000, bias=True)"
            ]
          },
          "metadata": {},
          "execution_count": 37
        }
      ]
    },
    {
      "cell_type": "code",
      "source": [
        "# Change linear layer\n",
        "regnet_y_1_6gf.fc = nn.Linear(in_features=888, out_features=len(class_names), bias=True)"
      ],
      "metadata": {
        "id": "krUAdtdjb-Ub"
      },
      "execution_count": null,
      "outputs": []
    },
    {
      "cell_type": "code",
      "source": [
        "# See model after classifier change\n",
        "summary(regnet_y_1_6gf,\n",
        "        input_size=(1, 3, 224, 224),\n",
        "        col_names=[\"input_size\", \"output_size\", \"num_params\", \"trainable\"],\n",
        "        col_width=20,\n",
        "        row_settings=[\"var_names\"])"
      ],
      "metadata": {
        "colab": {
          "base_uri": "https://localhost:8080/"
        },
        "id": "ewHzzciGcABd",
        "outputId": "10d1be43-4b4a-46d8-8105-dfdc206a9832"
      },
      "execution_count": null,
      "outputs": [
        {
          "output_type": "execute_result",
          "data": {
            "text/plain": [
              "============================================================================================================================================\n",
              "Layer (type (var_name))                                      Input Shape          Output Shape         Param #              Trainable\n",
              "============================================================================================================================================\n",
              "RegNet (RegNet)                                              [1, 3, 224, 224]     [1, 101]             --                   Partial\n",
              "├─SimpleStemIN (stem)                                        [1, 3, 224, 224]     [1, 32, 112, 112]    --                   False\n",
              "│    └─Conv2d (0)                                            [1, 3, 224, 224]     [1, 32, 112, 112]    (864)                False\n",
              "│    └─BatchNorm2d (1)                                       [1, 32, 112, 112]    [1, 32, 112, 112]    (64)                 False\n",
              "│    └─ReLU (2)                                              [1, 32, 112, 112]    [1, 32, 112, 112]    --                   --\n",
              "├─Sequential (trunk_output)                                  [1, 32, 112, 112]    [1, 888, 7, 7]       --                   False\n",
              "│    └─AnyStage (block1)                                     [1, 32, 112, 112]    [1, 48, 56, 56]      --                   False\n",
              "│    │    └─ResBottleneckBlock (block1-0)                    [1, 32, 112, 112]    [1, 48, 56, 56]      (16,952)             False\n",
              "│    │    └─ResBottleneckBlock (block1-1)                    [1, 48, 56, 56]      [1, 48, 56, 56]      (16,476)             False\n",
              "│    └─AnyStage (block2)                                     [1, 48, 56, 56]      [1, 120, 28, 28]     --                   False\n",
              "│    │    └─ResBottleneckBlock (block2-0)                    [1, 48, 56, 56]      [1, 120, 28, 28]     (55,812)             False\n",
              "│    │    └─ResBottleneckBlock (block2-1)                    [1, 120, 28, 28]     [1, 120, 28, 28]     (62,790)             False\n",
              "│    │    └─ResBottleneckBlock (block2-2)                    [1, 120, 28, 28]     [1, 120, 28, 28]     (62,790)             False\n",
              "│    │    └─ResBottleneckBlock (block2-3)                    [1, 120, 28, 28]     [1, 120, 28, 28]     (62,790)             False\n",
              "│    │    └─ResBottleneckBlock (block2-4)                    [1, 120, 28, 28]     [1, 120, 28, 28]     (62,790)             False\n",
              "│    │    └─ResBottleneckBlock (block2-5)                    [1, 120, 28, 28]     [1, 120, 28, 28]     (62,790)             False\n",
              "│    └─AnyStage (block3)                                     [1, 120, 28, 28]     [1, 336, 14, 14]     --                   False\n",
              "│    │    └─ResBottleneckBlock (block3-0)                    [1, 120, 28, 28]     [1, 336, 14, 14]     (289,326)            False\n",
              "│    │    └─ResBottleneckBlock (block3-1)                    [1, 336, 14, 14]     [1, 336, 14, 14]     (357,252)            False\n",
              "│    │    └─ResBottleneckBlock (block3-2)                    [1, 336, 14, 14]     [1, 336, 14, 14]     (357,252)            False\n",
              "│    │    └─ResBottleneckBlock (block3-3)                    [1, 336, 14, 14]     [1, 336, 14, 14]     (357,252)            False\n",
              "│    │    └─ResBottleneckBlock (block3-4)                    [1, 336, 14, 14]     [1, 336, 14, 14]     (357,252)            False\n",
              "│    │    └─ResBottleneckBlock (block3-5)                    [1, 336, 14, 14]     [1, 336, 14, 14]     (357,252)            False\n",
              "│    │    └─ResBottleneckBlock (block3-6)                    [1, 336, 14, 14]     [1, 336, 14, 14]     (357,252)            False\n",
              "│    │    └─ResBottleneckBlock (block3-7)                    [1, 336, 14, 14]     [1, 336, 14, 14]     (357,252)            False\n",
              "│    │    └─ResBottleneckBlock (block3-8)                    [1, 336, 14, 14]     [1, 336, 14, 14]     (357,252)            False\n",
              "│    │    └─ResBottleneckBlock (block3-9)                    [1, 336, 14, 14]     [1, 336, 14, 14]     (357,252)            False\n",
              "│    │    └─ResBottleneckBlock (block3-10)                   [1, 336, 14, 14]     [1, 336, 14, 14]     (357,252)            False\n",
              "│    │    └─ResBottleneckBlock (block3-11)                   [1, 336, 14, 14]     [1, 336, 14, 14]     (357,252)            False\n",
              "│    │    └─ResBottleneckBlock (block3-12)                   [1, 336, 14, 14]     [1, 336, 14, 14]     (357,252)            False\n",
              "│    │    └─ResBottleneckBlock (block3-13)                   [1, 336, 14, 14]     [1, 336, 14, 14]     (357,252)            False\n",
              "│    │    └─ResBottleneckBlock (block3-14)                   [1, 336, 14, 14]     [1, 336, 14, 14]     (357,252)            False\n",
              "│    │    └─ResBottleneckBlock (block3-15)                   [1, 336, 14, 14]     [1, 336, 14, 14]     (357,252)            False\n",
              "│    │    └─ResBottleneckBlock (block3-16)                   [1, 336, 14, 14]     [1, 336, 14, 14]     (357,252)            False\n",
              "│    └─AnyStage (block4)                                     [1, 336, 14, 14]     [1, 888, 7, 7]       --                   False\n",
              "│    │    └─ResBottleneckBlock (block4-0)                    [1, 336, 14, 14]     [1, 888, 7, 7]       (1,734,348)          False\n",
              "│    │    └─ResBottleneckBlock (block4-1)                    [1, 888, 7, 7]       [1, 888, 7, 7]       (2,169,606)          False\n",
              "├─AdaptiveAvgPool2d (avgpool)                                [1, 888, 7, 7]       [1, 888, 1, 1]       --                   --\n",
              "├─Linear (fc)                                                [1, 888]             [1, 101]             89,789               True\n",
              "============================================================================================================================================\n",
              "Total params: 10,403,219\n",
              "Trainable params: 89,789\n",
              "Non-trainable params: 10,313,430\n",
              "Total mult-adds (G): 1.61\n",
              "============================================================================================================================================\n",
              "Input size (MB): 0.60\n",
              "Forward/backward pass size (MB): 128.62\n",
              "Params size (MB): 41.61\n",
              "Estimated Total Size (MB): 170.84\n",
              "============================================================================================================================================"
            ]
          },
          "metadata": {},
          "execution_count": 39
        }
      ]
    },
    {
      "cell_type": "markdown",
      "source": [
        "## Creating RegNet_Y_1_6GF DataLoaders"
      ],
      "metadata": {
        "id": "fBPv9sRpcDZN"
      }
    },
    {
      "cell_type": "code",
      "source": [
        "BATCH_SIZE = 64\n",
        "\n",
        "train_dataloader_regnet_y_1_6gf = DataLoader(train_data,\n",
        "                                             batch_size=BATCH_SIZE,\n",
        "                                             shuffle=True)\n",
        "\n",
        "test_dataloader_regnet_y_1_6gf = DataLoader(test_data,\n",
        "                                            batch_size=BATCH_SIZE,\n",
        "                                            shuffle=False)"
      ],
      "metadata": {
        "id": "ns_ZGF7ScKp4"
      },
      "execution_count": null,
      "outputs": []
    },
    {
      "cell_type": "code",
      "source": [
        "len(train_dataloader_regnet_y_1_6gf), len(test_dataloader_regnet_y_1_6gf), len(class_names)"
      ],
      "metadata": {
        "colab": {
          "base_uri": "https://localhost:8080/"
        },
        "id": "PqHPO2POcs7M",
        "outputId": "8a0e4bf4-786e-45e7-ab77-dac4032ba979"
      },
      "execution_count": null,
      "outputs": [
        {
          "output_type": "execute_result",
          "data": {
            "text/plain": [
              "(1184, 395, 101)"
            ]
          },
          "metadata": {},
          "execution_count": 41
        }
      ]
    },
    {
      "cell_type": "code",
      "source": [
        "# Using same optimizer and loss function as befeore (MNASNet model)\n",
        "# Training model and saving results to dictionary\n",
        "regnet_y_1_6gf_results = train(model=regnet_y_1_6gf,\n",
        "                               train_dataloader=train_dataloader_regnet_y_1_6gf,\n",
        "                               test_dataloader=test_dataloader_regnet_y_1_6gf,\n",
        "                               optimizer=optimizer,\n",
        "                               loss_fn=loss_fn,\n",
        "                               epochs=5,\n",
        "                               device=device)"
      ],
      "metadata": {
        "colab": {
          "base_uri": "https://localhost:8080/",
          "height": 458,
          "referenced_widgets": [
            "671d6115ea2b4b409f333e9c89af5fb5",
            "37c2f6b5c3b3400da38e4d9e7abe1281",
            "599753ee10334a8cbefa7ed7ffc77016",
            "6210b6c8b6b04fc3b7a60bc8e93f72c2",
            "3a848efee6ad45b1934ff7a782f8b3cc",
            "74081731440f4f739d991b16b866f2b0",
            "98e6b9e8ef6f4a89853b43bd082a8bc2",
            "da4e2c1ab2cb406a985020d7c9f38d27",
            "6b3ac388c4c34035a8cc3e0c99019856",
            "f313856214bf4f419225c11e1b0e72e5",
            "a58b550f58b94a9aa08a491f2faeeaa1"
          ]
        },
        "id": "vLqWkLXLc4Ct",
        "outputId": "800f1266-1dc4-475c-8bf1-46dacb345544"
      },
      "execution_count": null,
      "outputs": [
        {
          "output_type": "display_data",
          "data": {
            "text/plain": [
              "  0%|          | 0/5 [00:00<?, ?it/s]"
            ],
            "application/vnd.jupyter.widget-view+json": {
              "version_major": 2,
              "version_minor": 0,
              "model_id": "671d6115ea2b4b409f333e9c89af5fb5"
            }
          },
          "metadata": {}
        },
        {
          "output_type": "stream",
          "name": "stdout",
          "text": [
            "Epoch: 1 | train_loss: 4.6771 | train_acc: 0.0107 | test_loss: 4.6757 | test_acc: 0.0099\n",
            "Epoch: 2 | train_loss: 4.6771 | train_acc: 0.0107 | test_loss: 4.6764 | test_acc: 0.0100\n"
          ]
        },
        {
          "output_type": "error",
          "ename": "KeyboardInterrupt",
          "evalue": "ignored",
          "traceback": [
            "\u001b[0;31m---------------------------------------------------------------------------\u001b[0m",
            "\u001b[0;31mKeyboardInterrupt\u001b[0m                         Traceback (most recent call last)",
            "\u001b[0;32m<ipython-input-42-853c4efe8b22>\u001b[0m in \u001b[0;36m<cell line: 3>\u001b[0;34m()\u001b[0m\n\u001b[1;32m      1\u001b[0m \u001b[0;31m# Using same optimizer and loss function as befeore (MNASNet model)\u001b[0m\u001b[0;34m\u001b[0m\u001b[0;34m\u001b[0m\u001b[0m\n\u001b[1;32m      2\u001b[0m \u001b[0;31m# Training model and saving results to dictionary\u001b[0m\u001b[0;34m\u001b[0m\u001b[0;34m\u001b[0m\u001b[0m\n\u001b[0;32m----> 3\u001b[0;31m regnet_y_1_6gf_results = train(model=regnet_y_1_6gf,\n\u001b[0m\u001b[1;32m      4\u001b[0m                                \u001b[0mtrain_dataloader\u001b[0m\u001b[0;34m=\u001b[0m\u001b[0mtrain_dataloader_regnet_y_1_6gf\u001b[0m\u001b[0;34m,\u001b[0m\u001b[0;34m\u001b[0m\u001b[0;34m\u001b[0m\u001b[0m\n\u001b[1;32m      5\u001b[0m                                \u001b[0mtest_dataloader\u001b[0m\u001b[0;34m=\u001b[0m\u001b[0mtest_dataloader_regnet_y_1_6gf\u001b[0m\u001b[0;34m,\u001b[0m\u001b[0;34m\u001b[0m\u001b[0;34m\u001b[0m\u001b[0m\n",
            "\u001b[0;32m<ipython-input-10-0ef45bad5214>\u001b[0m in \u001b[0;36mtrain\u001b[0;34m(model, train_dataloader, test_dataloader, optimizer, loss_fn, epochs, device)\u001b[0m\n\u001b[1;32m    167\u001b[0m     \u001b[0;31m# Loop through training and testing steps for a number of epochs\u001b[0m\u001b[0;34m\u001b[0m\u001b[0;34m\u001b[0m\u001b[0m\n\u001b[1;32m    168\u001b[0m     \u001b[0;32mfor\u001b[0m \u001b[0mepoch\u001b[0m \u001b[0;32min\u001b[0m \u001b[0mtqdm\u001b[0m\u001b[0;34m(\u001b[0m\u001b[0mrange\u001b[0m\u001b[0;34m(\u001b[0m\u001b[0mepochs\u001b[0m\u001b[0;34m)\u001b[0m\u001b[0;34m)\u001b[0m\u001b[0;34m:\u001b[0m\u001b[0;34m\u001b[0m\u001b[0;34m\u001b[0m\u001b[0m\n\u001b[0;32m--> 169\u001b[0;31m         train_loss, train_acc = train_step(model=model,\n\u001b[0m\u001b[1;32m    170\u001b[0m                                           \u001b[0mdataloader\u001b[0m\u001b[0;34m=\u001b[0m\u001b[0mtrain_dataloader\u001b[0m\u001b[0;34m,\u001b[0m\u001b[0;34m\u001b[0m\u001b[0;34m\u001b[0m\u001b[0m\n\u001b[1;32m    171\u001b[0m                                           \u001b[0mloss_fn\u001b[0m\u001b[0;34m=\u001b[0m\u001b[0mloss_fn\u001b[0m\u001b[0;34m,\u001b[0m\u001b[0;34m\u001b[0m\u001b[0;34m\u001b[0m\u001b[0m\n",
            "\u001b[0;32m<ipython-input-10-0ef45bad5214>\u001b[0m in \u001b[0;36mtrain_step\u001b[0;34m(model, dataloader, loss_fn, optimizer, device)\u001b[0m\n\u001b[1;32m     36\u001b[0m \u001b[0;34m\u001b[0m\u001b[0m\n\u001b[1;32m     37\u001b[0m     \u001b[0;31m# Loop through data loader data batches\u001b[0m\u001b[0;34m\u001b[0m\u001b[0;34m\u001b[0m\u001b[0m\n\u001b[0;32m---> 38\u001b[0;31m     \u001b[0;32mfor\u001b[0m \u001b[0mbatch\u001b[0m\u001b[0;34m,\u001b[0m \u001b[0;34m(\u001b[0m\u001b[0mX\u001b[0m\u001b[0;34m,\u001b[0m \u001b[0my\u001b[0m\u001b[0;34m)\u001b[0m \u001b[0;32min\u001b[0m \u001b[0menumerate\u001b[0m\u001b[0;34m(\u001b[0m\u001b[0mdataloader\u001b[0m\u001b[0;34m)\u001b[0m\u001b[0;34m:\u001b[0m\u001b[0;34m\u001b[0m\u001b[0;34m\u001b[0m\u001b[0m\n\u001b[0m\u001b[1;32m     39\u001b[0m         \u001b[0;31m# Send data to target device\u001b[0m\u001b[0;34m\u001b[0m\u001b[0;34m\u001b[0m\u001b[0m\n\u001b[1;32m     40\u001b[0m         \u001b[0mX\u001b[0m\u001b[0;34m,\u001b[0m \u001b[0my\u001b[0m \u001b[0;34m=\u001b[0m \u001b[0mX\u001b[0m\u001b[0;34m.\u001b[0m\u001b[0mto\u001b[0m\u001b[0;34m(\u001b[0m\u001b[0mdevice\u001b[0m\u001b[0;34m)\u001b[0m\u001b[0;34m,\u001b[0m \u001b[0my\u001b[0m\u001b[0;34m.\u001b[0m\u001b[0mto\u001b[0m\u001b[0;34m(\u001b[0m\u001b[0mdevice\u001b[0m\u001b[0;34m)\u001b[0m\u001b[0;34m\u001b[0m\u001b[0;34m\u001b[0m\u001b[0m\n",
            "\u001b[0;32m/usr/local/lib/python3.10/dist-packages/torch/utils/data/dataloader.py\u001b[0m in \u001b[0;36m__next__\u001b[0;34m(self)\u001b[0m\n\u001b[1;32m    631\u001b[0m                 \u001b[0;31m# TODO(https://github.com/pytorch/pytorch/issues/76750)\u001b[0m\u001b[0;34m\u001b[0m\u001b[0;34m\u001b[0m\u001b[0m\n\u001b[1;32m    632\u001b[0m                 \u001b[0mself\u001b[0m\u001b[0;34m.\u001b[0m\u001b[0m_reset\u001b[0m\u001b[0;34m(\u001b[0m\u001b[0;34m)\u001b[0m  \u001b[0;31m# type: ignore[call-arg]\u001b[0m\u001b[0;34m\u001b[0m\u001b[0;34m\u001b[0m\u001b[0m\n\u001b[0;32m--> 633\u001b[0;31m             \u001b[0mdata\u001b[0m \u001b[0;34m=\u001b[0m \u001b[0mself\u001b[0m\u001b[0;34m.\u001b[0m\u001b[0m_next_data\u001b[0m\u001b[0;34m(\u001b[0m\u001b[0;34m)\u001b[0m\u001b[0;34m\u001b[0m\u001b[0;34m\u001b[0m\u001b[0m\n\u001b[0m\u001b[1;32m    634\u001b[0m             \u001b[0mself\u001b[0m\u001b[0;34m.\u001b[0m\u001b[0m_num_yielded\u001b[0m \u001b[0;34m+=\u001b[0m \u001b[0;36m1\u001b[0m\u001b[0;34m\u001b[0m\u001b[0;34m\u001b[0m\u001b[0m\n\u001b[1;32m    635\u001b[0m             \u001b[0;32mif\u001b[0m \u001b[0mself\u001b[0m\u001b[0;34m.\u001b[0m\u001b[0m_dataset_kind\u001b[0m \u001b[0;34m==\u001b[0m \u001b[0m_DatasetKind\u001b[0m\u001b[0;34m.\u001b[0m\u001b[0mIterable\u001b[0m \u001b[0;32mand\u001b[0m\u001b[0;31m \u001b[0m\u001b[0;31m\\\u001b[0m\u001b[0;34m\u001b[0m\u001b[0;34m\u001b[0m\u001b[0m\n",
            "\u001b[0;32m/usr/local/lib/python3.10/dist-packages/torch/utils/data/dataloader.py\u001b[0m in \u001b[0;36m_next_data\u001b[0;34m(self)\u001b[0m\n\u001b[1;32m    675\u001b[0m     \u001b[0;32mdef\u001b[0m \u001b[0m_next_data\u001b[0m\u001b[0;34m(\u001b[0m\u001b[0mself\u001b[0m\u001b[0;34m)\u001b[0m\u001b[0;34m:\u001b[0m\u001b[0;34m\u001b[0m\u001b[0;34m\u001b[0m\u001b[0m\n\u001b[1;32m    676\u001b[0m         \u001b[0mindex\u001b[0m \u001b[0;34m=\u001b[0m \u001b[0mself\u001b[0m\u001b[0;34m.\u001b[0m\u001b[0m_next_index\u001b[0m\u001b[0;34m(\u001b[0m\u001b[0;34m)\u001b[0m  \u001b[0;31m# may raise StopIteration\u001b[0m\u001b[0;34m\u001b[0m\u001b[0;34m\u001b[0m\u001b[0m\n\u001b[0;32m--> 677\u001b[0;31m         \u001b[0mdata\u001b[0m \u001b[0;34m=\u001b[0m \u001b[0mself\u001b[0m\u001b[0;34m.\u001b[0m\u001b[0m_dataset_fetcher\u001b[0m\u001b[0;34m.\u001b[0m\u001b[0mfetch\u001b[0m\u001b[0;34m(\u001b[0m\u001b[0mindex\u001b[0m\u001b[0;34m)\u001b[0m  \u001b[0;31m# may raise StopIteration\u001b[0m\u001b[0;34m\u001b[0m\u001b[0;34m\u001b[0m\u001b[0m\n\u001b[0m\u001b[1;32m    678\u001b[0m         \u001b[0;32mif\u001b[0m \u001b[0mself\u001b[0m\u001b[0;34m.\u001b[0m\u001b[0m_pin_memory\u001b[0m\u001b[0;34m:\u001b[0m\u001b[0;34m\u001b[0m\u001b[0;34m\u001b[0m\u001b[0m\n\u001b[1;32m    679\u001b[0m             \u001b[0mdata\u001b[0m \u001b[0;34m=\u001b[0m \u001b[0m_utils\u001b[0m\u001b[0;34m.\u001b[0m\u001b[0mpin_memory\u001b[0m\u001b[0;34m.\u001b[0m\u001b[0mpin_memory\u001b[0m\u001b[0;34m(\u001b[0m\u001b[0mdata\u001b[0m\u001b[0;34m,\u001b[0m \u001b[0mself\u001b[0m\u001b[0;34m.\u001b[0m\u001b[0m_pin_memory_device\u001b[0m\u001b[0;34m)\u001b[0m\u001b[0;34m\u001b[0m\u001b[0;34m\u001b[0m\u001b[0m\n",
            "\u001b[0;32m/usr/local/lib/python3.10/dist-packages/torch/utils/data/_utils/fetch.py\u001b[0m in \u001b[0;36mfetch\u001b[0;34m(self, possibly_batched_index)\u001b[0m\n\u001b[1;32m     49\u001b[0m                 \u001b[0mdata\u001b[0m \u001b[0;34m=\u001b[0m \u001b[0mself\u001b[0m\u001b[0;34m.\u001b[0m\u001b[0mdataset\u001b[0m\u001b[0;34m.\u001b[0m\u001b[0m__getitems__\u001b[0m\u001b[0;34m(\u001b[0m\u001b[0mpossibly_batched_index\u001b[0m\u001b[0;34m)\u001b[0m\u001b[0;34m\u001b[0m\u001b[0;34m\u001b[0m\u001b[0m\n\u001b[1;32m     50\u001b[0m             \u001b[0;32melse\u001b[0m\u001b[0;34m:\u001b[0m\u001b[0;34m\u001b[0m\u001b[0;34m\u001b[0m\u001b[0m\n\u001b[0;32m---> 51\u001b[0;31m                 \u001b[0mdata\u001b[0m \u001b[0;34m=\u001b[0m \u001b[0;34m[\u001b[0m\u001b[0mself\u001b[0m\u001b[0;34m.\u001b[0m\u001b[0mdataset\u001b[0m\u001b[0;34m[\u001b[0m\u001b[0midx\u001b[0m\u001b[0;34m]\u001b[0m \u001b[0;32mfor\u001b[0m \u001b[0midx\u001b[0m \u001b[0;32min\u001b[0m \u001b[0mpossibly_batched_index\u001b[0m\u001b[0;34m]\u001b[0m\u001b[0;34m\u001b[0m\u001b[0;34m\u001b[0m\u001b[0m\n\u001b[0m\u001b[1;32m     52\u001b[0m         \u001b[0;32melse\u001b[0m\u001b[0;34m:\u001b[0m\u001b[0;34m\u001b[0m\u001b[0;34m\u001b[0m\u001b[0m\n\u001b[1;32m     53\u001b[0m             \u001b[0mdata\u001b[0m \u001b[0;34m=\u001b[0m \u001b[0mself\u001b[0m\u001b[0;34m.\u001b[0m\u001b[0mdataset\u001b[0m\u001b[0;34m[\u001b[0m\u001b[0mpossibly_batched_index\u001b[0m\u001b[0;34m]\u001b[0m\u001b[0;34m\u001b[0m\u001b[0;34m\u001b[0m\u001b[0m\n",
            "\u001b[0;32m/usr/local/lib/python3.10/dist-packages/torch/utils/data/_utils/fetch.py\u001b[0m in \u001b[0;36m<listcomp>\u001b[0;34m(.0)\u001b[0m\n\u001b[1;32m     49\u001b[0m                 \u001b[0mdata\u001b[0m \u001b[0;34m=\u001b[0m \u001b[0mself\u001b[0m\u001b[0;34m.\u001b[0m\u001b[0mdataset\u001b[0m\u001b[0;34m.\u001b[0m\u001b[0m__getitems__\u001b[0m\u001b[0;34m(\u001b[0m\u001b[0mpossibly_batched_index\u001b[0m\u001b[0;34m)\u001b[0m\u001b[0;34m\u001b[0m\u001b[0;34m\u001b[0m\u001b[0m\n\u001b[1;32m     50\u001b[0m             \u001b[0;32melse\u001b[0m\u001b[0;34m:\u001b[0m\u001b[0;34m\u001b[0m\u001b[0;34m\u001b[0m\u001b[0m\n\u001b[0;32m---> 51\u001b[0;31m                 \u001b[0mdata\u001b[0m \u001b[0;34m=\u001b[0m \u001b[0;34m[\u001b[0m\u001b[0mself\u001b[0m\u001b[0;34m.\u001b[0m\u001b[0mdataset\u001b[0m\u001b[0;34m[\u001b[0m\u001b[0midx\u001b[0m\u001b[0;34m]\u001b[0m \u001b[0;32mfor\u001b[0m \u001b[0midx\u001b[0m \u001b[0;32min\u001b[0m \u001b[0mpossibly_batched_index\u001b[0m\u001b[0;34m]\u001b[0m\u001b[0;34m\u001b[0m\u001b[0;34m\u001b[0m\u001b[0m\n\u001b[0m\u001b[1;32m     52\u001b[0m         \u001b[0;32melse\u001b[0m\u001b[0;34m:\u001b[0m\u001b[0;34m\u001b[0m\u001b[0;34m\u001b[0m\u001b[0m\n\u001b[1;32m     53\u001b[0m             \u001b[0mdata\u001b[0m \u001b[0;34m=\u001b[0m \u001b[0mself\u001b[0m\u001b[0;34m.\u001b[0m\u001b[0mdataset\u001b[0m\u001b[0;34m[\u001b[0m\u001b[0mpossibly_batched_index\u001b[0m\u001b[0;34m]\u001b[0m\u001b[0;34m\u001b[0m\u001b[0;34m\u001b[0m\u001b[0m\n",
            "\u001b[0;32m/usr/local/lib/python3.10/dist-packages/torchvision/datasets/food101.py\u001b[0m in \u001b[0;36m__getitem__\u001b[0;34m(self, idx)\u001b[0m\n\u001b[1;32m     75\u001b[0m \u001b[0;34m\u001b[0m\u001b[0m\n\u001b[1;32m     76\u001b[0m         \u001b[0;32mif\u001b[0m \u001b[0mself\u001b[0m\u001b[0;34m.\u001b[0m\u001b[0mtransform\u001b[0m\u001b[0;34m:\u001b[0m\u001b[0;34m\u001b[0m\u001b[0;34m\u001b[0m\u001b[0m\n\u001b[0;32m---> 77\u001b[0;31m             \u001b[0mimage\u001b[0m \u001b[0;34m=\u001b[0m \u001b[0mself\u001b[0m\u001b[0;34m.\u001b[0m\u001b[0mtransform\u001b[0m\u001b[0;34m(\u001b[0m\u001b[0mimage\u001b[0m\u001b[0;34m)\u001b[0m\u001b[0;34m\u001b[0m\u001b[0;34m\u001b[0m\u001b[0m\n\u001b[0m\u001b[1;32m     78\u001b[0m \u001b[0;34m\u001b[0m\u001b[0m\n\u001b[1;32m     79\u001b[0m         \u001b[0;32mif\u001b[0m \u001b[0mself\u001b[0m\u001b[0;34m.\u001b[0m\u001b[0mtarget_transform\u001b[0m\u001b[0;34m:\u001b[0m\u001b[0;34m\u001b[0m\u001b[0;34m\u001b[0m\u001b[0m\n",
            "\u001b[0;32m/usr/local/lib/python3.10/dist-packages/torchvision/transforms/transforms.py\u001b[0m in \u001b[0;36m__call__\u001b[0;34m(self, img)\u001b[0m\n\u001b[1;32m     93\u001b[0m     \u001b[0;32mdef\u001b[0m \u001b[0m__call__\u001b[0m\u001b[0;34m(\u001b[0m\u001b[0mself\u001b[0m\u001b[0;34m,\u001b[0m \u001b[0mimg\u001b[0m\u001b[0;34m)\u001b[0m\u001b[0;34m:\u001b[0m\u001b[0;34m\u001b[0m\u001b[0;34m\u001b[0m\u001b[0m\n\u001b[1;32m     94\u001b[0m         \u001b[0;32mfor\u001b[0m \u001b[0mt\u001b[0m \u001b[0;32min\u001b[0m \u001b[0mself\u001b[0m\u001b[0;34m.\u001b[0m\u001b[0mtransforms\u001b[0m\u001b[0;34m:\u001b[0m\u001b[0;34m\u001b[0m\u001b[0;34m\u001b[0m\u001b[0m\n\u001b[0;32m---> 95\u001b[0;31m             \u001b[0mimg\u001b[0m \u001b[0;34m=\u001b[0m \u001b[0mt\u001b[0m\u001b[0;34m(\u001b[0m\u001b[0mimg\u001b[0m\u001b[0;34m)\u001b[0m\u001b[0;34m\u001b[0m\u001b[0;34m\u001b[0m\u001b[0m\n\u001b[0m\u001b[1;32m     96\u001b[0m         \u001b[0;32mreturn\u001b[0m \u001b[0mimg\u001b[0m\u001b[0;34m\u001b[0m\u001b[0;34m\u001b[0m\u001b[0m\n\u001b[1;32m     97\u001b[0m \u001b[0;34m\u001b[0m\u001b[0m\n",
            "\u001b[0;32m/usr/local/lib/python3.10/dist-packages/torch/nn/modules/module.py\u001b[0m in \u001b[0;36m_call_impl\u001b[0;34m(self, *args, **kwargs)\u001b[0m\n\u001b[1;32m   1499\u001b[0m                 \u001b[0;32mor\u001b[0m \u001b[0m_global_backward_pre_hooks\u001b[0m \u001b[0;32mor\u001b[0m \u001b[0m_global_backward_hooks\u001b[0m\u001b[0;34m\u001b[0m\u001b[0;34m\u001b[0m\u001b[0m\n\u001b[1;32m   1500\u001b[0m                 or _global_forward_hooks or _global_forward_pre_hooks):\n\u001b[0;32m-> 1501\u001b[0;31m             \u001b[0;32mreturn\u001b[0m \u001b[0mforward_call\u001b[0m\u001b[0;34m(\u001b[0m\u001b[0;34m*\u001b[0m\u001b[0margs\u001b[0m\u001b[0;34m,\u001b[0m \u001b[0;34m**\u001b[0m\u001b[0mkwargs\u001b[0m\u001b[0;34m)\u001b[0m\u001b[0;34m\u001b[0m\u001b[0;34m\u001b[0m\u001b[0m\n\u001b[0m\u001b[1;32m   1502\u001b[0m         \u001b[0;31m# Do not call functions when jit is used\u001b[0m\u001b[0;34m\u001b[0m\u001b[0;34m\u001b[0m\u001b[0m\n\u001b[1;32m   1503\u001b[0m         \u001b[0mfull_backward_hooks\u001b[0m\u001b[0;34m,\u001b[0m \u001b[0mnon_full_backward_hooks\u001b[0m \u001b[0;34m=\u001b[0m \u001b[0;34m[\u001b[0m\u001b[0;34m]\u001b[0m\u001b[0;34m,\u001b[0m \u001b[0;34m[\u001b[0m\u001b[0;34m]\u001b[0m\u001b[0;34m\u001b[0m\u001b[0;34m\u001b[0m\u001b[0m\n",
            "\u001b[0;32m/usr/local/lib/python3.10/dist-packages/torchvision/transforms/transforms.py\u001b[0m in \u001b[0;36mforward\u001b[0;34m(self, img)\u001b[0m\n\u001b[1;32m    359\u001b[0m             \u001b[0mPIL\u001b[0m \u001b[0mImage\u001b[0m \u001b[0;32mor\u001b[0m \u001b[0mTensor\u001b[0m\u001b[0;34m:\u001b[0m \u001b[0mRescaled\u001b[0m \u001b[0mimage\u001b[0m\u001b[0;34m.\u001b[0m\u001b[0;34m\u001b[0m\u001b[0;34m\u001b[0m\u001b[0m\n\u001b[1;32m    360\u001b[0m         \"\"\"\n\u001b[0;32m--> 361\u001b[0;31m         \u001b[0;32mreturn\u001b[0m \u001b[0mF\u001b[0m\u001b[0;34m.\u001b[0m\u001b[0mresize\u001b[0m\u001b[0;34m(\u001b[0m\u001b[0mimg\u001b[0m\u001b[0;34m,\u001b[0m \u001b[0mself\u001b[0m\u001b[0;34m.\u001b[0m\u001b[0msize\u001b[0m\u001b[0;34m,\u001b[0m \u001b[0mself\u001b[0m\u001b[0;34m.\u001b[0m\u001b[0minterpolation\u001b[0m\u001b[0;34m,\u001b[0m \u001b[0mself\u001b[0m\u001b[0;34m.\u001b[0m\u001b[0mmax_size\u001b[0m\u001b[0;34m,\u001b[0m \u001b[0mself\u001b[0m\u001b[0;34m.\u001b[0m\u001b[0mantialias\u001b[0m\u001b[0;34m)\u001b[0m\u001b[0;34m\u001b[0m\u001b[0;34m\u001b[0m\u001b[0m\n\u001b[0m\u001b[1;32m    362\u001b[0m \u001b[0;34m\u001b[0m\u001b[0m\n\u001b[1;32m    363\u001b[0m     \u001b[0;32mdef\u001b[0m \u001b[0m__repr__\u001b[0m\u001b[0;34m(\u001b[0m\u001b[0mself\u001b[0m\u001b[0;34m)\u001b[0m \u001b[0;34m->\u001b[0m \u001b[0mstr\u001b[0m\u001b[0;34m:\u001b[0m\u001b[0;34m\u001b[0m\u001b[0;34m\u001b[0m\u001b[0m\n",
            "\u001b[0;32m/usr/local/lib/python3.10/dist-packages/torchvision/transforms/functional.py\u001b[0m in \u001b[0;36mresize\u001b[0;34m(img, size, interpolation, max_size, antialias)\u001b[0m\n\u001b[1;32m    488\u001b[0m             \u001b[0mwarnings\u001b[0m\u001b[0;34m.\u001b[0m\u001b[0mwarn\u001b[0m\u001b[0;34m(\u001b[0m\u001b[0;34m\"Anti-alias option is always applied for PIL Image input. Argument antialias is ignored.\"\u001b[0m\u001b[0;34m)\u001b[0m\u001b[0;34m\u001b[0m\u001b[0;34m\u001b[0m\u001b[0m\n\u001b[1;32m    489\u001b[0m         \u001b[0mpil_interpolation\u001b[0m \u001b[0;34m=\u001b[0m \u001b[0mpil_modes_mapping\u001b[0m\u001b[0;34m[\u001b[0m\u001b[0minterpolation\u001b[0m\u001b[0;34m]\u001b[0m\u001b[0;34m\u001b[0m\u001b[0;34m\u001b[0m\u001b[0m\n\u001b[0;32m--> 490\u001b[0;31m         \u001b[0;32mreturn\u001b[0m \u001b[0mF_pil\u001b[0m\u001b[0;34m.\u001b[0m\u001b[0mresize\u001b[0m\u001b[0;34m(\u001b[0m\u001b[0mimg\u001b[0m\u001b[0;34m,\u001b[0m \u001b[0msize\u001b[0m\u001b[0;34m=\u001b[0m\u001b[0moutput_size\u001b[0m\u001b[0;34m,\u001b[0m \u001b[0minterpolation\u001b[0m\u001b[0;34m=\u001b[0m\u001b[0mpil_interpolation\u001b[0m\u001b[0;34m)\u001b[0m\u001b[0;34m\u001b[0m\u001b[0;34m\u001b[0m\u001b[0m\n\u001b[0m\u001b[1;32m    491\u001b[0m \u001b[0;34m\u001b[0m\u001b[0m\n\u001b[1;32m    492\u001b[0m     \u001b[0;32mreturn\u001b[0m \u001b[0mF_t\u001b[0m\u001b[0;34m.\u001b[0m\u001b[0mresize\u001b[0m\u001b[0;34m(\u001b[0m\u001b[0mimg\u001b[0m\u001b[0;34m,\u001b[0m \u001b[0msize\u001b[0m\u001b[0;34m=\u001b[0m\u001b[0moutput_size\u001b[0m\u001b[0;34m,\u001b[0m \u001b[0minterpolation\u001b[0m\u001b[0;34m=\u001b[0m\u001b[0minterpolation\u001b[0m\u001b[0;34m.\u001b[0m\u001b[0mvalue\u001b[0m\u001b[0;34m,\u001b[0m \u001b[0mantialias\u001b[0m\u001b[0;34m=\u001b[0m\u001b[0mantialias\u001b[0m\u001b[0;34m)\u001b[0m\u001b[0;34m\u001b[0m\u001b[0;34m\u001b[0m\u001b[0m\n",
            "\u001b[0;32m/usr/local/lib/python3.10/dist-packages/torchvision/transforms/_functional_pil.py\u001b[0m in \u001b[0;36mresize\u001b[0;34m(img, size, interpolation)\u001b[0m\n\u001b[1;32m    248\u001b[0m         \u001b[0;32mraise\u001b[0m \u001b[0mTypeError\u001b[0m\u001b[0;34m(\u001b[0m\u001b[0;34mf\"Got inappropriate size arg: {size}\"\u001b[0m\u001b[0;34m)\u001b[0m\u001b[0;34m\u001b[0m\u001b[0;34m\u001b[0m\u001b[0m\n\u001b[1;32m    249\u001b[0m \u001b[0;34m\u001b[0m\u001b[0m\n\u001b[0;32m--> 250\u001b[0;31m     \u001b[0;32mreturn\u001b[0m \u001b[0mimg\u001b[0m\u001b[0;34m.\u001b[0m\u001b[0mresize\u001b[0m\u001b[0;34m(\u001b[0m\u001b[0mtuple\u001b[0m\u001b[0;34m(\u001b[0m\u001b[0msize\u001b[0m\u001b[0;34m[\u001b[0m\u001b[0;34m:\u001b[0m\u001b[0;34m:\u001b[0m\u001b[0;34m-\u001b[0m\u001b[0;36m1\u001b[0m\u001b[0;34m]\u001b[0m\u001b[0;34m)\u001b[0m\u001b[0;34m,\u001b[0m \u001b[0minterpolation\u001b[0m\u001b[0;34m)\u001b[0m\u001b[0;34m\u001b[0m\u001b[0;34m\u001b[0m\u001b[0m\n\u001b[0m\u001b[1;32m    251\u001b[0m \u001b[0;34m\u001b[0m\u001b[0m\n\u001b[1;32m    252\u001b[0m \u001b[0;34m\u001b[0m\u001b[0m\n",
            "\u001b[0;32m/usr/local/lib/python3.10/dist-packages/PIL/Image.py\u001b[0m in \u001b[0;36mresize\u001b[0;34m(self, size, resample, box, reducing_gap)\u001b[0m\n\u001b[1;32m   2190\u001b[0m                 )\n\u001b[1;32m   2191\u001b[0m \u001b[0;34m\u001b[0m\u001b[0m\n\u001b[0;32m-> 2192\u001b[0;31m         \u001b[0;32mreturn\u001b[0m \u001b[0mself\u001b[0m\u001b[0;34m.\u001b[0m\u001b[0m_new\u001b[0m\u001b[0;34m(\u001b[0m\u001b[0mself\u001b[0m\u001b[0;34m.\u001b[0m\u001b[0mim\u001b[0m\u001b[0;34m.\u001b[0m\u001b[0mresize\u001b[0m\u001b[0;34m(\u001b[0m\u001b[0msize\u001b[0m\u001b[0;34m,\u001b[0m \u001b[0mresample\u001b[0m\u001b[0;34m,\u001b[0m \u001b[0mbox\u001b[0m\u001b[0;34m)\u001b[0m\u001b[0;34m)\u001b[0m\u001b[0;34m\u001b[0m\u001b[0;34m\u001b[0m\u001b[0m\n\u001b[0m\u001b[1;32m   2193\u001b[0m \u001b[0;34m\u001b[0m\u001b[0m\n\u001b[1;32m   2194\u001b[0m     \u001b[0;32mdef\u001b[0m \u001b[0mreduce\u001b[0m\u001b[0;34m(\u001b[0m\u001b[0mself\u001b[0m\u001b[0;34m,\u001b[0m \u001b[0mfactor\u001b[0m\u001b[0;34m,\u001b[0m \u001b[0mbox\u001b[0m\u001b[0;34m=\u001b[0m\u001b[0;32mNone\u001b[0m\u001b[0;34m)\u001b[0m\u001b[0;34m:\u001b[0m\u001b[0;34m\u001b[0m\u001b[0;34m\u001b[0m\u001b[0m\n",
            "\u001b[0;31mKeyboardInterrupt\u001b[0m: "
          ]
        }
      ]
    },
    {
      "cell_type": "code",
      "source": [
        "# Plot loss curves\n",
        "plot_loss_curves(regnet_y_1_6gf_results)"
      ],
      "metadata": {
        "id": "6nhXDLzHdnZ4"
      },
      "execution_count": null,
      "outputs": []
    },
    {
      "cell_type": "code",
      "source": [
        "# Save RegNet model\n",
        "save_model(regnet_y_1_6gf,\n",
        "           target_dir=\"models\",\n",
        "           model_name=\"regnet_y_6gf_food101.pth\")"
      ],
      "metadata": {
        "id": "wshGUfM7dwja"
      },
      "execution_count": null,
      "outputs": []
    },
    {
      "cell_type": "markdown",
      "source": [
        "## Checking the sizes of the models and comparing results"
      ],
      "metadata": {
        "id": "IEwpQhWveoJI"
      }
    },
    {
      "cell_type": "code",
      "source": [
        "from pathlib import Path\n",
        "\n",
        "# get the model size in bytes then convert to megabytes\n",
        "mnasnet1_3_model_size = Path(\"models/regnet_y_1_6gf.pth\").stat().st_size / (1024 * 1024)\n",
        "print(f\"Pretrained MNASNet1_3 model size: {mnasnet1_3_model_size:.2f} MB\")\n",
        "\n",
        "regnet_y_1_6gf_model_size = Path(\"models/regnet_y_1_6gf.pth\").stat().st_size / (1024 * 1024)\n",
        "print(f\"Pretrained RegNet_Y_1_6GF model size: {regnet_y_1_6gf_model_size:.2f} MB\")"
      ],
      "metadata": {
        "id": "tq6_H-4Ien8m"
      },
      "execution_count": null,
      "outputs": []
    },
    {
      "cell_type": "code",
      "source": [
        "# Comparing total parameters\n",
        "mnasnet_total_params = sum(torch.numel(param) for param in mnasnet1_3.parameters())\n",
        "regnet_total_params = sum(torch.numel(param) for param in regnet_y_1_6gf.parameters())\n",
        "\n",
        "print(f\"MNASNET1_3 total parameters: {mnasnet_total_params}. RegNet_Y_1_6GF total parameters: {regnet_total_params}\")"
      ],
      "metadata": {
        "id": "ObYDjJpVfOIT"
      },
      "execution_count": null,
      "outputs": []
    },
    {
      "cell_type": "code",
      "source": [
        "# See total stats\n",
        "mnasnet_stats = {\"test_loss\": mnasnet1_3_results[\"test_loss\"][-1],\n",
        "                \"test_acc\": mnasnet1_3_results[\"test_acc\"][-1],\n",
        "                \"number_of_parameters\": mnasnet_total_params,\n",
        "                \"model_size (MB)\": mnasnet1_3_model_size}\n",
        "\n",
        "regnet_stats = {\"test_loss\": regnet_y_1_6gf_results[\"test_loss\"][-1],\n",
        "                \"test_acc\": regnet_y_1_6gf_results[\"test_acc\"][-1],\n",
        "                \"number_of_parameters\": regnet_total_params,\n",
        "                \"model_size (MB)\": regnet_y_1_6gf_model_size}\n",
        "\n",
        "mnasnet_stats, regnet_stats"
      ],
      "metadata": {
        "id": "Op6EXbaggvB6"
      },
      "execution_count": null,
      "outputs": []
    }
  ]
}